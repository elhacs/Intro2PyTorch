{
 "cells": [
  {
   "cell_type": "markdown",
   "metadata": {},
   "source": [
    "# Introducción a PyTorch\n",
    "\n",
    "\n",
    "***"
   ]
  },
  {
   "cell_type": "markdown",
   "metadata": {},
   "source": [
    "Esto simplemente es para que las gráficas se vean dentro del archivo."
   ]
  },
  {
   "cell_type": "code",
   "execution_count": 1,
   "metadata": {},
   "outputs": [],
   "source": [
    "%matplotlib inline\n",
    "%config InlineBackend.figure_format = 'retina'"
   ]
  },
  {
   "cell_type": "markdown",
   "metadata": {},
   "source": [
    "## 1.- ¿Por donde empezamos?\n",
    "\n",
    "\n",
    "Importando las librerias necesarias"
   ]
  },
  {
   "cell_type": "code",
   "execution_count": 2,
   "metadata": {},
   "outputs": [],
   "source": [
    "from __future__ import print_function\n",
    "import torch"
   ]
  },
  {
   "cell_type": "markdown",
   "metadata": {},
   "source": [
    "El elemento principal será el concepto de **tensor** que lo podemos pensar como un arreglo multidimensional.\n",
    "\n",
    "Construimos una matriz vacía 5x3"
   ]
  },
  {
   "cell_type": "code",
   "execution_count": 3,
   "metadata": {},
   "outputs": [
    {
     "name": "stdout",
     "output_type": "stream",
     "text": [
      "tensor([[5.0782e+31, 4.2964e+24, 1.7753e+28],\n",
      "        [1.3458e-14, 1.4585e-19, 9.3233e-09],\n",
      "        [1.1703e-19, 1.5637e-01, 1.3000e+34],\n",
      "        [1.7592e+22, 4.1223e+21, 1.7974e+19],\n",
      "        [1.4585e-19, 6.7421e+22, 5.0761e+31]])\n"
     ]
    }
   ],
   "source": [
    "x = torch.empty(5, 3)\n",
    "print(x)"
   ]
  },
  {
   "cell_type": "markdown",
   "metadata": {},
   "source": [
    "Construimos una matriz aleatorioa 5x3\n"
   ]
  },
  {
   "cell_type": "code",
   "execution_count": 4,
   "metadata": {},
   "outputs": [
    {
     "name": "stdout",
     "output_type": "stream",
     "text": [
      "tensor([[0.9588, 0.9869, 0.5743],\n",
      "        [0.6178, 0.3496, 0.2591],\n",
      "        [0.9010, 0.2621, 0.6906],\n",
      "        [0.5249, 0.5369, 0.7292],\n",
      "        [0.1288, 0.4366, 0.4449]])\n"
     ]
    }
   ],
   "source": [
    "x = torch.rand(5, 3)\n",
    "print(x)"
   ]
  },
  {
   "cell_type": "markdown",
   "metadata": {},
   "source": [
    "Construimos una matriz llena de ceros con elementos tipo entero de 64 bits\n",
    "\n"
   ]
  },
  {
   "cell_type": "code",
   "execution_count": 5,
   "metadata": {},
   "outputs": [
    {
     "name": "stdout",
     "output_type": "stream",
     "text": [
      "tensor([[0, 0, 0],\n",
      "        [0, 0, 0],\n",
      "        [0, 0, 0],\n",
      "        [0, 0, 0],\n",
      "        [0, 0, 0]])\n"
     ]
    }
   ],
   "source": [
    "x = torch.zeros(5, 3, dtype=torch.long)\n",
    "print(x)"
   ]
  },
  {
   "cell_type": "markdown",
   "metadata": {},
   "source": [
    "Construir un tensor a partir de información\n"
   ]
  },
  {
   "cell_type": "code",
   "execution_count": 6,
   "metadata": {},
   "outputs": [
    {
     "name": "stdout",
     "output_type": "stream",
     "text": [
      "tensor([5.5000, 3.0000])\n"
     ]
    }
   ],
   "source": [
    "x = torch.tensor([5.5, 3])\n",
    "print(x)"
   ]
  },
  {
   "cell_type": "markdown",
   "metadata": {},
   "source": [
    "o crear un tensor basado en un tensor existente. Estos métodos\n",
    "reutilizan las propiedades del tensor original, e.g. dtype, etc.\n",
    "Se pueden cambiar si se requiere.\n"
   ]
  },
  {
   "cell_type": "code",
   "execution_count": 7,
   "metadata": {},
   "outputs": [
    {
     "name": "stdout",
     "output_type": "stream",
     "text": [
      "tensor([[1., 1., 1.],\n",
      "        [1., 1., 1.],\n",
      "        [1., 1., 1.],\n",
      "        [1., 1., 1.],\n",
      "        [1., 1., 1.]], dtype=torch.float64)\n",
      "tensor([[ 0.8441, -0.1613,  1.3354],\n",
      "        [-2.1559, -0.2797, -0.2001],\n",
      "        [-0.2796,  0.8851,  0.5842],\n",
      "        [ 0.5092, -1.2767,  1.7723],\n",
      "        [-0.4582, -0.0246,  0.2916]])\n"
     ]
    }
   ],
   "source": [
    "x = x.new_ones(5, 3, dtype=torch.double)      # Creamos un tensor de tamaño 5x3\n",
    "print(x)\n",
    "\n",
    "x = torch.randn_like(x, dtype=torch.float)    # sobreescribimos dtype!\n",
    "print(x)                                      # tiene el mismo tamaño que el original."
   ]
  },
  {
   "cell_type": "markdown",
   "metadata": {},
   "source": [
    "Para saber su tamaño (en general)\n",
    "\n"
   ]
  },
  {
   "cell_type": "code",
   "execution_count": 8,
   "metadata": {},
   "outputs": [
    {
     "name": "stdout",
     "output_type": "stream",
     "text": [
      "torch.Size([5, 3])\n"
     ]
    }
   ],
   "source": [
    "print(x.size())"
   ]
  },
  {
   "cell_type": "markdown",
   "metadata": {},
   "source": [
    "<div class=\"alert alert-info\"><h4>Note</h4><p>``torch.Size`` es un tupla, por lo tanto, soporta sus operaciones.</p></div>\n"
   ]
  },
  {
   "cell_type": "markdown",
   "metadata": {},
   "source": [
    "### Operaciones\n",
    "\n",
    "\n",
    "Los tensores típicamente soportan dos tipos de operaciones:\n",
    "\n",
    "* In situ: Afecta al tensor sobre el cual son llamadas. **Siempre tienen un _ al final de su nombre**\n",
    "* No in situ: Producen un nuevo tensor.\n",
    "\n",
    "Hay varias formas de la escritura de operaciones.\n",
    "\n",
    "Por ejemplo, "
   ]
  },
  {
   "cell_type": "markdown",
   "metadata": {},
   "source": [
    "#### Suma\n",
    "\n",
    "* Escritura 1"
   ]
  },
  {
   "cell_type": "code",
   "execution_count": 9,
   "metadata": {},
   "outputs": [
    {
     "name": "stdout",
     "output_type": "stream",
     "text": [
      "tensor([[0.6910, 0.2660, 0.8864],\n",
      "        [0.6342, 0.8031, 0.4348],\n",
      "        [0.7052, 0.1312, 0.2854],\n",
      "        [0.8973, 0.3373, 0.2291],\n",
      "        [0.0682, 0.2181, 0.9803]])\n",
      "tensor([[ 1.5352,  0.1047,  2.2217],\n",
      "        [-1.5217,  0.5234,  0.2347],\n",
      "        [ 0.4256,  1.0163,  0.8696],\n",
      "        [ 1.4065, -0.9394,  2.0014],\n",
      "        [-0.3900,  0.1935,  1.2719]])\n"
     ]
    }
   ],
   "source": [
    "y = torch.rand(5, 3)\n",
    "print(y)\n",
    "print(x + y) # NUEVO TENSOR"
   ]
  },
  {
   "cell_type": "markdown",
   "metadata": {},
   "source": [
    "* Escritura 2\n"
   ]
  },
  {
   "cell_type": "code",
   "execution_count": 10,
   "metadata": {},
   "outputs": [
    {
     "name": "stdout",
     "output_type": "stream",
     "text": [
      "tensor([[ 1.5352,  0.1047,  2.2217],\n",
      "        [-1.5217,  0.5234,  0.2347],\n",
      "        [ 0.4256,  1.0163,  0.8696],\n",
      "        [ 1.4065, -0.9394,  2.0014],\n",
      "        [-0.3900,  0.1935,  1.2719]])\n",
      "tensor([[0.6910, 0.2660, 0.8864],\n",
      "        [0.6342, 0.8031, 0.4348],\n",
      "        [0.7052, 0.1312, 0.2854],\n",
      "        [0.8973, 0.3373, 0.2291],\n",
      "        [0.0682, 0.2181, 0.9803]])\n"
     ]
    }
   ],
   "source": [
    "print(torch.add(x, y)) # NUEVO TENSOR SIN MODIFICAR A X Y Y\n",
    "print(y)"
   ]
  },
  {
   "cell_type": "markdown",
   "metadata": {},
   "source": [
    "La suma tiene como argumento el tensor de salida.\n"
   ]
  },
  {
   "cell_type": "code",
   "execution_count": 11,
   "metadata": {},
   "outputs": [
    {
     "name": "stdout",
     "output_type": "stream",
     "text": [
      "tensor([[ 1.5352,  0.1047,  2.2217],\n",
      "        [-1.5217,  0.5234,  0.2347],\n",
      "        [ 0.4256,  1.0163,  0.8696],\n",
      "        [ 1.4065, -0.9394,  2.0014],\n",
      "        [-0.3900,  0.1935,  1.2719]])\n"
     ]
    }
   ],
   "source": [
    "result = torch.empty(5, 3)\n",
    "torch.add(x, y, out=result)\n",
    "print(result)"
   ]
  },
  {
   "cell_type": "markdown",
   "metadata": {},
   "source": [
    "<div class=\"alert alert-info\"><h4>Note</h4><p>Recordemos que en Python todo son clases y métodos</p></div>\n",
    "*Escritura 3"
   ]
  },
  {
   "cell_type": "code",
   "execution_count": 12,
   "metadata": {},
   "outputs": [
    {
     "name": "stdout",
     "output_type": "stream",
     "text": [
      "tensor([[ 1.5352,  0.1047,  2.2217],\n",
      "        [-1.5217,  0.5234,  0.2347],\n",
      "        [ 0.4256,  1.0163,  0.8696],\n",
      "        [ 1.4065, -0.9394,  2.0014],\n",
      "        [-0.3900,  0.1935,  1.2719]])\n"
     ]
    }
   ],
   "source": [
    "y.add_(x)\n",
    "print(y)"
   ]
  },
  {
   "cell_type": "markdown",
   "metadata": {},
   "source": [
    "<div class=\"alert alert-info\"><h4>Note</h4><p>Este tipo de operaciones cambian ''y''.\n",
    "    Por ejemplo: ``y.copy_(x)``, ``y.t_()`.</p></div>\n",
    "\n",
    "Podemos usar el sistema de indexación estándar como en Numpy (iniciamos con 0, como la gente decente).\n"
   ]
  },
  {
   "cell_type": "code",
   "execution_count": 13,
   "metadata": {},
   "outputs": [
    {
     "name": "stdout",
     "output_type": "stream",
     "text": [
      "tensor([[ 0.8441, -0.1613,  1.3354],\n",
      "        [-2.1559, -0.2797, -0.2001],\n",
      "        [-0.2796,  0.8851,  0.5842],\n",
      "        [ 0.5092, -1.2767,  1.7723],\n",
      "        [-0.4582, -0.0246,  0.2916]])\n"
     ]
    }
   ],
   "source": [
    "print(x)"
   ]
  },
  {
   "cell_type": "code",
   "execution_count": 14,
   "metadata": {},
   "outputs": [
    {
     "name": "stdout",
     "output_type": "stream",
     "text": [
      "tensor([-0.1613, -0.2797,  0.8851, -1.2767, -0.0246])\n"
     ]
    }
   ],
   "source": [
    "print(x[:, 1])"
   ]
  },
  {
   "cell_type": "markdown",
   "metadata": {},
   "source": [
    "Podemos cambiar el tamaño y forma del tensor con ``torch.view``. Sin embargo, debemos pensarlo como vistas del tensor y no como copias del tensor que ocuparían memoria.\n"
   ]
  },
  {
   "cell_type": "code",
   "execution_count": 15,
   "metadata": {},
   "outputs": [
    {
     "name": "stdout",
     "output_type": "stream",
     "text": [
      "tensor([[ 0.1868, -1.6808,  0.6165, -0.1443],\n",
      "        [ 0.7881, -0.5540, -0.2496, -1.6792],\n",
      "        [-0.8590, -0.4799, -0.6260,  0.6637],\n",
      "        [ 1.0207, -0.2112, -1.6405,  0.6218]]) \n",
      "\n",
      "tensor([ 0.1868, -1.6808,  0.6165, -0.1443,  0.7881, -0.5540, -0.2496, -1.6792,\n",
      "        -0.8590, -0.4799, -0.6260,  0.6637,  1.0207, -0.2112, -1.6405,  0.6218]) \n",
      "\n",
      "tensor([[ 0.1868, -1.6808,  0.6165, -0.1443,  0.7881, -0.5540, -0.2496, -1.6792],\n",
      "        [-0.8590, -0.4799, -0.6260,  0.6637,  1.0207, -0.2112, -1.6405,  0.6218]]) \n",
      "\n",
      "tensor([[ 0.1868, -1.6808,  0.6165, -0.1443],\n",
      "        [ 0.7881, -0.5540, -0.2496, -1.6792],\n",
      "        [-0.8590, -0.4799, -0.6260,  0.6637],\n",
      "        [ 1.0207, -0.2112, -1.6405,  0.6218]]) \n",
      "\n",
      "tensor([[[ 0.1868, -1.6808,  0.6165, -0.1443],\n",
      "         [ 0.7881, -0.5540, -0.2496, -1.6792]],\n",
      "\n",
      "        [[-0.8590, -0.4799, -0.6260,  0.6637],\n",
      "         [ 1.0207, -0.2112, -1.6405,  0.6218]]]) \n",
      "\n",
      "torch.Size([4, 4]) torch.Size([16]) torch.Size([2, 8]) torch.Size([4, 4]) torch.Size([2, 2, 4])\n"
     ]
    }
   ],
   "source": [
    "x = torch.randn(4, 4) # Tensor con una distribución normal, en lugar de una uniforme con rand\n",
    "print(x,\"\\n\")\n",
    "y = x.view(16) # Vemos al tensor como un tensor (1,16)\n",
    "print(y,\"\\n\")\n",
    "z = x.view(-1, 8)  # El valor de -1 se deducirá de las otras dimensiones\n",
    "print(z,\"\\n\")\n",
    "r = x.view(-1,4)\n",
    "print(r,\"\\n\")\n",
    "w = x.view(2,2,4) # Se divide en \"2\" de dimensiones 2x4\n",
    "print(w,\"\\n\")\n",
    "print(x.size(), y.size(), z.size(), r.size(), w.size())"
   ]
  },
  {
   "cell_type": "markdown",
   "metadata": {},
   "source": [
    "Si tenemos un tensor de un elemento, usando ``.item()`` para\n",
    "obtener el valor como un número de Python.\n"
   ]
  },
  {
   "cell_type": "code",
   "execution_count": 16,
   "metadata": {},
   "outputs": [
    {
     "name": "stdout",
     "output_type": "stream",
     "text": [
      "tensor([-1.9899])\n",
      "-1.9899187088012695\n"
     ]
    }
   ],
   "source": [
    "x = torch.randn(1)\n",
    "print(x)\n",
    "print(x.item())"
   ]
  },
  {
   "cell_type": "markdown",
   "metadata": {},
   "source": [
    "**Lo que no se dijo:**\n",
    "\n",
    "  100+ operaciones de tensores tales como: transposing, indexing, slicing,\n",
    "  mathematical operations, linear algebra, random numbers, etc.\n",
    "  [Aquí](https://pytorch.org/docs/torch) más info \n",
    "  \n",
    "### Conexión con NumPy \n",
    "\n",
    "\n",
    "Podemos convertir entre tensores de PyTorch a un array de Numpy.\n",
    "\n",
    "Los dos objetos compartirán la localización en la memoria.\n",
    "\n",
    "**Conviertiendo tensores a arrays**"
   ]
  },
  {
   "cell_type": "code",
   "execution_count": 17,
   "metadata": {},
   "outputs": [
    {
     "name": "stdout",
     "output_type": "stream",
     "text": [
      "tensor([1., 1., 1., 1., 1.])\n"
     ]
    }
   ],
   "source": [
    "a = torch.ones(5)\n",
    "print(a)"
   ]
  },
  {
   "cell_type": "code",
   "execution_count": 18,
   "metadata": {},
   "outputs": [
    {
     "name": "stdout",
     "output_type": "stream",
     "text": [
      "[1. 1. 1. 1. 1.]\n"
     ]
    }
   ],
   "source": [
    "b = a.numpy()\n",
    "print(b)"
   ]
  },
  {
   "cell_type": "markdown",
   "metadata": {},
   "source": [
    "Veamos como se modifican los valores en el array\n"
   ]
  },
  {
   "cell_type": "code",
   "execution_count": 19,
   "metadata": {},
   "outputs": [
    {
     "name": "stdout",
     "output_type": "stream",
     "text": [
      "tensor([2., 2., 2., 2., 2.])\n",
      "[2. 2. 2. 2. 2.]\n"
     ]
    }
   ],
   "source": [
    "a.add_(1)\n",
    "print(a)\n",
    "print(b)"
   ]
  },
  {
   "cell_type": "markdown",
   "metadata": {},
   "source": [
    "**Converting NumPy Array to Torch Tensor**\n",
    "\n",
    "Veamos como cambiando el array cambia el tensor automáticamente."
   ]
  },
  {
   "cell_type": "code",
   "execution_count": 20,
   "metadata": {},
   "outputs": [
    {
     "name": "stdout",
     "output_type": "stream",
     "text": [
      "[2. 2. 2. 2. 2.]\n",
      "tensor([2., 2., 2., 2., 2.], dtype=torch.float64)\n"
     ]
    }
   ],
   "source": [
    "import numpy as np\n",
    "a = np.ones(5)\n",
    "b = torch.from_numpy(a)\n",
    "np.add(a, 1, out=a)\n",
    "print(a)\n",
    "print(b)"
   ]
  },
  {
   "cell_type": "markdown",
   "metadata": {},
   "source": [
    "***\n",
    "## 2.- Ejemplo de Red Neuronal Artificial (RNA)\n",
    "\n",
    "Usaremos el viejo conocido ejemplo [MNIST](https://en.wikipedia.org/wiki/MNIST_database), que contiene\n",
    "imágenes de números manuscritos del 0-9\n",
    "\n",
    "**Carga de la base de dato (dataset)**"
   ]
  },
  {
   "cell_type": "code",
   "execution_count": 21,
   "metadata": {},
   "outputs": [],
   "source": [
    "import numpy as np\n",
    "import torch\n",
    "from torch import nn\n",
    "from torch import optim\n",
    "import torch.nn.functional as F\n",
    "\n",
    "import utils\n",
    "\n",
    "import matplotlib.pyplot as plt\n",
    "from torchvision import datasets, transforms"
   ]
  },
  {
   "cell_type": "markdown",
   "metadata": {},
   "source": [
    "Para usar el dataset se debe transforma en un tensor de Pytorch, definimos la transfomración *transform* que usaremos en el proceso de carga.\n",
    "\n",
    "Definimos un *DataLoader*, un objeto [generador de Python](https://wiki.python.org/moin/Generators) cuyo comentido es proporcionar las imágenes en grupos de *batch_size*.\n",
    "\n",
    "Separamos al dataset en dos, un conjunto de entrenamiento y otro de prueba."
   ]
  },
  {
   "cell_type": "code",
   "execution_count": 22,
   "metadata": {},
   "outputs": [],
   "source": [
    "#clase de torchvision que concatena transformaciones en este caso ToTensor(es obvio) y Normalize(Normaliza un tensor de imagen a una media y desviación )\n",
    "transform = transforms.Compose([transforms.ToTensor(),\n",
    "                                transforms.Normalize((0.5),(0.5))])\n",
    "# descargamos el dataset MNIST, lo marcamos como entrenador y aplicamos las transformaciones\n",
    "train_set = datasets.MNIST('MNIST_data/', download=True, train=True, transform=transform)\n",
    "# Generamos un iterador de Torch que suporta todas las operaciones de la libreria.\n",
    "train_loader = torch.utils.data.DataLoader(train_set, batch_size=64, shuffle=True) \n",
    "#batch_size cuantas muestras por lote serán cargadas (default = 1)\n",
    "\n",
    "test_set = datasets.MNIST('MNIST_data/', download=True, train=False, transform=transform)\n",
    "test_loader = torch.utils.data.DataLoader(test_set, batch_size=64, shuffle=True)"
   ]
  },
  {
   "cell_type": "markdown",
   "metadata": {},
   "source": [
    "Iteramos sobre el conjunto de entrenamiento y visualizamos un muestra"
   ]
  },
  {
   "cell_type": "code",
   "execution_count": 23,
   "metadata": {},
   "outputs": [],
   "source": [
    "data_iter = iter(train_loader)\n",
    "images, labels = data_iter.next()"
   ]
  },
  {
   "cell_type": "markdown",
   "metadata": {},
   "source": [
    "Ahora veamos como se ve una muestra"
   ]
  },
  {
   "cell_type": "code",
   "execution_count": 24,
   "metadata": {},
   "outputs": [
    {
     "name": "stdout",
     "output_type": "stream",
     "text": [
      "[[-1.         -1.         -1.         -1.         -1.         -1.\n",
      "  -1.         -1.         -1.         -1.         -1.         -1.\n",
      "  -1.         -1.         -1.         -1.         -1.         -1.\n",
      "  -1.         -1.         -1.         -1.         -1.         -1.\n",
      "  -1.         -1.         -1.         -1.        ]\n",
      " [-1.         -1.         -1.         -1.         -1.         -1.\n",
      "  -1.         -1.         -1.         -1.         -1.         -1.\n",
      "  -1.         -1.         -1.         -1.         -1.         -1.\n",
      "  -1.         -1.         -1.         -1.         -1.         -1.\n",
      "  -1.         -1.         -1.         -1.        ]\n",
      " [-1.         -1.         -1.         -1.         -1.         -1.\n",
      "  -1.         -1.         -1.         -1.         -1.         -1.\n",
      "  -1.         -1.         -1.         -1.         -1.         -1.\n",
      "  -1.         -1.         -1.         -1.         -1.         -1.\n",
      "  -1.         -1.         -1.         -1.        ]\n",
      " [-1.         -1.         -1.         -1.         -1.         -1.\n",
      "  -1.         -1.         -1.         -1.         -1.         -1.\n",
      "  -1.         -1.         -1.         -1.         -1.         -1.\n",
      "  -1.         -1.         -1.         -1.         -1.         -1.\n",
      "  -1.         -1.         -1.         -1.        ]\n",
      " [-1.         -1.         -1.         -1.         -1.         -1.\n",
      "  -0.0745098   1.          0.99215686  0.99215686  0.99215686  0.90588236\n",
      "   0.06666672  0.06666672 -0.20784312 -0.85882354 -0.9843137  -1.\n",
      "  -1.         -1.         -1.         -1.         -1.         -1.\n",
      "  -1.         -1.         -1.         -1.        ]\n",
      " [-1.         -1.         -1.         -1.         -1.         -1.\n",
      "   0.21568632  0.9843137   0.9843137   0.9843137   0.9843137   0.9843137\n",
      "   0.9843137   0.9843137   0.9843137   0.9843137   0.27843142 -0.26274508\n",
      "  -0.88235295 -1.         -1.         -1.         -1.         -1.\n",
      "  -1.         -1.         -1.         -1.        ]\n",
      " [-1.         -1.         -1.         -1.         -1.         -1.\n",
      "  -0.85882354 -0.09019607  0.5686275   0.13725495  0.77254903  0.9843137\n",
      "   0.9843137   0.9843137   0.9843137   0.9843137   0.9843137   0.9843137\n",
      "   0.45098042 -1.         -1.         -1.         -1.         -1.\n",
      "  -1.         -1.         -1.         -1.        ]\n",
      " [-1.         -1.         -1.         -1.         -1.         -1.\n",
      "  -1.         -1.         -1.         -1.         -0.7490196  -0.49019605\n",
      "  -0.49019605  0.15294123  0.427451    0.8980392   0.9843137   0.9843137\n",
      "   0.92941177 -0.2235294  -1.         -1.         -1.         -1.\n",
      "  -1.         -1.         -1.         -1.        ]\n",
      " [-1.         -1.         -1.         -1.         -1.         -1.\n",
      "  -1.         -1.         -1.         -1.         -1.         -1.\n",
      "  -1.         -1.         -1.         -0.69411767  0.84313726  0.9843137\n",
      "   0.9843137   0.6156863  -1.         -1.         -1.         -1.\n",
      "  -1.         -1.         -1.         -1.        ]\n",
      " [-1.         -1.         -1.         -1.         -1.         -1.\n",
      "  -1.         -1.         -1.         -1.         -1.         -1.\n",
      "  -1.         -1.         -1.         -0.6862745   0.88235295  0.9843137\n",
      "   0.9843137   0.6156863  -1.         -1.         -1.         -1.\n",
      "  -1.         -1.         -1.         -1.        ]\n",
      " [-1.         -1.         -1.         -1.         -1.         -1.\n",
      "  -1.         -1.         -1.         -1.         -1.         -1.\n",
      "  -1.         -0.7490196   0.254902    0.9372549   0.9843137   0.9843137\n",
      "   0.9843137   0.16078436 -1.         -1.         -1.         -1.\n",
      "  -1.         -1.         -1.         -1.        ]\n",
      " [-1.         -1.         -1.         -1.         -1.         -1.\n",
      "  -1.         -1.         -1.         -1.         -0.90588236 -0.7254902\n",
      "   0.11372554  0.7254902   0.9843137   0.9843137   0.9843137   0.9843137\n",
      "   0.77254903 -0.69411767 -1.         -1.         -1.         -1.\n",
      "  -1.         -1.         -1.         -1.        ]\n",
      " [-1.         -1.         -1.         -1.         -1.         -1.\n",
      "  -1.         -0.90588236 -0.34117645  0.254902    0.6156863   0.9843137\n",
      "   0.9843137   0.9843137   0.9843137   0.9843137   0.9843137   0.4901961\n",
      "  -0.69411767 -1.         -1.         -1.         -1.         -1.\n",
      "  -1.         -1.         -1.         -1.        ]\n",
      " [-1.         -1.         -1.         -1.         -1.         -1.\n",
      "  -1.         -0.4352941   0.9843137   0.9843137   0.9843137   0.9843137\n",
      "   0.9843137   0.9843137   0.9843137   0.9843137   0.9843137   0.9607843\n",
      "   0.2313726  -1.         -1.         -1.         -1.         -1.\n",
      "  -1.         -1.         -1.         -1.        ]\n",
      " [-1.         -1.         -1.         -1.         -1.         -1.\n",
      "  -1.         -0.60784316  0.5921569   0.9843137   0.9843137   0.64705884\n",
      "   0.3803922   0.3803922   0.8509804   0.9843137   0.9843137   0.9843137\n",
      "   0.9372549   0.35686278 -0.827451   -1.         -1.         -1.\n",
      "  -1.         -1.         -1.         -1.        ]\n",
      " [-1.         -1.         -1.         -1.         -1.         -1.\n",
      "  -1.         -1.         -0.88235295 -0.6784314  -0.6784314  -0.85882354\n",
      "  -1.         -1.         -0.7490196  -0.3333333   0.5764706   0.9843137\n",
      "   0.9843137   0.9843137  -0.09803921 -1.         -1.         -1.\n",
      "  -1.         -1.         -1.         -1.        ]\n",
      " [-1.         -1.         -1.         -1.         -1.         -1.\n",
      "  -1.         -1.         -1.         -1.         -1.         -1.\n",
      "  -1.         -1.         -1.         -1.         -0.9137255   0.5372549\n",
      "   0.9843137   0.9843137   0.94509804 -0.20784312 -1.         -1.\n",
      "  -1.         -1.         -1.         -1.        ]\n",
      " [-1.         -1.         -1.         -1.         -1.         -1.\n",
      "  -1.         -1.         -1.         -1.         -1.         -1.\n",
      "  -1.         -1.         -1.         -1.         -1.         -0.88235295\n",
      "   0.9843137   0.9843137   0.9843137   0.33333337 -1.         -1.\n",
      "  -1.         -1.         -1.         -1.        ]\n",
      " [-1.         -1.         -1.         -1.         -1.         -1.\n",
      "  -1.         -1.         -1.         -1.         -1.         -1.\n",
      "  -1.         -1.         -1.         -1.         -1.         -0.79607844\n",
      "   0.9843137   0.9843137   0.9843137   0.33333337 -1.         -1.\n",
      "  -1.         -1.         -1.         -1.        ]\n",
      " [-1.         -1.         -1.         -1.         -1.         -1.\n",
      "  -1.         -1.         -1.         -1.         -1.         -1.\n",
      "  -1.         -1.         -1.         -1.         -0.827451    0.20000005\n",
      "   0.9843137   0.9843137   0.9843137   0.16078436 -1.         -1.\n",
      "  -1.         -1.         -1.         -1.        ]\n",
      " [-1.         -1.         -1.         -1.         -1.         -1.\n",
      "  -0.8901961  -0.2235294   0.43529415 -0.5921569  -1.         -1.\n",
      "  -1.         -0.6392157  -0.19999999  0.43529415  0.6784314   0.9843137\n",
      "   0.9843137   0.9843137   0.9843137  -0.58431375 -1.         -1.\n",
      "  -1.         -1.         -1.         -1.        ]\n",
      " [-1.         -1.         -1.         -1.         -1.         -0.90588236\n",
      "   0.36470592  0.9843137   0.9843137   0.8117647   0.5764706   0.5764706\n",
      "   0.5764706   0.8666667   0.9843137   0.9843137   0.9843137   0.9843137\n",
      "   0.9843137   0.9843137  -0.15294117 -0.9137255  -1.         -1.\n",
      "  -1.         -1.         -1.         -1.        ]\n",
      " [-1.         -1.         -1.         -1.         -1.         -0.9607843\n",
      "   0.43529415  0.9843137   0.9843137   0.9843137   0.9843137   0.9843137\n",
      "   0.9843137   0.9843137   0.9843137   0.9843137   0.9843137   0.9843137\n",
      "   0.41960788 -0.7254902  -0.92156863 -1.         -1.         -1.\n",
      "  -1.         -1.         -1.         -1.        ]\n",
      " [-1.         -1.         -1.         -1.         -1.         -1.\n",
      "  -0.27843136  0.05882359  0.81960785  0.9843137   0.9843137   0.9843137\n",
      "   0.8352941   0.4901961   0.05882359  0.05882359 -0.78039217 -0.8666667\n",
      "  -0.94509804 -1.         -1.         -1.         -1.         -1.\n",
      "  -1.         -1.         -1.         -1.        ]\n",
      " [-1.         -1.         -1.         -1.         -1.         -1.\n",
      "  -1.         -1.         -1.         -1.         -1.         -1.\n",
      "  -1.         -1.         -1.         -1.         -1.         -1.\n",
      "  -1.         -1.         -1.         -1.         -1.         -1.\n",
      "  -1.         -1.         -1.         -1.        ]\n",
      " [-1.         -1.         -1.         -1.         -1.         -1.\n",
      "  -1.         -1.         -1.         -1.         -1.         -1.\n",
      "  -1.         -1.         -1.         -1.         -1.         -1.\n",
      "  -1.         -1.         -1.         -1.         -1.         -1.\n",
      "  -1.         -1.         -1.         -1.        ]\n",
      " [-1.         -1.         -1.         -1.         -1.         -1.\n",
      "  -1.         -1.         -1.         -1.         -1.         -1.\n",
      "  -1.         -1.         -1.         -1.         -1.         -1.\n",
      "  -1.         -1.         -1.         -1.         -1.         -1.\n",
      "  -1.         -1.         -1.         -1.        ]\n",
      " [-1.         -1.         -1.         -1.         -1.         -1.\n",
      "  -1.         -1.         -1.         -1.         -1.         -1.\n",
      "  -1.         -1.         -1.         -1.         -1.         -1.\n",
      "  -1.         -1.         -1.         -1.         -1.         -1.\n",
      "  -1.         -1.         -1.         -1.        ]]\n"
     ]
    }
   ],
   "source": [
    "print(images[1].numpy().squeeze()) #squeeze elimina todas las dimensiones de tamaño 1 "
   ]
  },
  {
   "cell_type": "code",
   "execution_count": 25,
   "metadata": {},
   "outputs": [
    {
     "name": "stdout",
     "output_type": "stream",
     "text": [
      "tensor(3)\n"
     ]
    }
   ],
   "source": [
    "print(labels[1])"
   ]
  },
  {
   "cell_type": "markdown",
   "metadata": {},
   "source": [
    "Veamos la imagen de muestra"
   ]
  },
  {
   "cell_type": "code",
   "execution_count": 26,
   "metadata": {},
   "outputs": [
    {
     "data": {
      "text/plain": [
       "<matplotlib.image.AxesImage at 0x7fb2b83e4610>"
      ]
     },
     "execution_count": 26,
     "metadata": {},
     "output_type": "execute_result"
    },
    {
     "data": {
      "image/png": "[encoded data removed]",
      "text/plain": [
       "<Figure size 432x288 with 1 Axes>"
      ]
     },
     "metadata": {
      "image/png": {
       "height": 248,
       "width": 251
      },
      "needs_background": "light"
     },
     "output_type": "display_data"
    }
   ],
   "source": [
    "plt.imshow(images[1].numpy().squeeze(), cmap='gray')"
   ]
  },
  {
   "cell_type": "markdown",
   "metadata": {},
   "source": [
    "**Definición de la topología de la RNA**\n",
    "\n",
    "Hay muchas formas de construir una red neuronal en Pytorch, pero ¿qué es una red neuronal artificial? **Ver presentación.**\n",
    "\n",
    "Definimos como se compone la capa de entrada, las intermedias (u ocultas) y una de salida.\n",
    "\n",
    "El número de capas ocultas, así como el número de neuronas en ellas, depende de la complejidad y el tipo de problema.\n",
    "\n",
    "Usaremos 2 capas ocultas con 128 y 64 neuronas, respectivamente.\n",
    "\n",
    "Importamos nn.Module "
   ]
  },
  {
   "cell_type": "code",
   "execution_count": 27,
   "metadata": {},
   "outputs": [
    {
     "data": {
      "text/plain": [
       "Network(\n",
       "  (fully_connected_1): Linear(in_features=784, out_features=128, bias=True)\n",
       "  (fully_connected_2): Linear(in_features=128, out_features=64, bias=True)\n",
       "  (fully_connected_3): Linear(in_features=64, out_features=10, bias=True)\n",
       ")"
      ]
     },
     "execution_count": 27,
     "metadata": {},
     "output_type": "execute_result"
    }
   ],
   "source": [
    "class Network(nn.Module):        #Heredamos de la clase nn.Module (vainilla network) los atributos para nuestra Network\n",
    "    def __init__(self):          #Esto define al constructor de la clase\n",
    "        super().__init__()\n",
    "        self.fully_connected_1 = nn.Linear(784, 128)\n",
    "        self.fully_connected_2 = nn.Linear(128, 64)\n",
    "        self.fully_connected_3 = nn.Linear(64, 10)\n",
    "        \n",
    "    def forward(self, x):        #define el orden y las funciones de activación\n",
    "        x = self.fully_connected_1(x)\n",
    "        x = F.relu(x)\n",
    "        x = self.fully_connected_2(x)\n",
    "        x = F.relu(x)\n",
    "        x = self.fully_connected_3(x)\n",
    "        x = F.softmax(x, dim=1)\n",
    "        \n",
    "        return x\n",
    "    \n",
    "model = Network()\n",
    "model"
   ]
  },
  {
   "cell_type": "markdown",
   "metadata": {},
   "source": [
    "**La capa de entrada** \n",
    "\n",
    "Tiene tantas neuronas como datos contiene nuestra muestra. Es decir, las entradas son 28x28 píxeles mostrados los números manuscritos. Por lo tanto, nuestra capa de entrada consta de 28x28 neuronas.\n",
    "\n",
    "**La capa de salida**\n",
    "\n",
    "Tiene tantas posibles salidas como clases hay en nuestros datos, 10 en este caso los dígitos del 0 al 9.\n",
    "\n",
    "**La función de activación**\n",
    "\n",
    "Es la función de define la salida de un nodo en función de una entrada o conjunto de entradas. \n",
    "Usaremos [ReLU](https://en.wikipedia.org/wiki/Rectifier_(neural_networks)) (Rectified Linear Unit) y\n",
    "[Softmax](https://en.wikipedia.org/wiki/Softmax_function)\n"
   ]
  },
  {
   "cell_type": "code",
   "execution_count": 28,
   "metadata": {},
   "outputs": [
    {
     "data": {
      "image/png": "[encoded data removed]",
      "text/plain": [
       "<Figure size 432x288 with 1 Axes>"
      ]
     },
     "metadata": {
      "image/png": {
       "height": 277,
       "width": 388
      },
      "needs_background": "light"
     },
     "output_type": "display_data"
    }
   ],
   "source": [
    "import numpy as np\n",
    "import matplotlib.pyplot as plt\n",
    "\n",
    "z = np.arange(-2, 2, .1)\n",
    "zero = np.zeros(len(z))\n",
    "y = np.max([zero, z], axis=0)\n",
    "fig = plt.figure()\n",
    "ax = fig.add_subplot(111)\n",
    "ax.plot(z, y,label=\"ReLU\")\n",
    "ax.plot(z,np.log(1+np.exp(z)),label=\"Softmax\")\n",
    "ax.set_ylim([-2.0, 2.0])\n",
    "ax.set_xlim([-2.0, 2.0])\n",
    "ax.grid(True)\n",
    "ax.legend()\n",
    "ax.set_xlabel('z')\n",
    "ax.set_title('Rectified linear unit vs softmax')\n",
    "\n",
    "plt.show()"
   ]
  },
  {
   "cell_type": "markdown",
   "metadata": {},
   "source": [
    "**Función de propagación \"Forward\"**\n",
    "\n",
    "Define el orden en que se realizan los cálculos desde el input, a través de las hidden layers hasta el output, utilizando la función de activación.\n",
    "\n",
    "\n",
    "En nuestro ejemplo, iniciamos con un tensor bidimensional 28x28 a uno unidimensional de 784 valores, que se le pasan a la capa de entrada, con la función *view*.\n",
    "\n",
    "**Inicializando los pesos y *biases***\n",
    "\n",
    "Ambos son iniciados automáticamente, pero podemos sobreescribirlos si queremos.\n",
    "\n",
    "Éstos son tensores almacenados como miembros de cada capa."
   ]
  },
  {
   "cell_type": "code",
   "execution_count": 29,
   "metadata": {},
   "outputs": [
    {
     "name": "stdout",
     "output_type": "stream",
     "text": [
      "Parameter containing:\n",
      "tensor([[-0.0267, -0.0304, -0.0218,  ...,  0.0213, -0.0125,  0.0101],\n",
      "        [-0.0086, -0.0185,  0.0311,  ..., -0.0175, -0.0156, -0.0022],\n",
      "        [-0.0159, -0.0232,  0.0083,  ..., -0.0037, -0.0008, -0.0261],\n",
      "        ...,\n",
      "        [ 0.0029, -0.0019, -0.0091,  ..., -0.0061,  0.0061,  0.0187],\n",
      "        [-0.0299, -0.0173, -0.0192,  ..., -0.0073, -0.0192,  0.0241],\n",
      "        [ 0.0260, -0.0031,  0.0343,  ..., -0.0073, -0.0256, -0.0084]],\n",
      "       requires_grad=True)\n",
      "Parameter containing:\n",
      "tensor([-0.0111,  0.0331,  0.0240,  0.0250,  0.0014, -0.0323,  0.0274, -0.0022,\n",
      "        -0.0192, -0.0134, -0.0178,  0.0178, -0.0194, -0.0150,  0.0323, -0.0213,\n",
      "        -0.0226, -0.0031, -0.0258, -0.0010, -0.0059, -0.0207,  0.0125,  0.0345,\n",
      "        -0.0075,  0.0085,  0.0288,  0.0027, -0.0078,  0.0118,  0.0322,  0.0177,\n",
      "         0.0171, -0.0243, -0.0340,  0.0311, -0.0252, -0.0048, -0.0332, -0.0028,\n",
      "        -0.0207,  0.0184,  0.0102,  0.0297, -0.0294, -0.0034, -0.0291,  0.0181,\n",
      "         0.0055,  0.0115,  0.0213, -0.0035,  0.0182, -0.0003,  0.0024, -0.0324,\n",
      "        -0.0044,  0.0352,  0.0239, -0.0108, -0.0304, -0.0035,  0.0063,  0.0271,\n",
      "         0.0187, -0.0348, -0.0166, -0.0033,  0.0110,  0.0120,  0.0214, -0.0220,\n",
      "        -0.0230,  0.0227,  0.0118,  0.0154,  0.0018, -0.0225, -0.0229, -0.0198,\n",
      "         0.0198,  0.0236, -0.0126, -0.0145, -0.0016, -0.0109, -0.0111, -0.0099,\n",
      "         0.0265, -0.0162, -0.0034, -0.0034, -0.0130, -0.0139,  0.0281,  0.0137,\n",
      "        -0.0031,  0.0272, -0.0066,  0.0172,  0.0065,  0.0330,  0.0047, -0.0224,\n",
      "         0.0112,  0.0116, -0.0101, -0.0277,  0.0272,  0.0297, -0.0180,  0.0259,\n",
      "        -0.0072,  0.0056,  0.0261, -0.0321,  0.0348,  0.0064, -0.0203,  0.0318,\n",
      "        -0.0204,  0.0112,  0.0266,  0.0221, -0.0013, -0.0282, -0.0332,  0.0151],\n",
      "       requires_grad=True)\n"
     ]
    }
   ],
   "source": [
    "print(model.fully_connected_1.weight)\n",
    "print(model.fully_connected_1.bias)"
   ]
  },
  {
   "cell_type": "markdown",
   "metadata": {},
   "source": [
    "Para modificar estos tensores podemos usar operaciones in situ."
   ]
  },
  {
   "cell_type": "code",
   "execution_count": 30,
   "metadata": {},
   "outputs": [
    {
     "data": {
      "text/plain": [
       "tensor([0., 0., 0., 0., 0., 0., 0., 0., 0., 0., 0., 0., 0., 0., 0., 0., 0., 0., 0., 0., 0., 0., 0., 0.,\n",
       "        0., 0., 0., 0., 0., 0., 0., 0., 0., 0., 0., 0., 0., 0., 0., 0., 0., 0., 0., 0., 0., 0., 0., 0.,\n",
       "        0., 0., 0., 0., 0., 0., 0., 0., 0., 0., 0., 0., 0., 0., 0., 0., 0., 0., 0., 0., 0., 0., 0., 0.,\n",
       "        0., 0., 0., 0., 0., 0., 0., 0., 0., 0., 0., 0., 0., 0., 0., 0., 0., 0., 0., 0., 0., 0., 0., 0.,\n",
       "        0., 0., 0., 0., 0., 0., 0., 0., 0., 0., 0., 0., 0., 0., 0., 0., 0., 0., 0., 0., 0., 0., 0., 0.,\n",
       "        0., 0., 0., 0., 0., 0., 0., 0.])"
      ]
     },
     "execution_count": 30,
     "metadata": {},
     "output_type": "execute_result"
    }
   ],
   "source": [
    "# Set biases to all 0s\n",
    "model.fully_connected_1.bias.data.fill_(0)"
   ]
  },
  {
   "cell_type": "code",
   "execution_count": 31,
   "metadata": {},
   "outputs": [
    {
     "data": {
      "text/plain": [
       "tensor([[ 0.0130,  0.0045,  0.0185,  ...,  0.0094, -0.0015,  0.0007],\n",
       "        [ 0.0029, -0.0087,  0.0071,  ...,  0.0159,  0.0142, -0.0121],\n",
       "        [-0.0110, -0.0064, -0.0015,  ..., -0.0002,  0.0135,  0.0229],\n",
       "        ...,\n",
       "        [-0.0024, -0.0162, -0.0149,  ...,  0.0065,  0.0085,  0.0007],\n",
       "        [-0.0180,  0.0214,  0.0070,  ...,  0.0026,  0.0066, -0.0060],\n",
       "        [-0.0107,  0.0025, -0.0079,  ..., -0.0024, -0.0024,  0.0034]])"
      ]
     },
     "execution_count": 31,
     "metadata": {},
     "output_type": "execute_result"
    }
   ],
   "source": [
    "# Sample from random normal\n",
    "model.fully_connected_1.weight.data.normal_(std=0.01)"
   ]
  },
  {
   "cell_type": "markdown",
   "metadata": {},
   "source": [
    "**Seguimiento**\n",
    "\n",
    "Pasemosle una imagen a la red, para eso debemos convertirla en tensor para luego aplicarle el método *Foward*"
   ]
  },
  {
   "cell_type": "code",
   "execution_count": 32,
   "metadata": {},
   "outputs": [
    {
     "name": "stdout",
     "output_type": "stream",
     "text": [
      "<class 'torch.Tensor'>\n"
     ]
    },
    {
     "data": {
      "image/png": "[encoded data removed]",
      "text/plain": [
       "<Figure size 432x648 with 2 Axes>"
      ]
     },
     "metadata": {
      "image/png": {
       "height": 520,
       "width": 301
      },
      "needs_background": "light"
     },
     "output_type": "display_data"
    }
   ],
   "source": [
    "data_iter = iter(train_loader)\n",
    "images, labels = data_iter.next()\n",
    "\n",
    "print(type(images))\n",
    "images.resize_(64, 1, 784) \n",
    "\n",
    "image_index = 0\n",
    "ps = model.forward(images[image_index, :])\n",
    "\n",
    "image = images[image_index]\n",
    "utils.view_classify(image.view(1, 28, 28), ps)"
   ]
  },
  {
   "cell_type": "markdown",
   "metadata": {},
   "source": [
    "La red es bastante tonta, pero es normal falta entrenarla.\n",
    "\n",
    "**Otra manera de construir redes**\n",
    "\n",
    "También podemos definir una redes con un paradigma funcional. Básicamente, estamos definido la red\n",
    "como una lista de capas u operaciones por las cuales el tensor de entrada deberá pasar en secuencia"
   ]
  },
  {
   "cell_type": "code",
   "execution_count": 33,
   "metadata": {},
   "outputs": [
    {
     "name": "stdout",
     "output_type": "stream",
     "text": [
      "Sequential(\n",
      "  (0): Linear(in_features=784, out_features=128, bias=True)\n",
      "  (1): ReLU()\n",
      "  (2): Linear(in_features=128, out_features=64, bias=True)\n",
      "  (3): ReLU()\n",
      "  (4): Linear(in_features=64, out_features=10, bias=True)\n",
      "  (5): Softmax(dim=1)\n",
      ")\n"
     ]
    },
    {
     "data": {
      "image/png": "[encoded data removed]",
      "text/plain": [
       "<Figure size 432x648 with 2 Axes>"
      ]
     },
     "metadata": {
      "image/png": {
       "height": 520,
       "width": 305
      },
      "needs_background": "light"
     },
     "output_type": "display_data"
    }
   ],
   "source": [
    "input_size = 784\n",
    "hidden_sizes = [128, 64]\n",
    "output_size = 10\n",
    "\n",
    "model = nn.Sequential(nn.Linear(input_size, hidden_sizes[0]),\n",
    "                      nn.ReLU(),\n",
    "                      nn.Linear(hidden_sizes[0], hidden_sizes[1]),\n",
    "                      nn.ReLU(),\n",
    "                      nn.Linear(hidden_sizes[1], output_size),\n",
    "                      nn.Softmax(dim=1))\n",
    "print(model)\n",
    "\n",
    "images, labels = next(iter(train_loader))\n",
    "images.resize_(images.shape[0], 1, 784)\n",
    "ps = model.forward(images[0, :])\n",
    "utils.view_classify(images[0].view(1, 28, 28), ps)"
   ]
  },
  {
   "cell_type": "markdown",
   "metadata": {},
   "source": [
    "El problema de esta manera de crear una red neuronal es que terminamos con índices en vez de nombres asociados a cada operación. Podemos solucionar esto pasándole un `OrderedDict` será un par de la forma (_nombre de la operación_, _operación_)"
   ]
  },
  {
   "cell_type": "code",
   "execution_count": 34,
   "metadata": {},
   "outputs": [
    {
     "data": {
      "text/plain": [
       "Sequential(\n",
       "  (fully_connected_1): Linear(in_features=784, out_features=128, bias=True)\n",
       "  (relu_1): ReLU()\n",
       "  (fully_connected_2): Linear(in_features=128, out_features=64, bias=True)\n",
       "  (relu_2): ReLU()\n",
       "  (output): Linear(in_features=64, out_features=10, bias=True)\n",
       "  (softmax): Softmax(dim=1)\n",
       ")"
      ]
     },
     "execution_count": 34,
     "metadata": {},
     "output_type": "execute_result"
    }
   ],
   "source": [
    "from collections import OrderedDict\n",
    "\n",
    "model = nn.Sequential(OrderedDict(\n",
    "            [('fully_connected_1', nn.Linear(input_size, hidden_sizes[0])),\n",
    "             ('relu_1', nn.ReLU()),\n",
    "             ('fully_connected_2', nn.Linear(hidden_sizes[0], hidden_sizes[1])),\n",
    "             ('relu_2', nn.ReLU()),\n",
    "             ('output', nn.Linear(hidden_sizes[1], output_size)),\n",
    "             ('softmax', nn.Softmax(dim=1))]))\n",
    "\n",
    "model"
   ]
  },
  {
   "cell_type": "markdown",
   "metadata": {},
   "source": [
    "Por diversión, creemos una red más compleja."
   ]
  },
  {
   "cell_type": "code",
   "execution_count": 35,
   "metadata": {},
   "outputs": [
    {
     "data": {
      "text/plain": [
       "Sequential(\n",
       "  (fully_connected_1): Linear(in_features=784, out_features=400, bias=True)\n",
       "  (relu_1): ReLU()\n",
       "  (fully_connected_2): Linear(in_features=400, out_features=200, bias=True)\n",
       "  (relu_2): ReLU()\n",
       "  (fully_connected_3): Linear(in_features=200, out_features=100, bias=True)\n",
       "  (relu_3): ReLU()\n",
       "  (output): Linear(in_features=100, out_features=10, bias=True)\n",
       "  (softmax): Softmax(dim=1)\n",
       ")"
      ]
     },
     "execution_count": 35,
     "metadata": {},
     "output_type": "execute_result"
    }
   ],
   "source": [
    "input_size = 784\n",
    "layer_sizes = [400, 200, 100]\n",
    "output_size = 10\n",
    "\n",
    "model = model = nn.Sequential(OrderedDict(\n",
    "            [('fully_connected_1', nn.Linear(input_size, layer_sizes[0])),\n",
    "             ('relu_1', nn.ReLU()),\n",
    "             ('fully_connected_2', nn.Linear(layer_sizes[0], layer_sizes[1])),\n",
    "             ('relu_2', nn.ReLU()),\n",
    "             ('fully_connected_3', nn.Linear(layer_sizes[1], layer_sizes[2])),\n",
    "             ('relu_3', nn.ReLU()),\n",
    "             ('output', nn.Linear(layer_sizes[2], output_size)),\n",
    "             ('softmax', nn.Softmax(dim=1))]))\n",
    "\n",
    "model"
   ]
  },
  {
   "cell_type": "code",
   "execution_count": 36,
   "metadata": {},
   "outputs": [
    {
     "data": {
      "image/png": "[encoded data removed]",
      "text/plain": [
       "<Figure size 432x648 with 2 Axes>"
      ]
     },
     "metadata": {
      "image/png": {
       "height": 520,
       "width": 300
      },
      "needs_background": "light"
     },
     "output_type": "display_data"
    }
   ],
   "source": [
    "images, labels = next(iter(train_loader))\n",
    "images.resize_(images.shape[0], 1, 784)\n",
    "ps = model.forward(images[0, :])\n",
    "utils.view_classify(images[0].view(1, 28, 28), ps)"
   ]
  },
  {
   "cell_type": "markdown",
   "metadata": {},
   "source": [
    "## 3.- Entrenando a la red\n",
    "\n",
    "Una parte importante del proceso del Deep Learning es el entrenamiento de las redes, ya que de ello depende\n",
    "el rendimiento en las tareas que le encomendemos.\n",
    "\n",
    "[Gradient descent](https://en.wikipedia.org/wiki/Gradient_descent) es un algoritmo para disminuir la función \n",
    "de pérdida o error a medida que nos adentramos en el entrenamiento. Durante el entrenamiento de cualquier\n",
    "modelos de ML buscamos optimizar el error entre las predicciones y los datos reales.\n",
    "\n",
    "\n",
    "**Autograd** \n",
    "\n",
    "[Autograd](https://pytorch.org/tutorials/beginner/blitz/autograd_tutorial.html) es un módulo de Pytorch para calcular el gradiente de las operaciones sobre los tensores. Permite un registro de las operaciones ejecutadas sobre ellos, le podemos indicar a Pytorch que lleve el control de los gradientes de varias maneras:\n",
    "- Al momento de crear un tensor: `mi_tensor = torch.ones(10, requieres_grad=True)`\n",
    "- In situ: `mi_tensor.requieres_grad_(True)`\n",
    "\n",
    "### Inicio\n",
    "\n",
    "Importaremos todo lo necesario"
   ]
  },
  {
   "cell_type": "code",
   "execution_count": 37,
   "metadata": {},
   "outputs": [],
   "source": [
    "%matplotlib inline\n",
    "%config InlineBackend.figure_format = 'retina'\n",
    "\n",
    "from collections import OrderedDict #dict subclass that remembers the order entries were added\n",
    "\n",
    "import numpy as np\n",
    "import time\n",
    "\n",
    "import torch\n",
    "from torch import nn\n",
    "from torch import optim\n",
    "import torch.nn.functional as F\n",
    "\n",
    "import utils"
   ]
  },
  {
   "cell_type": "code",
   "execution_count": 115,
   "metadata": {},
   "outputs": [
    {
     "name": "stdout",
     "output_type": "stream",
     "text": [
      "tensor([[1., 2.],\n",
      "        [3., 4.]], requires_grad=True)\n"
     ]
    }
   ],
   "source": [
    "x = torch.tensor([[1., 2.],[3.,4.]], requires_grad=True)\n",
    "print(x)"
   ]
  },
  {
   "cell_type": "code",
   "execution_count": 116,
   "metadata": {},
   "outputs": [
    {
     "name": "stdout",
     "output_type": "stream",
     "text": [
      "tensor([[ 1.,  4.],\n",
      "        [ 9., 16.]], grad_fn=<PowBackward0>)\n"
     ]
    }
   ],
   "source": [
    "y = x ** 2\n",
    "print(y)"
   ]
  },
  {
   "cell_type": "markdown",
   "metadata": {},
   "source": [
    "En la celda de abajo podemos ver la función de derivación (gradiente) que Autograd creó para la operación de potenciación al cuadrado que especificamos anteriormente."
   ]
  },
  {
   "cell_type": "code",
   "execution_count": 117,
   "metadata": {},
   "outputs": [
    {
     "name": "stdout",
     "output_type": "stream",
     "text": [
      "<PowBackward0 object at 0x7fb2bb505700>\n"
     ]
    }
   ],
   "source": [
    "# Mostrar la función generada por la operación potencia.\n",
    "print(y.grad_fn)"
   ]
  },
  {
   "cell_type": "markdown",
   "metadata": {},
   "source": [
    "Calculemos la media de este tensor y, seguidamente, computemos su gradiente con el método `backward()`."
   ]
  },
  {
   "cell_type": "code",
   "execution_count": 118,
   "metadata": {},
   "outputs": [
    {
     "name": "stdout",
     "output_type": "stream",
     "text": [
      "tensor(7.5000, grad_fn=<MeanBackward0>)\n"
     ]
    }
   ],
   "source": [
    "z = y.mean()\n",
    "print(z)"
   ]
  },
  {
   "cell_type": "code",
   "execution_count": 120,
   "metadata": {},
   "outputs": [
    {
     "name": "stdout",
     "output_type": "stream",
     "text": [
      "tensor([[0.5000, 1.0000],\n",
      "        [1.5000, 2.0000]])\n",
      "tensor([[0.5000, 1.0000],\n",
      "        [1.5000, 2.0000]], grad_fn=<DivBackward0>)\n"
     ]
    }
   ],
   "source": [
    "z.backward() # Backward se aplica al final del proceso y sobre un escalar\n",
    "print(x.grad) # 2x potencia y 1/4 promedio\n",
    "print(x / 2) "
   ]
  },
  {
   "cell_type": "markdown",
   "metadata": {},
   "source": [
    "Estos cálculos de gradiente son la clave para que las redes neuronales aprendan, dado que *backpropagation* requiere que el error se progague de las últimas hacia las primeras capas del modelo.\n",
    "\n",
    "### Obteniendo los datos\n",
    "\n",
    "Obtenemos el conjunto de los datos MNIST, los convertimos a tensores y normalizamos."
   ]
  },
  {
   "cell_type": "code",
   "execution_count": 43,
   "metadata": {},
   "outputs": [],
   "source": [
    "from torchvision import datasets, transforms\n",
    "\n",
    "\n",
    "transform = transforms.Compose([transforms.ToTensor(),\n",
    "                                transforms.Normalize((0.5),(0.5)),])\n",
    "train_set = datasets.MNIST('MNIST_data/', download=True, train=True, transform=transform)\n",
    "train_loader = torch.utils.data.DataLoader(train_set, batch_size=64, shuffle=True)"
   ]
  },
  {
   "cell_type": "markdown",
   "metadata": {},
   "source": [
    "### Arquitectura \n",
    "\n",
    "Definimos la red neuronal, no activaremos las salidas de esta red. En cambio, produciremos *logits* `aclaración: logits puede significar varias cosas: Math es un de probabilidades L:[0,1] ->(-inf,inf); en ML un vector con entradas \"crudas\" de las predicciones en un problema de clasificación; a veces se comprenden como el elemento inverso de la función sigmoid` puros porque directamente los resultados de una función *softmax*, la cual genera una distribución de probabilidad sobre las etiquetas, conduce a problemas de inestabilidad numérica ya que los valores están demasiado cerca de 1 o 0."
   ]
  },
  {
   "cell_type": "code",
   "execution_count": 44,
   "metadata": {},
   "outputs": [],
   "source": [
    "input_size = 784\n",
    "hidden_sizes = [128, 64]\n",
    "output_size = 10\n",
    "\n",
    "model = nn.Sequential(OrderedDict([\n",
    "            ('fully_connected_1', nn.Linear(input_size, hidden_sizes[0])),\n",
    "            ('relu_1', nn.ReLU()),\n",
    "            ('fully_connected_2', nn.Linear(hidden_sizes[0], hidden_sizes[1])),\n",
    "            ('relu_2', nn.ReLU()),\n",
    "            ('logits', nn.Linear(hidden_sizes[1], output_size))\n",
    "        ]))"
   ]
  },
  {
   "cell_type": "markdown",
   "metadata": {},
   "source": [
    "### Entrenando la red\n",
    "\n",
    "Para entrenar la red necesitamos la función de pérdida (comúnmente referida como el *criterio* o, en inglés, *criterion*).\n",
    "\n",
    "**Función de perdida**\n",
    "\n",
    "Usamos una función para optimizar los parámetros durante el entrenamiento. Hay muchas funciones\n",
    "de pérdida disponibles en PyTorch, usaremos [CrossEntropy](https://en.wikipedia.org/wiki/Cross_entropy) recomendada en situaciones de *clasificación multiclase* y porque estamos implementando una salida *softmax*.\n",
    "\n",
    "**Optimizador**\n",
    "\n",
    "Es el objeto que recibe los parámetros del modelo y la tasa de aprendizaje, y se encarga de ajustar los parámetros en función del gradiente de la función de pérdida de forma iteractiva durante el entrenamiento de\n",
    "la red. Utilizamos un algoritmo [SGD](https://pytorch.org/cppdocs/api/classtorch_1_1optim_1_1_s_g_d.html#exhale-class-classtorch-1-1optim-1-1-s-g-d)."
   ]
  },
  {
   "cell_type": "code",
   "execution_count": 45,
   "metadata": {},
   "outputs": [],
   "source": [
    "criterion = nn.CrossEntropyLoss()\n",
    "optimizer = optim.SGD(model.parameters(),lr=0.01)"
   ]
  },
  {
   "cell_type": "markdown",
   "metadata": {},
   "source": [
    "Hacemos un entrenamiento en un solo paso, primero hacemos un paso con el `forward()` sobre el modelo.\n",
    "Después, se calcula el error usando `criterion`. Para ello, le pasamos las etiquetas reales y las salidas de la red. Luego retroalimentamos con el error con `backward()`. Finalmente, actualizamos los parámetros llamando al método `step()` sobre el optimizador."
   ]
  },
  {
   "cell_type": "code",
   "execution_count": 46,
   "metadata": {},
   "outputs": [
    {
     "name": "stdout",
     "output_type": "stream",
     "text": [
      "Initial weights - Parameter containing:\n",
      "tensor([[ 0.0311,  0.0274, -0.0355,  ...,  0.0155,  0.0262, -0.0200],\n",
      "        [-0.0135, -0.0215, -0.0341,  ..., -0.0107,  0.0200, -0.0003],\n",
      "        [ 0.0233,  0.0212, -0.0153,  ..., -0.0228, -0.0029, -0.0038],\n",
      "        ...,\n",
      "        [-0.0255,  0.0242, -0.0342,  ..., -0.0309,  0.0139,  0.0177],\n",
      "        [-0.0010, -0.0269, -0.0101,  ..., -0.0335,  0.0350, -0.0057],\n",
      "        [ 0.0253,  0.0212,  0.0056,  ...,  0.0197, -0.0020, -0.0165]],\n",
      "       requires_grad=True)\n",
      "Gradient - tensor([[ 0.0000,  0.0000,  0.0000,  ...,  0.0000,  0.0000,  0.0000],\n",
      "        [-0.0018, -0.0018, -0.0018,  ..., -0.0018, -0.0018, -0.0018],\n",
      "        [ 0.0015,  0.0015,  0.0015,  ...,  0.0015,  0.0015,  0.0015],\n",
      "        ...,\n",
      "        [-0.0004, -0.0004, -0.0004,  ..., -0.0004, -0.0004, -0.0004],\n",
      "        [-0.0022, -0.0022, -0.0022,  ..., -0.0022, -0.0022, -0.0022],\n",
      "        [-0.0009, -0.0009, -0.0009,  ..., -0.0009, -0.0009, -0.0009]])\n"
     ]
    }
   ],
   "source": [
    "print(f'Initial weights - {model.fully_connected_1.weight}')\n",
    "\n",
    "images, labels = next(iter(train_loader))\n",
    "images.resize_(64, 784)\n",
    "\n",
    "optimizer.zero_grad() # Reiniciamos los gradientes\n",
    "\n",
    "\n",
    "output = model.forward(images) # Forward pass, then backward, then update\n",
    "loss = criterion(output, labels)\n",
    "loss.backward()\n",
    "print(f'Gradient - {model.fully_connected_1.weight.grad}')\n",
    "optimizer.step()"
   ]
  },
  {
   "cell_type": "code",
   "execution_count": 47,
   "metadata": {},
   "outputs": [
    {
     "name": "stdout",
     "output_type": "stream",
     "text": [
      "Updated weights - Parameter containing:\n",
      "tensor([[ 0.0311,  0.0274, -0.0355,  ...,  0.0155,  0.0262, -0.0200],\n",
      "        [-0.0135, -0.0215, -0.0341,  ..., -0.0107,  0.0200, -0.0003],\n",
      "        [ 0.0232,  0.0212, -0.0154,  ..., -0.0229, -0.0029, -0.0038],\n",
      "        ...,\n",
      "        [-0.0255,  0.0242, -0.0342,  ..., -0.0309,  0.0139,  0.0177],\n",
      "        [-0.0010, -0.0269, -0.0100,  ..., -0.0335,  0.0350, -0.0057],\n",
      "        [ 0.0253,  0.0212,  0.0056,  ...,  0.0197, -0.0020, -0.0165]],\n",
      "       requires_grad=True)\n"
     ]
    }
   ],
   "source": [
    "print(f'Updated weights - {model.fully_connected_1.weight}')"
   ]
  },
  {
   "cell_type": "markdown",
   "metadata": {},
   "source": [
    "Para entrenar en serio, sólo debemos repetir el paso anterior para cada lote de datos, durante cada epoch"
   ]
  },
  {
   "cell_type": "code",
   "execution_count": 48,
   "metadata": {},
   "outputs": [],
   "source": [
    "optimizer = optim.SGD(model.parameters(), lr=0.003)"
   ]
  },
  {
   "cell_type": "code",
   "execution_count": 49,
   "metadata": {},
   "outputs": [
    {
     "name": "stdout",
     "output_type": "stream",
     "text": [
      "Epoch: 1/3...\n",
      "Loss: 2.2886983692646026\n",
      "Epoch: 1/3...\n",
      "Loss: 2.2606583654880525\n",
      "Epoch: 1/3...\n",
      "Loss: 2.2377219080924986\n",
      "Epoch: 1/3...\n",
      "Loss: 2.212178409099579\n",
      "Epoch: 1/3...\n",
      "Loss: 2.187507063150406\n",
      "Epoch: 1/3...\n",
      "Loss: 2.160758352279663\n",
      "Epoch: 1/3...\n",
      "Loss: 2.1313899993896483\n",
      "Epoch: 1/3...\n",
      "Loss: 2.0919652760028837\n",
      "Epoch: 1/3...\n",
      "Loss: 2.0563848584890367\n",
      "Epoch: 1/3...\n",
      "Loss: 2.021127533912659\n",
      "Epoch: 1/3...\n",
      "Loss: 1.972404795885086\n",
      "Epoch: 1/3...\n",
      "Loss: 1.9352718740701675\n",
      "Epoch: 1/3...\n",
      "Loss: 1.8809599995613098\n",
      "Epoch: 1/3...\n",
      "Loss: 1.8314914971590042\n",
      "Epoch: 1/3...\n",
      "Loss: 1.7757493197917937\n",
      "Epoch: 1/3...\n",
      "Loss: 1.708385619521141\n",
      "Epoch: 1/3...\n",
      "Loss: 1.6440695136785508\n",
      "Epoch: 1/3...\n",
      "Loss: 1.5869228661060333\n",
      "Epoch: 1/3...\n",
      "Loss: 1.5281584292650223\n",
      "Epoch: 1/3...\n",
      "Loss: 1.4754641592502593\n",
      "Epoch: 1/3...\n",
      "Loss: 1.378334140777588\n",
      "Epoch: 1/3...\n",
      "Loss: 1.3411946415901184\n",
      "Epoch: 1/3...\n",
      "Loss: 1.3000631302595138\n",
      "Epoch: 2/3...\n",
      "Loss: 0.6797632098197937\n",
      "Epoch: 2/3...\n",
      "Loss: 1.1924261689186095\n",
      "Epoch: 2/3...\n",
      "Loss: 1.1301191300153732\n",
      "Epoch: 2/3...\n",
      "Loss: 1.1033011391758918\n",
      "Epoch: 2/3...\n",
      "Loss: 1.0417220413684845\n",
      "Epoch: 2/3...\n",
      "Loss: 1.002064399421215\n",
      "Epoch: 2/3...\n",
      "Loss: 0.9664420887827874\n",
      "Epoch: 2/3...\n",
      "Loss: 0.9223377406597137\n",
      "Epoch: 2/3...\n",
      "Loss: 0.9164094612002373\n",
      "Epoch: 2/3...\n",
      "Loss: 0.8852879524230957\n",
      "Epoch: 2/3...\n",
      "Loss: 0.8473785430192947\n",
      "Epoch: 2/3...\n",
      "Loss: 0.8242066651582718\n",
      "Epoch: 2/3...\n",
      "Loss: 0.7827593371272087\n",
      "Epoch: 2/3...\n",
      "Loss: 0.7854087233543396\n",
      "Epoch: 2/3...\n",
      "Loss: 0.7600938752293587\n",
      "Epoch: 2/3...\n",
      "Loss: 0.7359874606132507\n",
      "Epoch: 2/3...\n",
      "Loss: 0.7130586236715317\n",
      "Epoch: 2/3...\n",
      "Loss: 0.7176443949341774\n",
      "Epoch: 2/3...\n",
      "Loss: 0.6664969488978386\n",
      "Epoch: 2/3...\n",
      "Loss: 0.6687222123146057\n",
      "Epoch: 2/3...\n",
      "Loss: 0.6656753279268741\n",
      "Epoch: 2/3...\n",
      "Loss: 0.6325847074389458\n",
      "Epoch: 2/3...\n",
      "Loss: 0.6156465627253056\n",
      "Epoch: 3/3...\n",
      "Loss: 0.057387460768222806\n",
      "Epoch: 3/3...\n",
      "Loss: 0.6183528944849968\n",
      "Epoch: 3/3...\n",
      "Loss: 0.5944606997072697\n",
      "Epoch: 3/3...\n",
      "Loss: 0.6027296349406243\n",
      "Epoch: 3/3...\n",
      "Loss: 0.5935212627053261\n",
      "Epoch: 3/3...\n",
      "Loss: 0.5799401931464672\n",
      "Epoch: 3/3...\n",
      "Loss: 0.5662923537194728\n",
      "Epoch: 3/3...\n",
      "Loss: 0.5643297798931599\n",
      "Epoch: 3/3...\n",
      "Loss: 0.5396883092820645\n",
      "Epoch: 3/3...\n",
      "Loss: 0.5627072803676129\n",
      "Epoch: 3/3...\n",
      "Loss: 0.5295721136033535\n",
      "Epoch: 3/3...\n",
      "Loss: 0.5100458092987538\n",
      "Epoch: 3/3...\n",
      "Loss: 0.524256931245327\n",
      "Epoch: 3/3...\n",
      "Loss: 0.4958587005734444\n",
      "Epoch: 3/3...\n",
      "Loss: 0.5027013137936592\n",
      "Epoch: 3/3...\n",
      "Loss: 0.5060412116348744\n",
      "Epoch: 3/3...\n",
      "Loss: 0.455778132379055\n",
      "Epoch: 3/3...\n",
      "Loss: 0.4627872422337532\n",
      "Epoch: 3/3...\n",
      "Loss: 0.45073808655142783\n",
      "Epoch: 3/3...\n",
      "Loss: 0.4847816742956638\n",
      "Epoch: 3/3...\n",
      "Loss: 0.47109952941536903\n",
      "Epoch: 3/3...\n",
      "Loss: 0.4727244652807713\n",
      "Epoch: 3/3...\n",
      "Loss: 0.48578438982367517\n",
      "Epoch: 3/3...\n",
      "Loss: 0.44185627438127995\n"
     ]
    }
   ],
   "source": [
    "epochs = 3\n",
    "print_every = 40\n",
    "steps = 0\n",
    "\n",
    "for epoch in range(epochs):\n",
    "    running_loss = 0\n",
    "    for images, labels in iter(train_loader):\n",
    "        steps += 1\n",
    "        \n",
    "        images.resize_(images.size()[0], 784) #aplanamos\n",
    "        \n",
    "        optimizer.zero_grad()\n",
    "        \n",
    "        # Forward and backward passes\n",
    "        output = model.forward(images)\n",
    "        loss = criterion(output, labels)\n",
    "        loss.backward()\n",
    "        optimizer.step()\n",
    "        \n",
    "        running_loss += loss.item()\n",
    "        \n",
    "        if steps % print_every == 0:\n",
    "            print(f'Epoch: {epoch + 1}/{epochs}...\\nLoss: {running_loss/print_every}')\n",
    "            \n",
    "            running_loss = 0\n"
   ]
  },
  {
   "cell_type": "markdown",
   "metadata": {},
   "source": [
    "**Resultados**\n",
    "\n",
    "Vemos la dinámica de la función de pérdida y las interacciones."
   ]
  },
  {
   "cell_type": "code",
   "execution_count": 50,
   "metadata": {},
   "outputs": [
    {
     "data": {
      "image/png": "[encoded data removed]",
      "text/plain": [
       "<Figure size 432x648 with 2 Axes>"
      ]
     },
     "metadata": {
      "image/png": {
       "height": 329,
       "width": 349
      },
      "needs_background": "light"
     },
     "output_type": "display_data"
    }
   ],
   "source": [
    "images, labels = next(iter(train_loader))\n",
    "\n",
    "image = images[2].view(1, 784)\n",
    "\n",
    "# Apagamos lo gradientes porque es una prueba\n",
    "with torch.no_grad():\n",
    "    logits = model.forward(image)\n",
    "    \n",
    "predictions = F.softmax(logits, dim=1)\n",
    "utils.view_classify(image.view(1, 28, 28), predictions)"
   ]
  },
  {
   "cell_type": "markdown",
   "metadata": {},
   "source": [
    "Se puede observar la disminución del error de clasificación a medida que se ha ido entrenando la RNA.\n",
    "\n",
    "## 4.- Un problema más difícil: Fashion-MNIST\n",
    "\n",
    "MNIST ha estado rondando por ahí durante bastante tiempo y ha llegado al punto en el que resolver el problema que presenta se ha vuelvo trivial y, por tanto, no provee un buen punto de referencia para muchos algoritmos modernos de Machine y Deep Learning.\n",
    "\n",
    "Fashion-MNIST, por su parte, pretende reemplazar al MNIST tradicional como el dataset por defecto para medir la efectividad de los modelos de Deep Learning. Es más complejo puesto que sus imágenes representan diversas prendas de ropa, en vez de dígitos escritos a mano.\n",
    "\n",
    "Como sucede con el MNIST original, cada imagen tiene una resolución de 28x28 y se encuentra en escala de grises.\n",
    "\n",
    "### Preludio\n",
    "\n",
    "Igual que para el MNIST tradicional cargamos librerias"
   ]
  },
  {
   "cell_type": "code",
   "execution_count": 51,
   "metadata": {},
   "outputs": [],
   "source": [
    "%matplotlib inline\n",
    "%config InlineBackend.figure_format = 'retina'\n",
    "\n",
    "from collections import OrderedDict\n",
    "\n",
    "import torch\n",
    "from torchvision import datasets, transforms\n",
    "import utils\n",
    "\n",
    "import matplotlib.pyplot as plt\n",
    "import numpy as np\n",
    "import time\n",
    "\n",
    "from torch import nn\n",
    "from torch import optim\n",
    "import torch.nn.functional as F"
   ]
  },
  {
   "cell_type": "markdown",
   "metadata": {},
   "source": [
    "### Datos\n",
    "\n",
    "Esto deberia ser familiar"
   ]
  },
  {
   "cell_type": "code",
   "execution_count": 52,
   "metadata": {},
   "outputs": [],
   "source": [
    "transform = transforms.Compose([transforms.ToTensor(),\n",
    "                                transforms.Normalize((0.5),(0.5)),])\n",
    "\n",
    "train_set = datasets.FashionMNIST('Fashion_MNIST_data/', download=True, train=True, transform=transform)\n",
    "train_loader = torch.utils.data.DataLoader(train_set, batch_size=64, shuffle=True)\n",
    "\n",
    "test_set = datasets.FashionMNIST('Fashion_MNIST_data/', download=True, train=False, transform=transform)\n",
    "test_loader = torch.utils.data.DataLoader(test_set, batch_size=64, shuffle=True)"
   ]
  },
  {
   "cell_type": "markdown",
   "metadata": {},
   "source": [
    "### Un vistazo a los datos\n",
    "\n",
    "Demos un vistazo a una imagen de prueba"
   ]
  },
  {
   "cell_type": "code",
   "execution_count": 53,
   "metadata": {},
   "outputs": [
    {
     "data": {
      "text/plain": [
       "<AxesSubplot:>"
      ]
     },
     "execution_count": 53,
     "metadata": {},
     "output_type": "execute_result"
    },
    {
     "data": {
      "image/png": "[encoded data removed]",
      "text/plain": [
       "<Figure size 432x288 with 1 Axes>"
      ]
     },
     "metadata": {
      "image/png": {
       "height": 231,
       "width": 231
      },
      "needs_background": "light"
     },
     "output_type": "display_data"
    }
   ],
   "source": [
    "image, label = next(iter(train_loader)) #Pulsar varias veces\n",
    "utils.show_image(image[0, :])"
   ]
  },
  {
   "cell_type": "markdown",
   "metadata": {},
   "source": [
    "### La red\n",
    "\n",
    "Definimos una red usando `OrdereDict`, nombramos cada capa/operación"
   ]
  },
  {
   "cell_type": "code",
   "execution_count": 54,
   "metadata": {},
   "outputs": [
    {
     "data": {
      "text/plain": [
       "Sequential(\n",
       "  (fully_connected_1): Linear(in_features=784, out_features=512, bias=True)\n",
       "  (relu_1): ReLU()\n",
       "  (fully_connected_2): Linear(in_features=512, out_features=256, bias=True)\n",
       "  (relu_2): ReLU()\n",
       "  (fully_connected_3): Linear(in_features=256, out_features=128, bias=True)\n",
       "  (relu_3): ReLU()\n",
       "  (logits): Linear(in_features=128, out_features=10, bias=True)\n",
       ")"
      ]
     },
     "execution_count": 54,
     "metadata": {},
     "output_type": "execute_result"
    }
   ],
   "source": [
    "input_size = 784\n",
    "hidden_sizes = [512, 256, 128]\n",
    "output_size = 10\n",
    "\n",
    "model = nn.Sequential(OrderedDict([\n",
    "            ('fully_connected_1', nn.Linear(input_size, hidden_sizes[0])),\n",
    "            ('relu_1', nn.ReLU()),\n",
    "            ('fully_connected_2', nn.Linear(hidden_sizes[0], hidden_sizes[1])),\n",
    "            ('relu_2', nn.ReLU()),\n",
    "            ('fully_connected_3', nn.Linear(hidden_sizes[1], hidden_sizes[2])),\n",
    "            ('relu_3', nn.ReLU()),\n",
    "            ('logits', nn.Linear(hidden_sizes[2], output_size)),\n",
    "        ]))\n",
    "model"
   ]
  },
  {
   "cell_type": "markdown",
   "metadata": {},
   "source": [
    "### ¡Hora de Entrenar!\n",
    "\n",
    "Entrenar es bastante sencillo, como ya has visto:\n",
    "\n",
    " - Paso 1: Define el criterio (función de pérdida).\n",
    " - Paso 2: Define el optimizador (por ejemplo, [Adam](https://machinelearningmastery.com/adam-optimization-algorithm-for-deep-learning/).\n",
    " - Paso 3: Para cada lote en cada epoch:\n",
    "     - Calcula las salidas de la red.\n",
    "     - Calcula la pérdida o error.\n",
    "     - Propaga el error hacia atrás.\n",
    "     - Actualiza los parámetros."
   ]
  },
  {
   "cell_type": "code",
   "execution_count": 55,
   "metadata": {},
   "outputs": [],
   "source": [
    "criterion = nn.CrossEntropyLoss()\n",
    "optimizer = optim.Adam(model.parameters(), lr=0.001)"
   ]
  },
  {
   "cell_type": "code",
   "execution_count": 56,
   "metadata": {},
   "outputs": [
    {
     "name": "stdout",
     "output_type": "stream",
     "text": [
      "Epoch: 1/10...\n",
      "Loss: 1.0814480608701706\n",
      "Epoch: 1/10...\n",
      "Loss: 0.6546878409385681\n",
      "Epoch: 1/10...\n",
      "Loss: 0.6212599271535874\n",
      "Epoch: 1/10...\n",
      "Loss: 0.533799455165863\n",
      "Epoch: 1/10...\n",
      "Loss: 0.5028991770744323\n",
      "Epoch: 1/10...\n",
      "Loss: 0.4759166651964188\n",
      "Epoch: 1/10...\n",
      "Loss: 0.4972801643610001\n",
      "Epoch: 1/10...\n",
      "Loss: 0.505151544213295\n",
      "Epoch: 1/10...\n",
      "Loss: 0.464886332154274\n",
      "Epoch: 1/10...\n",
      "Loss: 0.4521948507428169\n",
      "Epoch: 1/10...\n",
      "Loss: 0.432870622575283\n",
      "Epoch: 1/10...\n",
      "Loss: 0.4284727558493614\n",
      "Epoch: 1/10...\n",
      "Loss: 0.4526283383369446\n",
      "Epoch: 1/10...\n",
      "Loss: 0.40606582701206206\n",
      "Epoch: 1/10...\n",
      "Loss: 0.4230638706684113\n",
      "Epoch: 1/10...\n",
      "Loss: 0.41561594247817996\n",
      "Epoch: 1/10...\n",
      "Loss: 0.44837530940771103\n",
      "Epoch: 1/10...\n",
      "Loss: 0.40003584921360014\n",
      "Epoch: 2/10...\n",
      "Loss: 0.09678150475025177\n",
      "Epoch: 2/10...\n",
      "Loss: 0.37117515116930005\n",
      "Epoch: 2/10...\n",
      "Loss: 0.3908652260899544\n",
      "Epoch: 2/10...\n",
      "Loss: 0.3729883769154549\n",
      "Epoch: 2/10...\n",
      "Loss: 0.384263154566288\n",
      "Epoch: 2/10...\n",
      "Loss: 0.37984356582164763\n",
      "Epoch: 2/10...\n",
      "Loss: 0.3924653512239456\n",
      "Epoch: 2/10...\n",
      "Loss: 0.3630973552167416\n",
      "Epoch: 2/10...\n",
      "Loss: 0.37784147053956985\n",
      "Epoch: 2/10...\n",
      "Loss: 0.38680614054203033\n",
      "Epoch: 2/10...\n",
      "Loss: 0.3645292067527771\n",
      "Epoch: 2/10...\n",
      "Loss: 0.3618957957625389\n",
      "Epoch: 2/10...\n",
      "Loss: 0.3569644831120968\n",
      "Epoch: 2/10...\n",
      "Loss: 0.37589284479618074\n",
      "Epoch: 2/10...\n",
      "Loss: 0.3385368034243584\n",
      "Epoch: 2/10...\n",
      "Loss: 0.3612707895040512\n",
      "Epoch: 2/10...\n",
      "Loss: 0.35578552722930906\n",
      "Epoch: 2/10...\n",
      "Loss: 0.3697249537706375\n",
      "Epoch: 2/10...\n",
      "Loss: 0.3661421260237694\n",
      "Epoch: 3/10...\n",
      "Loss: 0.16766006141901016\n",
      "Epoch: 3/10...\n",
      "Loss: 0.3269241952896118\n",
      "Epoch: 3/10...\n",
      "Loss: 0.3135930174589157\n",
      "Epoch: 3/10...\n",
      "Loss: 0.3390189605951309\n",
      "Epoch: 3/10...\n",
      "Loss: 0.3533718517422676\n",
      "Epoch: 3/10...\n",
      "Loss: 0.3214313066005707\n",
      "Epoch: 3/10...\n",
      "Loss: 0.36245343416929243\n",
      "Epoch: 3/10...\n",
      "Loss: 0.31877896636724473\n",
      "Epoch: 3/10...\n",
      "Loss: 0.335108659863472\n",
      "Epoch: 3/10...\n",
      "Loss: 0.3369677808880806\n",
      "Epoch: 3/10...\n",
      "Loss: 0.3080645400285721\n",
      "Epoch: 3/10...\n",
      "Loss: 0.3535493421554565\n",
      "Epoch: 3/10...\n",
      "Loss: 0.3359235560894012\n",
      "Epoch: 3/10...\n",
      "Loss: 0.3209722900390625\n",
      "Epoch: 3/10...\n",
      "Loss: 0.3378484299778938\n",
      "Epoch: 3/10...\n",
      "Loss: 0.32729081213474276\n",
      "Epoch: 3/10...\n",
      "Loss: 0.3270571783185005\n",
      "Epoch: 3/10...\n",
      "Loss: 0.3486669263243675\n",
      "Epoch: 3/10...\n",
      "Loss: 0.3464770093560219\n",
      "Epoch: 4/10...\n",
      "Loss: 0.20806025102734566\n",
      "Epoch: 4/10...\n",
      "Loss: 0.29498724281787875\n",
      "Epoch: 4/10...\n",
      "Loss: 0.3089694854617119\n",
      "Epoch: 4/10...\n",
      "Loss: 0.3091789916157722\n",
      "Epoch: 4/10...\n",
      "Loss: 0.315661328881979\n",
      "Epoch: 4/10...\n",
      "Loss: 0.3174804255366325\n",
      "Epoch: 4/10...\n",
      "Loss: 0.3052633368968964\n",
      "Epoch: 4/10...\n",
      "Loss: 0.29162820339202883\n",
      "Epoch: 4/10...\n",
      "Loss: 0.3024325287342072\n",
      "Epoch: 4/10...\n",
      "Loss: 0.3120504888892174\n",
      "Epoch: 4/10...\n",
      "Loss: 0.2969515135884285\n",
      "Epoch: 4/10...\n",
      "Loss: 0.3215301796793938\n",
      "Epoch: 4/10...\n",
      "Loss: 0.3036351764202118\n",
      "Epoch: 4/10...\n",
      "Loss: 0.3245137307047844\n",
      "Epoch: 4/10...\n",
      "Loss: 0.293899721801281\n",
      "Epoch: 4/10...\n",
      "Loss: 0.3154512220621109\n",
      "Epoch: 4/10...\n",
      "Loss: 0.29513559997081756\n",
      "Epoch: 4/10...\n",
      "Loss: 0.2930078558623791\n",
      "Epoch: 4/10...\n",
      "Loss: 0.3039513918757439\n",
      "Epoch: 5/10...\n",
      "Loss: 0.27075067162513733\n",
      "Epoch: 5/10...\n",
      "Loss: 0.2813286226987839\n",
      "Epoch: 5/10...\n",
      "Loss: 0.28389176577329633\n",
      "Epoch: 5/10...\n",
      "Loss: 0.27248558297753334\n",
      "Epoch: 5/10...\n",
      "Loss: 0.27299603685736656\n",
      "Epoch: 5/10...\n",
      "Loss: 0.2768158933520317\n",
      "Epoch: 5/10...\n",
      "Loss: 0.2943516263365746\n",
      "Epoch: 5/10...\n",
      "Loss: 0.2792970535159111\n",
      "Epoch: 5/10...\n",
      "Loss: 0.2945132023096085\n",
      "Epoch: 5/10...\n",
      "Loss: 0.286757006496191\n",
      "Epoch: 5/10...\n",
      "Loss: 0.2949390983581543\n",
      "Epoch: 5/10...\n",
      "Loss: 0.29510152846574783\n",
      "Epoch: 5/10...\n",
      "Loss: 0.2735362578928471\n",
      "Epoch: 5/10...\n",
      "Loss: 0.2792874780297279\n",
      "Epoch: 5/10...\n",
      "Loss: 0.3049255755543709\n",
      "Epoch: 5/10...\n",
      "Loss: 0.28895856827497485\n",
      "Epoch: 5/10...\n",
      "Loss: 0.2845000594854355\n",
      "Epoch: 5/10...\n",
      "Loss: 0.30747480362653734\n",
      "Epoch: 6/10...\n",
      "Loss: 0.06131073608994484\n",
      "Epoch: 6/10...\n",
      "Loss: 0.2716127890348434\n",
      "Epoch: 6/10...\n",
      "Loss: 0.2533179825544357\n",
      "Epoch: 6/10...\n",
      "Loss: 0.27176487252116205\n",
      "Epoch: 6/10...\n",
      "Loss: 0.25533430323004724\n",
      "Epoch: 6/10...\n",
      "Loss: 0.2395995005965233\n",
      "Epoch: 6/10...\n",
      "Loss: 0.2782701873779297\n",
      "Epoch: 6/10...\n",
      "Loss: 0.27890785560011866\n",
      "Epoch: 6/10...\n",
      "Loss: 0.3057829025387764\n",
      "Epoch: 6/10...\n",
      "Loss: 0.2695072317123413\n",
      "Epoch: 6/10...\n",
      "Loss: 0.26757790133357046\n",
      "Epoch: 6/10...\n",
      "Loss: 0.30213972598314287\n",
      "Epoch: 6/10...\n",
      "Loss: 0.2781810411810875\n",
      "Epoch: 6/10...\n",
      "Loss: 0.25807993024587633\n",
      "Epoch: 6/10...\n",
      "Loss: 0.27486892834305765\n",
      "Epoch: 6/10...\n",
      "Loss: 0.2695316514372826\n",
      "Epoch: 6/10...\n",
      "Loss: 0.2655081516504288\n",
      "Epoch: 6/10...\n",
      "Loss: 0.2549645446240902\n",
      "Epoch: 6/10...\n",
      "Loss: 0.277182796895504\n",
      "Epoch: 7/10...\n",
      "Loss: 0.11777756512165069\n",
      "Epoch: 7/10...\n",
      "Loss: 0.24638389959931373\n",
      "Epoch: 7/10...\n",
      "Loss: 0.26719031304121016\n",
      "Epoch: 7/10...\n",
      "Loss: 0.2632585187256336\n",
      "Epoch: 7/10...\n",
      "Loss: 0.25858152613043783\n",
      "Epoch: 7/10...\n",
      "Loss: 0.2399567687511444\n",
      "Epoch: 7/10...\n",
      "Loss: 0.23942147240042685\n",
      "Epoch: 7/10...\n",
      "Loss: 0.269460079818964\n",
      "Epoch: 7/10...\n",
      "Loss: 0.24358538836240767\n",
      "Epoch: 7/10...\n",
      "Loss: 0.24375790297985078\n",
      "Epoch: 7/10...\n",
      "Loss: 0.2661319351196289\n",
      "Epoch: 7/10...\n",
      "Loss: 0.26821429073810577\n",
      "Epoch: 7/10...\n",
      "Loss: 0.2518495452404022\n",
      "Epoch: 7/10...\n",
      "Loss: 0.25752531975507736\n",
      "Epoch: 7/10...\n",
      "Loss: 0.2621570488810539\n",
      "Epoch: 7/10...\n",
      "Loss: 0.27338842272758485\n",
      "Epoch: 7/10...\n",
      "Loss: 0.27459755808115005\n",
      "Epoch: 7/10...\n",
      "Loss: 0.2604364475607872\n",
      "Epoch: 7/10...\n",
      "Loss: 0.24845799997448922\n",
      "Epoch: 8/10...\n",
      "Loss: 0.17712540298700333\n",
      "Epoch: 8/10...\n",
      "Loss: 0.24814669162034989\n",
      "Epoch: 8/10...\n",
      "Loss: 0.23975025802850725\n",
      "Epoch: 8/10...\n",
      "Loss: 0.25323927640914917\n",
      "Epoch: 8/10...\n",
      "Loss: 0.23075106710195542\n",
      "Epoch: 8/10...\n",
      "Loss: 0.22364571511745454\n",
      "Epoch: 8/10...\n",
      "Loss: 0.24648397609591485\n",
      "Epoch: 8/10...\n",
      "Loss: 0.226791530251503\n",
      "Epoch: 8/10...\n",
      "Loss: 0.2239346544444561\n",
      "Epoch: 8/10...\n",
      "Loss: 0.23724030181765557\n",
      "Epoch: 8/10...\n",
      "Loss: 0.242511867582798\n",
      "Epoch: 8/10...\n",
      "Loss: 0.24740499630570412\n",
      "Epoch: 8/10...\n",
      "Loss: 0.24367229014635086\n",
      "Epoch: 8/10...\n",
      "Loss: 0.2552422788739204\n",
      "Epoch: 8/10...\n",
      "Loss: 0.24512094512581825\n",
      "Epoch: 8/10...\n",
      "Loss: 0.23785290867090225\n",
      "Epoch: 8/10...\n",
      "Loss: 0.2292805764079094\n",
      "Epoch: 8/10...\n",
      "Loss: 0.25730846241116523\n",
      "Epoch: 8/10...\n",
      "Loss: 0.24683018580079077\n",
      "Epoch: 9/10...\n",
      "Loss: 0.19668237574398517\n",
      "Epoch: 9/10...\n",
      "Loss: 0.22927710995078088\n",
      "Epoch: 9/10...\n",
      "Loss: 0.2307850368320942\n",
      "Epoch: 9/10...\n",
      "Loss: 0.22901056870818137\n",
      "Epoch: 9/10...\n",
      "Loss: 0.22699956849217415\n",
      "Epoch: 9/10...\n",
      "Loss: 0.2534624345600605\n",
      "Epoch: 9/10...\n",
      "Loss: 0.20851734399795532\n",
      "Epoch: 9/10...\n",
      "Loss: 0.23198678456246852\n",
      "Epoch: 9/10...\n",
      "Loss: 0.23329464048147203\n",
      "Epoch: 9/10...\n",
      "Loss: 0.24448371857404708\n",
      "Epoch: 9/10...\n",
      "Loss: 0.24000838607549668\n",
      "Epoch: 9/10...\n",
      "Loss: 0.22435112833976745\n",
      "Epoch: 9/10...\n",
      "Loss: 0.22041269898414612\n",
      "Epoch: 9/10...\n",
      "Loss: 0.2274351839721203\n",
      "Epoch: 9/10...\n",
      "Loss: 0.2324504755437374\n",
      "Epoch: 9/10...\n",
      "Loss: 0.2442730624973774\n",
      "Epoch: 9/10...\n",
      "Loss: 0.2437303729355335\n",
      "Epoch: 9/10...\n",
      "Loss: 0.23157670304179193\n",
      "Epoch: 10/10...\n",
      "Loss: 0.042233033180236815\n",
      "Epoch: 10/10...\n",
      "Loss: 0.21325708135962487\n",
      "Epoch: 10/10...\n",
      "Loss: 0.19987426795065402\n",
      "Epoch: 10/10...\n",
      "Loss: 0.21848329901695251\n",
      "Epoch: 10/10...\n",
      "Loss: 0.21752243459224702\n",
      "Epoch: 10/10...\n",
      "Loss: 0.2071841786801815\n",
      "Epoch: 10/10...\n",
      "Loss: 0.22320265233516692\n",
      "Epoch: 10/10...\n",
      "Loss: 0.22263475999236107\n",
      "Epoch: 10/10...\n",
      "Loss: 0.21893013387918472\n",
      "Epoch: 10/10...\n",
      "Loss: 0.21357297420501709\n",
      "Epoch: 10/10...\n",
      "Loss: 0.21662583202123642\n",
      "Epoch: 10/10...\n",
      "Loss: 0.23294251583516598\n",
      "Epoch: 10/10...\n",
      "Loss: 0.21232970029115678\n",
      "Epoch: 10/10...\n",
      "Loss: 0.21598216861486436\n",
      "Epoch: 10/10...\n",
      "Loss: 0.22898052588105203\n",
      "Epoch: 10/10...\n",
      "Loss: 0.2045276628434658\n",
      "Epoch: 10/10...\n",
      "Loss: 0.2239751186966896\n",
      "Epoch: 10/10...\n",
      "Loss: 0.2195206528902054\n",
      "Epoch: 10/10...\n",
      "Loss: 0.23615692496299745\n"
     ]
    }
   ],
   "source": [
    "epochs = 10\n",
    "print_every = 50\n",
    "steps = 0\n",
    "\n",
    "for epoch in range(1, epochs + 1):\n",
    "    running_loss = 0\n",
    "    for images, labels in iter(train_loader):\n",
    "        steps += 1\n",
    "        \n",
    "        images.resize_(images.size()[0], 784)\n",
    "        \n",
    "        optimizer.zero_grad()\n",
    "        \n",
    "        output = model.forward(images)\n",
    "        loss = criterion(output, labels)\n",
    "        loss.backward()\n",
    "        optimizer.step()\n",
    "        \n",
    "        running_loss += loss.item()\n",
    "        \n",
    "        if steps % print_every == 0:\n",
    "            print(f'Epoch: {epoch}/{epochs}...\\nLoss: {running_loss/print_every}')\n",
    "            \n",
    "            running_loss = 0"
   ]
  },
  {
   "cell_type": "markdown",
   "metadata": {},
   "source": [
    "### Resultados"
   ]
  },
  {
   "cell_type": "code",
   "execution_count": 57,
   "metadata": {},
   "outputs": [
    {
     "data": {
      "image/png": "[encoded data removed]",
      "text/plain": [
       "<Figure size 432x648 with 2 Axes>"
      ]
     },
     "metadata": {
      "image/png": {
       "height": 195,
       "width": 349
      },
      "needs_background": "light"
     },
     "output_type": "display_data"
    }
   ],
   "source": [
    "data_iter = iter(test_loader)\n",
    "images, labels = data_iter.next()\n",
    "\n",
    "image = images[0]\n",
    "\n",
    "image = image.resize_(1, 784)\n",
    "\n",
    "with torch.no_grad():\n",
    "    logits = model.forward(image)\n",
    "    \n",
    "predictions = F.softmax(logits, dim=1)\n",
    "utils.view_classify(image.view(1, 28, 28), predictions, version='Fashion')"
   ]
  },
  {
   "cell_type": "markdown",
   "metadata": {},
   "source": [
    "## 5.- Inferencia con PyTorch\n",
    "\n",
    "Con las técnicas de ML buscamos **inferir** resultados a partir de la base de datos que tenemos.\n",
    "\n",
    "Sin embargo, existe un problema muy común llamado *overfitting*, que resulta de la eliminación de la capacidad de la red de generalizar los resultados y simplemente memoriza. Por lo anterior, es importante tener mecanismo de validación, compuestos de imágenes nuevas, con el fin de probar el rendimiento del modelo. Para contrarrestar el overfitting hay varias técnicas de regularización, como *dropout*, que analizaremos."
   ]
  },
  {
   "cell_type": "code",
   "execution_count": 58,
   "metadata": {},
   "outputs": [],
   "source": [
    "# Como siempre importamos lo necesario\n",
    "%matplotlib inline\n",
    "%config InlineBackend.figure_format = 'retina'\n",
    "\n",
    "import matplotlib.pyplot as plt\n",
    "import numpy as np\n",
    "import time\n",
    "\n",
    "import torch\n",
    "from torch import nn\n",
    "from torch import optim\n",
    "import torch.nn.functional as F\n",
    "from torchvision import datasets, transforms\n",
    "\n",
    "import utils"
   ]
  },
  {
   "cell_type": "code",
   "execution_count": 59,
   "metadata": {},
   "outputs": [],
   "source": [
    "transform = transforms.Compose([\n",
    "        transforms.ToTensor(),\n",
    "        transforms.Normalize((0.5), (0.5))\n",
    "    ])\n",
    "\n",
    "train_set = datasets.FashionMNIST('Fashion_MNIST_data/', download=True, train=True, transform=transform)\n",
    "train_loader = torch.utils.data.DataLoader(train_set, batch_size=64, shuffle=True)\n",
    "\n",
    "test_set = datasets.FashionMNIST('Fashion_MNIST_data/', download=True, train=False, transform=transform)\n",
    "test_loader = torch.utils.data.DataLoader(test_set, batch_size=64, shuffle=True)"
   ]
  },
  {
   "cell_type": "markdown",
   "metadata": {},
   "source": [
    "Vamos a trabajar sobre el problema de Fashion-MNIST. Dejaremos como un parámetro el número de `hidden_layer`. Y regularizaremos usando `dropout`. La proporción de la red que será aleatoriamente apagada es , por defecto 0.5, aunque este valor se puede cambiar.\n",
    "\n",
    "Puesto que es un problema de clasificación multiclase, debemos activar al salida de la red utilizando un *softmax logarítmico`."
   ]
  },
  {
   "cell_type": "code",
   "execution_count": 60,
   "metadata": {},
   "outputs": [],
   "source": [
    "class Network(nn.Module):\n",
    "    def __init__(self, input_size, output_size, hidden_layers, drop_proportion=0.5): #hidden contiene el numero de nodos por capa\n",
    "        super().__init__()\n",
    "        \n",
    "        self.hidden_layers = nn.ModuleList([nn.Linear(input_size, hidden_layers[0])])\n",
    "        \n",
    "        layer_sizes = zip(hidden_layers[:-1], hidden_layers[1:]) # \n",
    "        self.hidden_layers.extend([nn.Linear(h1, h2) for h1, h2 in layer_sizes])\n",
    "        \n",
    "        self.output = nn.Linear(hidden_layers[-1], output_size)\n",
    "        self.dropout = nn.Dropout(p=drop_proportion)\n",
    "        \n",
    "    def forward(self, x):\n",
    "        for linear in self.hidden_layers:\n",
    "            x = F.relu(linear(x))\n",
    "            x = self.dropout(x)\n",
    "            \n",
    "        x = self.output(x)\n",
    "        return F.log_softmax(x, dim=1)"
   ]
  },
  {
   "cell_type": "markdown",
   "metadata": {},
   "source": [
    "### Entrenando a la red\n",
    "\n",
    "Las salidas han pasado por la función **negative log loss** que es un buen criterio.\n",
    "\n",
    "Como optimizador usaremos [ADAM](https://pytorch.org/docs/stable/optim.html) que tiene una buena configuración por defecto.\n",
    "\n",
    "Un aspecto a tener en cuenta es que *dropout* debe ser apagado durante la inferencia, sino la impresión de que la red no ha aprendido nada, ya que aproximadamente la mitad de sus neuronas estarán desactivadas. Hemos de recordar que *dropout* se usa para forzar a la red a usar caminos alternativos para llegar a la misma conclusión, reduciendo así la parcialidad o tendencia de ciertas neuronas a activarse en grupo, pero durante la inferencia no estamos entrenando, sino realmente usando la red, por lo que esta medida no es sólo innecesaria, sino contraproducente.\n",
    "\n",
    "PyTorch nos deja especificar la modalidad de la red: \n",
    "\n",
    "* `model.train()` indica que la red está siendo entrenada y, entre otras cosas, permite que dropout esté activado.\n",
    "* `model.eval()` significa qeu estamos en modo de inferencia o evaluación, por lo que se apagar el dropout.\n",
    "\n"
   ]
  },
  {
   "cell_type": "code",
   "execution_count": 61,
   "metadata": {},
   "outputs": [],
   "source": [
    "model = Network(784, 10, [516, 256], drop_proportion=0.5)\n",
    "criterion = nn.NLLLoss()\n",
    "optimizer = optim.Adam(model.parameters(), lr=0.001)"
   ]
  },
  {
   "cell_type": "code",
   "execution_count": 62,
   "metadata": {},
   "outputs": [],
   "source": [
    "def validation(model, test_loader, criterion):\n",
    "    test_loss = 0\n",
    "    accuracy = 0\n",
    "    \n",
    "    for images, labels in test_loader:\n",
    "        images.resize_(images.shape[0], 784)\n",
    "        \n",
    "        output = model.forward(images)\n",
    "        test_loss += criterion(output, labels).item()\n",
    "        \n",
    "        predictions = torch.exp(output)\n",
    "        equality = (labels.data == predictions.max(dim=1)[1])\n",
    "        accuracy += equality.type(torch.FloatTensor).mean()\n",
    "        \n",
    "    return test_loss, accuracy"
   ]
  },
  {
   "cell_type": "code",
   "execution_count": 63,
   "metadata": {},
   "outputs": [
    {
     "name": "stdout",
     "output_type": "stream",
     "text": [
      "Epoch: 1/5...\n",
      "Training Loss: 1.2391840350627898\n",
      "Test Loss: 0.7069117018751278\n",
      "Test Accuracy: 0.7435310482978821\n",
      "Epoch: 1/5...\n",
      "Training Loss: 0.7941022443771363\n",
      "Test Loss: 0.6255809228131726\n",
      "Test Accuracy: 0.7736862897872925\n",
      "Epoch: 1/5...\n",
      "Training Loss: 0.6909544837474823\n",
      "Test Loss: 0.6163860263338514\n",
      "Test Accuracy: 0.769207775592804\n",
      "Epoch: 1/5...\n",
      "Training Loss: 0.6352997374534607\n",
      "Test Loss: 0.5516353371037039\n",
      "Test Accuracy: 0.7967754602432251\n",
      "Epoch: 1/5...\n",
      "Training Loss: 0.6168015158176422\n",
      "Test Loss: 0.530918019212735\n",
      "Test Accuracy: 0.8029458522796631\n",
      "Epoch: 1/5...\n",
      "Training Loss: 0.5937568777799607\n",
      "Test Loss: 0.527033528135081\n",
      "Test Accuracy: 0.8039410710334778\n",
      "Epoch: 1/5...\n",
      "Training Loss: 0.560611098408699\n",
      "Test Loss: 0.5124731120789886\n",
      "Test Accuracy: 0.812699019908905\n",
      "Epoch: 1/5...\n",
      "Training Loss: 0.5728222382068634\n",
      "Test Loss: 0.5121433007868992\n",
      "Test Accuracy: 0.8114052414894104\n",
      "Epoch: 1/5...\n",
      "Training Loss: 0.5423718410730362\n",
      "Test Loss: 0.5073476853264365\n",
      "Test Accuracy: 0.8131966590881348\n",
      "Epoch: 1/5...\n",
      "Training Loss: 0.565796237885952\n",
      "Test Loss: 0.5073763880000752\n",
      "Test Accuracy: 0.8106091022491455\n",
      "Epoch: 1/5...\n",
      "Training Loss: 0.5460192185640335\n",
      "Test Loss: 0.4886505766089555\n",
      "Test Accuracy: 0.8215565085411072\n",
      "Epoch: 1/5...\n",
      "Training Loss: 0.543916847705841\n",
      "Test Loss: 0.4793841419326272\n",
      "Test Accuracy: 0.8216560482978821\n",
      "Epoch: 1/5...\n",
      "Training Loss: 0.5402726900577545\n",
      "Test Loss: 0.4774842604899862\n",
      "Test Accuracy: 0.821755588054657\n",
      "Epoch: 1/5...\n",
      "Training Loss: 0.5345200705528259\n",
      "Test Loss: 0.4920132054834609\n",
      "Test Accuracy: 0.8133956789970398\n",
      "Epoch: 1/5...\n",
      "Training Loss: 0.5294604986906052\n",
      "Test Loss: 0.46926279100263196\n",
      "Test Accuracy: 0.8229498267173767\n",
      "Epoch: 1/5...\n",
      "Training Loss: 0.4860863721370697\n",
      "Test Loss: 0.4702997531291026\n",
      "Test Accuracy: 0.8241441249847412\n",
      "Epoch: 1/5...\n",
      "Training Loss: 0.5109227156639099\n",
      "Test Loss: 0.45775870352414005\n",
      "Test Accuracy: 0.834295392036438\n",
      "Epoch: 1/5...\n",
      "Training Loss: 0.5258370566368104\n",
      "Test Loss: 0.4629877780083638\n",
      "Test Accuracy: 0.831409215927124\n",
      "Epoch: 2/5...\n",
      "Training Loss: 0.5099250835180282\n",
      "Test Loss: 0.47676490095390633\n",
      "Test Accuracy: 0.8205612897872925\n",
      "Epoch: 2/5...\n",
      "Training Loss: 0.49814918100833894\n",
      "Test Loss: 0.4605768631408169\n",
      "Test Accuracy: 0.8296178579330444\n",
      "Epoch: 2/5...\n",
      "Training Loss: 0.49225899279117585\n",
      "Test Loss: 0.44767692314971025\n",
      "Test Accuracy: 0.8321058750152588\n",
      "Epoch: 2/5...\n",
      "Training Loss: 0.4780019783973694\n",
      "Test Loss: 0.43970498081984793\n",
      "Test Accuracy: 0.8421576619148254\n",
      "Epoch: 2/5...\n",
      "Training Loss: 0.49654508650302887\n",
      "Test Loss: 0.43489628603124314\n",
      "Test Accuracy: 0.837579607963562\n",
      "Epoch: 2/5...\n",
      "Training Loss: 0.4988595622777939\n",
      "Test Loss: 0.43641668074070267\n",
      "Test Accuracy: 0.8407643437385559\n",
      "Epoch: 2/5...\n",
      "Training Loss: 0.4812590229511261\n",
      "Test Loss: 0.4480707796326109\n",
      "Test Accuracy: 0.8392714858055115\n",
      "Epoch: 2/5...\n",
      "Training Loss: 0.5142408215999603\n",
      "Test Loss: 0.4295576206248277\n",
      "Test Accuracy: 0.8452428579330444\n",
      "Epoch: 2/5...\n",
      "Training Loss: 0.479950937628746\n",
      "Test Loss: 0.43733978755534836\n",
      "Test Accuracy: 0.8365843892097473\n",
      "Epoch: 2/5...\n",
      "Training Loss: 0.4783476334810257\n",
      "Test Loss: 0.4279716438168933\n",
      "Test Accuracy: 0.8472332954406738\n",
      "Epoch: 2/5...\n",
      "Training Loss: 0.4602120006084442\n",
      "Test Loss: 0.42644978082104096\n",
      "Test Accuracy: 0.8441480994224548\n",
      "Epoch: 2/5...\n",
      "Training Loss: 0.4954163336753845\n",
      "Test Loss: 0.41872733774458526\n",
      "Test Accuracy: 0.8471337556838989\n",
      "Epoch: 2/5...\n",
      "Training Loss: 0.4878978607058525\n",
      "Test Loss: 0.426682759005173\n",
      "Test Accuracy: 0.8422571420669556\n",
      "Epoch: 2/5...\n",
      "Training Loss: 0.5071408620476723\n",
      "Test Loss: 0.44119431619431565\n",
      "Test Accuracy: 0.8343949317932129\n",
      "Epoch: 2/5...\n",
      "Training Loss: 0.488199297785759\n",
      "Test Loss: 0.4547554619942501\n",
      "Test Accuracy: 0.8294187784194946\n",
      "Epoch: 2/5...\n",
      "Training Loss: 0.47936264872550965\n",
      "Test Loss: 0.4258339962192402\n",
      "Test Accuracy: 0.8460389971733093\n",
      "Epoch: 2/5...\n",
      "Training Loss: 0.49257519662380217\n",
      "Test Loss: 0.41974084942963474\n",
      "Test Accuracy: 0.8416600227355957\n",
      "Epoch: 2/5...\n",
      "Training Loss: 0.4748936033248901\n",
      "Test Loss: 0.4224909190918989\n",
      "Test Accuracy: 0.8423566818237305\n",
      "Epoch: 2/5...\n",
      "Training Loss: 0.48395713806152346\n",
      "Test Loss: 0.42014773750001455\n",
      "Test Accuracy: 0.8419585824012756\n",
      "Epoch: 3/5...\n",
      "Training Loss: 0.45688363879919053\n",
      "Test Loss: 0.42618340680933303\n",
      "Test Accuracy: 0.8478304147720337\n",
      "Epoch: 3/5...\n",
      "Training Loss: 0.47043716788291934\n",
      "Test Loss: 0.4211642738360508\n",
      "Test Accuracy: 0.8424562215805054\n",
      "Epoch: 3/5...\n",
      "Training Loss: 0.4386543062329292\n",
      "Test Loss: 0.4136990919044823\n",
      "Test Accuracy: 0.8498208522796631\n",
      "Epoch: 3/5...\n",
      "Training Loss: 0.48451240479946134\n",
      "Test Loss: 0.4081946686384784\n",
      "Test Accuracy: 0.8467356562614441\n",
      "Epoch: 3/5...\n",
      "Training Loss: 0.44470312893390657\n",
      "Test Loss: 0.41175012622669244\n",
      "Test Accuracy: 0.8480294346809387\n",
      "Epoch: 3/5...\n",
      "Training Loss: 0.47925749242305754\n",
      "Test Loss: 0.4255210026434273\n",
      "Test Accuracy: 0.843949019908905\n",
      "Epoch: 3/5...\n",
      "Training Loss: 0.45753850042819977\n",
      "Test Loss: 0.4331414634065264\n",
      "Test Accuracy: 0.8381767272949219\n",
      "Epoch: 3/5...\n",
      "Training Loss: 0.45197941482067105\n",
      "Test Loss: 0.4221749540157379\n",
      "Test Accuracy: 0.8464370965957642\n",
      "Epoch: 3/5...\n",
      "Training Loss: 0.43476145148277284\n",
      "Test Loss: 0.42074019618474756\n",
      "Test Accuracy: 0.8474323153495789\n",
      "Epoch: 3/5...\n",
      "Training Loss: 0.4294889524579048\n",
      "Test Loss: 0.41744212493015703\n",
      "Test Accuracy: 0.8480294346809387\n",
      "Epoch: 3/5...\n",
      "Training Loss: 0.4481989800930023\n",
      "Test Loss: 0.41622794424272647\n",
      "Test Accuracy: 0.8430533409118652\n",
      "Epoch: 3/5...\n",
      "Training Loss: 0.4307822933793068\n",
      "Test Loss: 0.4222915982175025\n",
      "Test Accuracy: 0.8462380766868591\n",
      "Epoch: 3/5...\n",
      "Training Loss: 0.46076556742191316\n",
      "Test Loss: 0.4130713908345836\n",
      "Test Accuracy: 0.8485270738601685\n",
      "Epoch: 3/5...\n",
      "Training Loss: 0.4766400972008705\n",
      "Test Loss: 0.4131944353223606\n",
      "Test Accuracy: 0.8463375568389893\n",
      "Epoch: 3/5...\n",
      "Training Loss: 0.48193032562732696\n",
      "Test Loss: 0.41770396490765227\n",
      "Test Accuracy: 0.8509156107902527\n",
      "Epoch: 3/5...\n",
      "Training Loss: 0.461972713470459\n",
      "Test Loss: 0.41064071484432096\n",
      "Test Accuracy: 0.849920392036438\n",
      "Epoch: 3/5...\n",
      "Training Loss: 0.438911737203598\n",
      "Test Loss: 0.39733236676948086\n",
      "Test Accuracy: 0.8561902642250061\n",
      "Epoch: 3/5...\n",
      "Training Loss: 0.4515538612008095\n",
      "Test Loss: 0.398689973221463\n",
      "Test Accuracy: 0.8515127301216125\n",
      "Epoch: 3/5...\n",
      "Training Loss: 0.4547470933198929\n",
      "Test Loss: 0.40162105696975803\n",
      "Test Accuracy: 0.8549960255622864\n",
      "Epoch: 4/5...\n",
      "Training Loss: 0.42038617968559266\n",
      "Test Loss: 0.4028089697573595\n",
      "Test Accuracy: 0.8528065085411072\n",
      "Epoch: 4/5...\n",
      "Training Loss: 0.4248617660999298\n",
      "Test Loss: 0.3979061250663867\n",
      "Test Accuracy: 0.8546974658966064\n",
      "Epoch: 4/5...\n",
      "Training Loss: 0.4335307404398918\n",
      "Test Loss: 0.4031204372454601\n",
      "Test Accuracy: 0.8556926846504211\n",
      "Epoch: 4/5...\n",
      "Training Loss: 0.4301805192232132\n",
      "Test Loss: 0.4028796640930662\n",
      "Test Accuracy: 0.8507165312767029\n",
      "Epoch: 4/5...\n",
      "Training Loss: 0.43195388466119766\n",
      "Test Loss: 0.40868501384167155\n",
      "Test Accuracy: 0.8514131903648376\n",
      "Epoch: 4/5...\n",
      "Training Loss: 0.449660396873951\n",
      "Test Loss: 0.3981018590319688\n",
      "Test Accuracy: 0.8559912443161011\n",
      "Epoch: 4/5...\n",
      "Training Loss: 0.4389458608627319\n",
      "Test Loss: 0.40017785976646814\n",
      "Test Accuracy: 0.8543989062309265\n",
      "Epoch: 4/5...\n",
      "Training Loss: 0.43036507844924926\n",
      "Test Loss: 0.4009428729487073\n",
      "Test Accuracy: 0.8548964858055115\n",
      "Epoch: 4/5...\n",
      "Training Loss: 0.40393913358449934\n",
      "Test Loss: 0.3904689072993151\n",
      "Test Accuracy: 0.8577826619148254\n",
      "Epoch: 4/5...\n",
      "Training Loss: 0.41771927267313\n",
      "Test Loss: 0.4012431788976025\n",
      "Test Accuracy: 0.8538017272949219\n",
      "Epoch: 4/5...\n",
      "Training Loss: 0.41392548382282257\n",
      "Test Loss: 0.3951641111427052\n",
      "Test Accuracy: 0.8541998267173767\n",
      "Epoch: 4/5...\n",
      "Training Loss: 0.4419863361120224\n",
      "Test Loss: 0.38953794557957133\n",
      "Test Accuracy: 0.8615645170211792\n",
      "Epoch: 4/5...\n",
      "Training Loss: 0.4569733941555023\n",
      "Test Loss: 0.39204125035150794\n",
      "Test Accuracy: 0.8566879034042358\n",
      "Epoch: 4/5...\n",
      "Training Loss: 0.4418432876467705\n",
      "Test Loss: 0.3980499615145337\n",
      "Test Accuracy: 0.852707028388977\n",
      "Epoch: 4/5...\n",
      "Training Loss: 0.394890838265419\n",
      "Test Loss: 0.3961193130654135\n",
      "Test Accuracy: 0.8561902642250061\n",
      "Epoch: 4/5...\n",
      "Training Loss: 0.44903897643089297\n",
      "Test Loss: 0.3860305493614476\n",
      "Test Accuracy: 0.8572850227355957\n",
      "Epoch: 4/5...\n",
      "Training Loss: 0.4375752127170563\n",
      "Test Loss: 0.39593234857556164\n",
      "Test Accuracy: 0.8522093892097473\n"
     ]
    },
    {
     "name": "stdout",
     "output_type": "stream",
     "text": [
      "Epoch: 4/5...\n",
      "Training Loss: 0.4503226602077484\n",
      "Test Loss: 0.4084832006768816\n",
      "Test Accuracy: 0.8480294346809387\n",
      "Epoch: 4/5...\n",
      "Training Loss: 0.42331373035907743\n",
      "Test Loss: 0.38846349350775883\n",
      "Test Accuracy: 0.8594745397567749\n",
      "Epoch: 5/5...\n",
      "Training Loss: 0.4229907202720642\n",
      "Test Loss: 0.39421661815066245\n",
      "Test Accuracy: 0.8552945852279663\n",
      "Epoch: 5/5...\n",
      "Training Loss: 0.4144744238257408\n",
      "Test Loss: 0.38244290365155337\n",
      "Test Accuracy: 0.8588773608207703\n",
      "Epoch: 5/5...\n",
      "Training Loss: 0.4199689361453056\n",
      "Test Loss: 0.40253792257065985\n",
      "Test Accuracy: 0.847332775592804\n",
      "Epoch: 5/5...\n",
      "Training Loss: 0.43804052233695984\n",
      "Test Loss: 0.38401616995881316\n",
      "Test Accuracy: 0.8600716590881348\n",
      "Epoch: 5/5...\n",
      "Training Loss: 0.4237778800725937\n",
      "Test Loss: 0.3834354269086935\n",
      "Test Accuracy: 0.8623606562614441\n",
      "Epoch: 5/5...\n",
      "Training Loss: 0.4291764745116234\n",
      "Test Loss: 0.3941841925595217\n",
      "Test Accuracy: 0.8524084687232971\n",
      "Epoch: 5/5...\n",
      "Training Loss: 0.44190257489681245\n",
      "Test Loss: 0.3839400229370518\n",
      "Test Accuracy: 0.8584793210029602\n",
      "Epoch: 5/5...\n",
      "Training Loss: 0.43043393492698667\n",
      "Test Loss: 0.3936498023711952\n",
      "Test Accuracy: 0.8569864630699158\n",
      "Epoch: 5/5...\n",
      "Training Loss: 0.41803216993808745\n",
      "Test Loss: 0.3893318461005095\n",
      "Test Accuracy: 0.8614649772644043\n",
      "Epoch: 5/5...\n",
      "Training Loss: 0.4251680704951286\n",
      "Test Loss: 0.3886852614629041\n",
      "Test Accuracy: 0.8577826619148254\n",
      "Epoch: 5/5...\n",
      "Training Loss: 0.3950243738293648\n",
      "Test Loss: 0.3822081389890355\n",
      "Test Accuracy: 0.8585788011550903\n",
      "Epoch: 5/5...\n",
      "Training Loss: 0.41488557308912277\n",
      "Test Loss: 0.39070295395365184\n",
      "Test Accuracy: 0.8614649772644043\n",
      "Epoch: 5/5...\n",
      "Training Loss: 0.4059877601265907\n",
      "Test Loss: 0.38069011318455837\n",
      "Test Accuracy: 0.8609673380851746\n",
      "Epoch: 5/5...\n",
      "Training Loss: 0.3959143826365471\n",
      "Test Loss: 0.3887629702592352\n",
      "Test Accuracy: 0.8548964858055115\n",
      "Epoch: 5/5...\n",
      "Training Loss: 0.41711668550968173\n",
      "Test Loss: 0.38686544851512666\n",
      "Test Accuracy: 0.8575835824012756\n",
      "Epoch: 5/5...\n",
      "Training Loss: 0.419563245177269\n",
      "Test Loss: 0.4315757124097484\n",
      "Test Accuracy: 0.8418591022491455\n",
      "Epoch: 5/5...\n",
      "Training Loss: 0.4225032797455788\n",
      "Test Loss: 0.38287558060163146\n",
      "Test Accuracy: 0.8614649772644043\n",
      "Epoch: 5/5...\n",
      "Training Loss: 0.4161198651790619\n",
      "Test Loss: 0.39486560624116546\n",
      "Test Accuracy: 0.8521098494529724\n"
     ]
    }
   ],
   "source": [
    "epochs = 5\n",
    "print_every = 50\n",
    "steps = 0\n",
    "running_loss = 0\n",
    "\n",
    "for epoch in range(1, epochs + 1):\n",
    "    model.train()  # Entra en modo entrenamiento\n",
    "    for images, labels in train_loader:\n",
    "        steps += 1\n",
    "        \n",
    "        images.resize_(images.size()[0], 784)\n",
    "        \n",
    "        optimizer.zero_grad()\n",
    "        \n",
    "        output = model.forward(images)\n",
    "        loss = criterion(output, labels)\n",
    "        loss.backward()\n",
    "        optimizer.step()\n",
    "        \n",
    "        running_loss += loss.item()\n",
    "        \n",
    "        if steps % print_every == 0:\n",
    "            model.eval()  # Entra en modo inferencia\n",
    "            \n",
    "            with torch.no_grad():\n",
    "                test_loss, accuracy = validation(model, test_loader, criterion)\n",
    "            \n",
    "            print(f'Epoch: {epoch}/{epochs}...')\n",
    "            print(f'Training Loss: {running_loss/print_every}')\n",
    "            print(f'Test Loss: {test_loss/len(test_loader)}')\n",
    "            print(f'Test Accuracy: {accuracy/len(test_loader)}')\n",
    "            \n",
    "            \n",
    "            running_loss = 0\n",
    "            model.train() #otra vez en modo entrenamiento"
   ]
  },
  {
   "cell_type": "markdown",
   "metadata": {},
   "source": [
    "### Inferencia\n",
    "\n",
    "Con nuestra red entrenada, probemos"
   ]
  },
  {
   "cell_type": "code",
   "execution_count": 64,
   "metadata": {},
   "outputs": [
    {
     "data": {
      "image/png": "[encoded data removed]",
      "text/plain": [
       "<Figure size 432x648 with 2 Axes>"
      ]
     },
     "metadata": {
      "image/png": {
       "height": 195,
       "width": 349
      },
      "needs_background": "light"
     },
     "output_type": "display_data"
    }
   ],
   "source": [
    "model.eval()\n",
    "\n",
    "data_iter = iter(test_loader)\n",
    "images, labels = data_iter.next()\n",
    "image = images[0]\n",
    "\n",
    "image = image.view(1, 784)\n",
    "\n",
    "with torch.no_grad():\n",
    "    output = model.forward(image)\n",
    "    \n",
    "predictions = torch.exp(output)\n",
    "\n",
    "utils.view_classify(image.view(1, 28, 28), predictions, version='Fashion')"
   ]
  },
  {
   "cell_type": "code",
   "execution_count": null,
   "metadata": {},
   "outputs": [],
   "source": []
  },
  {
   "cell_type": "code",
   "execution_count": null,
   "metadata": {},
   "outputs": [],
   "source": []
  }
 ],
 "metadata": {
  "kernelspec": {
   "display_name": "Python 3",
   "language": "python",
   "name": "python3"
  },
  "language_info": {
   "codemirror_mode": {
    "name": "ipython",
    "version": 3
   },
   "file_extension": ".py",
   "mimetype": "text/x-python",
   "name": "python",
   "nbconvert_exporter": "python",
   "pygments_lexer": "ipython3",
   "version": "3.8.5"
  }
 },
 "nbformat": 4,
 "nbformat_minor": 1
}
