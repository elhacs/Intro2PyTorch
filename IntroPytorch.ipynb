{
 "cells": [
  {
   "cell_type": "markdown",
   "metadata": {},
   "source": [
    "# Introducción a PyTorch\n",
    "\n",
    "\n",
    "***"
   ]
  },
  {
   "cell_type": "markdown",
   "metadata": {},
   "source": [
    "Esto simplemente es para que las gráficas se vean dentro del archivo."
   ]
  },
  {
   "cell_type": "code",
   "execution_count": 1,
   "metadata": {},
   "outputs": [],
   "source": [
    "%matplotlib inline\n",
    "%config InlineBackend.figure_format = 'retina'"
   ]
  },
  {
   "cell_type": "markdown",
   "metadata": {},
   "source": [
    "## 1.- ¿Por donde empezamos?\n",
    "\n",
    "\n",
    "Importando las librerias necesarias"
   ]
  },
  {
   "cell_type": "code",
   "execution_count": 2,
   "metadata": {},
   "outputs": [],
   "source": [
    "from __future__ import print_function\n",
    "import torch"
   ]
  },
  {
   "cell_type": "markdown",
   "metadata": {},
   "source": [
    "El elemento principal será el concepto de **tensor** que lo podemos pensar como un arreglo multidimensional.\n",
    "\n",
    "Construimos una matriz vacía 5x3"
   ]
  },
  {
   "cell_type": "code",
   "execution_count": 3,
   "metadata": {},
   "outputs": [
    {
     "name": "stdout",
     "output_type": "stream",
     "text": [
      "tensor([[1.1052e-22, 4.5691e-41, 1.1054e-22],\n",
      "        [4.5691e-41, 1.1054e-22, 4.5691e-41],\n",
      "        [1.1054e-22, 4.5691e-41, 1.1054e-22],\n",
      "        [4.5691e-41, 1.1055e-22, 4.5691e-41],\n",
      "        [1.1055e-22, 4.5691e-41, 1.1055e-22]])\n"
     ]
    }
   ],
   "source": [
    "x = torch.empty(5, 3)\n",
    "print(x)"
   ]
  },
  {
   "cell_type": "markdown",
   "metadata": {},
   "source": [
    "Construimos una matriz aleatorioa 5x3\n"
   ]
  },
  {
   "cell_type": "code",
   "execution_count": 4,
   "metadata": {},
   "outputs": [
    {
     "name": "stdout",
     "output_type": "stream",
     "text": [
      "tensor([[0.5479, 0.1455, 0.3239],\n",
      "        [0.3293, 0.7970, 0.9319],\n",
      "        [0.0286, 0.5693, 0.4513],\n",
      "        [0.5970, 0.6784, 0.3805],\n",
      "        [0.1543, 0.8131, 0.9066]])\n"
     ]
    }
   ],
   "source": [
    "x = torch.rand(5, 3)\n",
    "print(x)"
   ]
  },
  {
   "cell_type": "markdown",
   "metadata": {},
   "source": [
    "Construimos una matriz llena de ceros con elementos tipo entero de 64 bits\n",
    "\n"
   ]
  },
  {
   "cell_type": "code",
   "execution_count": 5,
   "metadata": {},
   "outputs": [
    {
     "name": "stdout",
     "output_type": "stream",
     "text": [
      "tensor([[0, 0, 0],\n",
      "        [0, 0, 0],\n",
      "        [0, 0, 0],\n",
      "        [0, 0, 0],\n",
      "        [0, 0, 0]])\n"
     ]
    }
   ],
   "source": [
    "x = torch.zeros(5, 3, dtype=torch.long)\n",
    "print(x)"
   ]
  },
  {
   "cell_type": "markdown",
   "metadata": {},
   "source": [
    "Construir un tensor a partir de información\n"
   ]
  },
  {
   "cell_type": "code",
   "execution_count": 6,
   "metadata": {},
   "outputs": [
    {
     "name": "stdout",
     "output_type": "stream",
     "text": [
      "tensor([5.5000, 3.0000])\n"
     ]
    }
   ],
   "source": [
    "x = torch.tensor([5.5, 3])\n",
    "print(x)"
   ]
  },
  {
   "cell_type": "markdown",
   "metadata": {},
   "source": [
    "o crear un tensor basado en un tensor existente. Estos métodos\n",
    "reutilizan las propiedades del tensor original, e.g. dtype, etc.\n",
    "Se pueden cambiar si se requiere.\n"
   ]
  },
  {
   "cell_type": "code",
   "execution_count": 7,
   "metadata": {},
   "outputs": [
    {
     "name": "stdout",
     "output_type": "stream",
     "text": [
      "tensor([[1., 1., 1.],\n",
      "        [1., 1., 1.],\n",
      "        [1., 1., 1.],\n",
      "        [1., 1., 1.],\n",
      "        [1., 1., 1.]], dtype=torch.float64)\n",
      "tensor([[ 0.2211,  1.2314,  0.8769],\n",
      "        [-0.9111,  2.4090,  1.1181],\n",
      "        [ 1.2196, -0.1602, -0.4388],\n",
      "        [-0.8435, -1.7571, -0.5556],\n",
      "        [ 1.2923, -0.8258, -0.2282]])\n"
     ]
    }
   ],
   "source": [
    "x = x.new_ones(5, 3, dtype=torch.double)      # Creamos un tensor de tamaño 5x3\n",
    "print(x)\n",
    "\n",
    "x = torch.randn_like(x, dtype=torch.float)    # sobreescribimos dtype!\n",
    "print(x)                                      # tiene el mismo tamaño que el original."
   ]
  },
  {
   "cell_type": "markdown",
   "metadata": {},
   "source": [
    "Para saber su tamaño (en general)\n",
    "\n"
   ]
  },
  {
   "cell_type": "code",
   "execution_count": 8,
   "metadata": {},
   "outputs": [
    {
     "name": "stdout",
     "output_type": "stream",
     "text": [
      "torch.Size([5, 3])\n"
     ]
    }
   ],
   "source": [
    "print(x.size())"
   ]
  },
  {
   "cell_type": "markdown",
   "metadata": {},
   "source": [
    "<div class=\"alert alert-info\"><h4>Note</h4><p>``torch.Size`` es un tupla, por lo tanto, soporta sus operaciones.</p></div>\n"
   ]
  },
  {
   "cell_type": "markdown",
   "metadata": {},
   "source": [
    "### Operaciones\n",
    "\n",
    "\n",
    "Los tensores típicamente soportan dos tipos de operaciones.\n",
    "\n",
    "* In situ: Afecta al tensor sobre el cual son llamadas. **Siempre tienen un _ al final de su nombre**\n",
    "* No in situ: Producen un nuevo tensor.\n",
    "\n",
    "Hay varias formas de la escritura de operaciones.\n",
    "\n",
    "Por ejemplo, \n",
    "\n",
    "#### Suma\n",
    "\n",
    "* Escritura 1"
   ]
  },
  {
   "cell_type": "code",
   "execution_count": 9,
   "metadata": {},
   "outputs": [
    {
     "name": "stdout",
     "output_type": "stream",
     "text": [
      "tensor([[0.2317, 0.0146, 0.0276],\n",
      "        [0.7978, 0.9900, 0.7490],\n",
      "        [0.3693, 0.8042, 0.8348],\n",
      "        [0.6745, 0.8421, 0.0530],\n",
      "        [0.0783, 0.1410, 0.6724]])\n",
      "tensor([[ 0.4528,  1.2461,  0.9045],\n",
      "        [-0.1133,  3.3991,  1.8671],\n",
      "        [ 1.5889,  0.6440,  0.3960],\n",
      "        [-0.1690, -0.9150, -0.5026],\n",
      "        [ 1.3706, -0.6848,  0.4443]])\n"
     ]
    }
   ],
   "source": [
    "y = torch.rand(5, 3)\n",
    "print(y)\n",
    "print(x + y) # NUEVO TENSOR"
   ]
  },
  {
   "cell_type": "markdown",
   "metadata": {},
   "source": [
    "* Escritura 2\n"
   ]
  },
  {
   "cell_type": "code",
   "execution_count": 10,
   "metadata": {},
   "outputs": [
    {
     "name": "stdout",
     "output_type": "stream",
     "text": [
      "tensor([[ 0.4528,  1.2461,  0.9045],\n",
      "        [-0.1133,  3.3991,  1.8671],\n",
      "        [ 1.5889,  0.6440,  0.3960],\n",
      "        [-0.1690, -0.9150, -0.5026],\n",
      "        [ 1.3706, -0.6848,  0.4443]])\n",
      "tensor([[0.2317, 0.0146, 0.0276],\n",
      "        [0.7978, 0.9900, 0.7490],\n",
      "        [0.3693, 0.8042, 0.8348],\n",
      "        [0.6745, 0.8421, 0.0530],\n",
      "        [0.0783, 0.1410, 0.6724]])\n"
     ]
    }
   ],
   "source": [
    "print(torch.add(x, y)) # NUEVO TENSOR SIN MODIFICAR A X Y Y\n",
    "print(y)"
   ]
  },
  {
   "cell_type": "markdown",
   "metadata": {},
   "source": [
    "La suma tiene como argumento el tensor de salida.\n"
   ]
  },
  {
   "cell_type": "code",
   "execution_count": 11,
   "metadata": {},
   "outputs": [
    {
     "name": "stdout",
     "output_type": "stream",
     "text": [
      "tensor([[ 0.4528,  1.2461,  0.9045],\n",
      "        [-0.1133,  3.3991,  1.8671],\n",
      "        [ 1.5889,  0.6440,  0.3960],\n",
      "        [-0.1690, -0.9150, -0.5026],\n",
      "        [ 1.3706, -0.6848,  0.4443]])\n"
     ]
    }
   ],
   "source": [
    "result = torch.empty(5, 3)\n",
    "torch.add(x, y, out=result)\n",
    "print(result)"
   ]
  },
  {
   "cell_type": "markdown",
   "metadata": {},
   "source": [
    "Recordemos en Python \"Todo son clases y métodos.\"\n",
    "\n",
    "*Escritura 3"
   ]
  },
  {
   "cell_type": "code",
   "execution_count": 12,
   "metadata": {},
   "outputs": [
    {
     "name": "stdout",
     "output_type": "stream",
     "text": [
      "tensor([[ 0.4528,  1.2461,  0.9045],\n",
      "        [-0.1133,  3.3991,  1.8671],\n",
      "        [ 1.5889,  0.6440,  0.3960],\n",
      "        [-0.1690, -0.9150, -0.5026],\n",
      "        [ 1.3706, -0.6848,  0.4443]])\n"
     ]
    }
   ],
   "source": [
    "y.add_(x)\n",
    "print(y)"
   ]
  },
  {
   "cell_type": "markdown",
   "metadata": {},
   "source": [
    "<div class=\"alert alert-info\"><h4>Note</h4><p>Este tipo de operaciones cambian ''y''.\n",
    "    Por ejemplo: ``y.copy_(x)``, ``y.t_()`.</p></div>\n",
    "\n",
    "Podemos usar el sistema de indexación estándar como en Numpy (iniciamos con 0, como la gente decente).\n"
   ]
  },
  {
   "cell_type": "code",
   "execution_count": 13,
   "metadata": {},
   "outputs": [
    {
     "name": "stdout",
     "output_type": "stream",
     "text": [
      "tensor([[ 0.2211,  1.2314,  0.8769],\n",
      "        [-0.9111,  2.4090,  1.1181],\n",
      "        [ 1.2196, -0.1602, -0.4388],\n",
      "        [-0.8435, -1.7571, -0.5556],\n",
      "        [ 1.2923, -0.8258, -0.2282]])\n"
     ]
    }
   ],
   "source": [
    "print(x)"
   ]
  },
  {
   "cell_type": "code",
   "execution_count": 14,
   "metadata": {},
   "outputs": [
    {
     "name": "stdout",
     "output_type": "stream",
     "text": [
      "tensor([ 1.2314,  2.4090, -0.1602, -1.7571, -0.8258])\n"
     ]
    }
   ],
   "source": [
    "print(x[:, 1])"
   ]
  },
  {
   "cell_type": "markdown",
   "metadata": {},
   "source": [
    "Podemos cambiar el tamaño y forma del tensor con ``torch.view``. Debemos pensarlo como vistas del tensor y así no hacemos copias del tensor que ocuparían memoria.\n"
   ]
  },
  {
   "cell_type": "code",
   "execution_count": 15,
   "metadata": {},
   "outputs": [
    {
     "name": "stdout",
     "output_type": "stream",
     "text": [
      "tensor([[ 1.4112,  1.6727,  0.6424,  1.1461],\n",
      "        [ 0.7753,  0.5804, -1.5559,  1.2973],\n",
      "        [-1.0576,  1.7512, -0.0413, -0.8266],\n",
      "        [ 0.7991, -0.2035,  0.4537, -0.2919]]) \n",
      "\n",
      "tensor([ 1.4112,  1.6727,  0.6424,  1.1461,  0.7753,  0.5804, -1.5559,  1.2973,\n",
      "        -1.0576,  1.7512, -0.0413, -0.8266,  0.7991, -0.2035,  0.4537, -0.2919]) \n",
      "\n",
      "tensor([[ 1.4112,  1.6727,  0.6424,  1.1461,  0.7753,  0.5804, -1.5559,  1.2973],\n",
      "        [-1.0576,  1.7512, -0.0413, -0.8266,  0.7991, -0.2035,  0.4537, -0.2919]]) \n",
      "\n",
      "tensor([[ 1.4112,  1.6727,  0.6424,  1.1461],\n",
      "        [ 0.7753,  0.5804, -1.5559,  1.2973],\n",
      "        [-1.0576,  1.7512, -0.0413, -0.8266],\n",
      "        [ 0.7991, -0.2035,  0.4537, -0.2919]]) \n",
      "\n",
      "tensor([[[ 1.4112,  1.6727,  0.6424,  1.1461],\n",
      "         [ 0.7753,  0.5804, -1.5559,  1.2973]],\n",
      "\n",
      "        [[-1.0576,  1.7512, -0.0413, -0.8266],\n",
      "         [ 0.7991, -0.2035,  0.4537, -0.2919]]]) \n",
      "\n",
      "torch.Size([4, 4]) torch.Size([16]) torch.Size([2, 8]) torch.Size([4, 4]) torch.Size([2, 2, 4])\n"
     ]
    }
   ],
   "source": [
    "x = torch.randn(4, 4) # Tensor con una distribución normal, en lugar de una uniforme con rand\n",
    "print(x,\"\\n\")\n",
    "y = x.view(16) # Vemos al tensor como un tensor (1,16)\n",
    "print(y,\"\\n\")\n",
    "z = x.view(-1, 8)  # El valor de -1 se deducirá de las otras dimensiones\n",
    "print(z,\"\\n\")\n",
    "r = x.view(-1,4)\n",
    "print(r,\"\\n\")\n",
    "w = x.view(2,2,4) # Se divide en \"2\" de dimensiones 2x4\n",
    "print(w,\"\\n\")\n",
    "print(x.size(), y.size(), z.size(), r.size(), w.size())"
   ]
  },
  {
   "cell_type": "markdown",
   "metadata": {},
   "source": [
    "Si tenemos un tensor de un elemento, usando ``.item()`` para\n",
    "obtener el valor como un número de Python.\n"
   ]
  },
  {
   "cell_type": "code",
   "execution_count": 16,
   "metadata": {},
   "outputs": [
    {
     "name": "stdout",
     "output_type": "stream",
     "text": [
      "tensor([-0.7961])\n",
      "-0.7961360216140747\n"
     ]
    }
   ],
   "source": [
    "x = torch.randn(1)\n",
    "print(x)\n",
    "print(x.item())"
   ]
  },
  {
   "cell_type": "markdown",
   "metadata": {},
   "source": [
    "**Lo que no se dijo:**\n",
    "\n",
    "  100+ operaciones de tensores tales como: transposing, indexing, slicing,\n",
    "  mathematical operations, linear algebra, random numbers, etc.\n",
    "  `Aquí más info <https://pytorch.org/docs/torch>`\n",
    "  \n",
    "### Conexión con NumPy \n",
    "\n",
    "\n",
    "Podemos convertir entre tensores de PyTorch a un array de Numpy.\n",
    "\n",
    "Los dos objetos compartirán la localización en la memoria.\n",
    "\n",
    "**Conviertiendo tensores a arrays**"
   ]
  },
  {
   "cell_type": "code",
   "execution_count": 17,
   "metadata": {},
   "outputs": [
    {
     "name": "stdout",
     "output_type": "stream",
     "text": [
      "tensor([1., 1., 1., 1., 1.])\n"
     ]
    }
   ],
   "source": [
    "a = torch.ones(5)\n",
    "print(a)"
   ]
  },
  {
   "cell_type": "code",
   "execution_count": 18,
   "metadata": {},
   "outputs": [
    {
     "name": "stdout",
     "output_type": "stream",
     "text": [
      "[1. 1. 1. 1. 1.]\n"
     ]
    }
   ],
   "source": [
    "b = a.numpy()\n",
    "print(b)"
   ]
  },
  {
   "cell_type": "markdown",
   "metadata": {},
   "source": [
    "Veamos como se modifican los valores en el array\n"
   ]
  },
  {
   "cell_type": "code",
   "execution_count": 19,
   "metadata": {},
   "outputs": [
    {
     "name": "stdout",
     "output_type": "stream",
     "text": [
      "tensor([2., 2., 2., 2., 2.])\n",
      "[2. 2. 2. 2. 2.]\n"
     ]
    }
   ],
   "source": [
    "a.add_(1)\n",
    "print(a)\n",
    "print(b)"
   ]
  },
  {
   "cell_type": "markdown",
   "metadata": {},
   "source": [
    "**Converting NumPy Array to Torch Tensor**\n",
    "\n",
    "Veamos como cambiando el array cambia el tensor automáticamente."
   ]
  },
  {
   "cell_type": "code",
   "execution_count": 20,
   "metadata": {},
   "outputs": [
    {
     "name": "stdout",
     "output_type": "stream",
     "text": [
      "[2. 2. 2. 2. 2.]\n",
      "tensor([2., 2., 2., 2., 2.], dtype=torch.float64)\n"
     ]
    }
   ],
   "source": [
    "import numpy as np\n",
    "a = np.ones(5)\n",
    "b = torch.from_numpy(a)\n",
    "np.add(a, 1, out=a)\n",
    "print(a)\n",
    "print(b)"
   ]
  },
  {
   "cell_type": "markdown",
   "metadata": {},
   "source": [
    "***\n",
    "## 2.- Ejemplo de Red Neuronal Artificial (RNA)\n",
    "\n",
    "Usaremos el viejo conocido ejemplo [MNIST](https://en.wikipedia.org/wiki/MNIST_database), que contiene\n",
    "imágenes de números manuscritos del 0-9\n",
    "\n",
    "**Carga de la base de dato (dataset)**"
   ]
  },
  {
   "cell_type": "code",
   "execution_count": 21,
   "metadata": {},
   "outputs": [],
   "source": [
    "import numpy as np\n",
    "import torch\n",
    "from torch import nn\n",
    "from torch import optim\n",
    "import torch.nn.functional as F\n",
    "\n",
    "import utils\n",
    "\n",
    "import matplotlib.pyplot as plt\n",
    "from torchvision import datasets, transforms"
   ]
  },
  {
   "cell_type": "markdown",
   "metadata": {},
   "source": [
    "Para usar el dataset se debe transforma en un tensor de Pytorch, definimos la transfomración *transform* que usaremos en el proceso de carga.\n",
    "\n",
    "Definimos un *DataLoader*, un objeto [generador de Python](https://wiki.python.org/moin/Generators) cuyo comentido es proporcionar las imágenes en grupos de *batch_size*.\n",
    "\n",
    "Separamos al dataset en dos, un conjunto de entrenamiento y otro de prueba."
   ]
  },
  {
   "cell_type": "code",
   "execution_count": 22,
   "metadata": {},
   "outputs": [],
   "source": [
    "transform = transforms.Compose([transforms.ToTensor(),\n",
    "                                transforms.Normalize((0.5),(0.5)),])\n",
    "\n",
    "train_set = datasets.MNIST('MNIST_data/', download=True, train=True, transform=transform)\n",
    "train_loader = torch.utils.data.DataLoader(train_set, batch_size=64, shuffle=True)\n",
    "\n",
    "test_set = datasets.MNIST('MNIST_data/', download=True, train=False, transform=transform)\n",
    "test_loader = torch.utils.data.DataLoader(test_set, batch_size=64, shuffle=True)"
   ]
  },
  {
   "cell_type": "markdown",
   "metadata": {},
   "source": [
    "Creamos un iterador sobre el conjunto de entrenamiento y visualizamos un muestra"
   ]
  },
  {
   "cell_type": "code",
   "execution_count": 23,
   "metadata": {},
   "outputs": [],
   "source": [
    "data_iter = iter(train_loader)\n",
    "images, labels = data_iter.next()"
   ]
  },
  {
   "cell_type": "markdown",
   "metadata": {},
   "source": [
    "Ahora veamos como se ve una muestra"
   ]
  },
  {
   "cell_type": "code",
   "execution_count": 24,
   "metadata": {},
   "outputs": [
    {
     "name": "stdout",
     "output_type": "stream",
     "text": [
      "[[-1.         -1.         -1.         -1.         -1.         -1.\n",
      "  -1.         -1.         -1.         -1.         -1.         -1.\n",
      "  -1.         -1.         -1.         -1.         -1.         -1.\n",
      "  -1.         -1.         -1.         -1.         -1.         -1.\n",
      "  -1.         -1.         -1.         -1.        ]\n",
      " [-1.         -1.         -1.         -1.         -0.8745098  -0.6313726\n",
      "  -1.         -1.         -1.         -1.         -1.         -1.\n",
      "  -0.77254903  0.9843137   0.00392163 -0.8745098  -1.         -1.\n",
      "  -1.         -1.         -1.         -1.         -1.         -1.\n",
      "  -1.         -1.         -1.         -1.        ]\n",
      " [-1.         -1.         -1.         -1.         -0.92156863 -0.78039217\n",
      "  -1.         -1.         -1.         -1.         -1.         -1.\n",
      "  -0.77254903  0.9764706   0.9764706   0.09019613 -1.         -1.\n",
      "  -1.         -1.         -1.         -1.         -1.         -1.\n",
      "  -1.         -1.         -1.         -1.        ]\n",
      " [-1.         -1.         -1.         -1.         -1.         -1.\n",
      "  -1.         -1.         -1.         -1.         -1.         -1.\n",
      "  -0.77254903  0.9764706   0.9764706  -0.19215685 -1.         -1.\n",
      "  -1.         -1.         -1.         -1.         -1.         -1.\n",
      "  -1.         -1.         -1.         -1.        ]\n",
      " [-1.         -1.         -1.         -1.         -1.         -1.\n",
      "  -1.         -1.         -1.         -1.         -1.         -1.\n",
      "  -0.38039213  0.9764706   0.6784314  -0.88235295 -1.         -1.\n",
      "  -1.         -1.         -1.         -1.         -1.         -1.\n",
      "  -1.         -1.         -1.         -1.        ]\n",
      " [-1.         -1.         -1.         -1.         -1.         -1.\n",
      "  -1.         -1.         -1.         -1.         -1.         -0.8980392\n",
      "   0.6         0.9843137   0.3176471  -1.         -1.         -1.\n",
      "  -1.         -1.         -1.         -1.         -1.         -1.\n",
      "  -1.         -1.         -1.         -1.        ]\n",
      " [-1.         -1.         -1.         -1.         -1.         -1.\n",
      "  -1.         -1.         -1.         -1.         -1.         -0.11372548\n",
      "   0.9843137   0.9764706  -0.27058822 -1.         -1.         -1.\n",
      "  -1.         -1.         -1.         -1.         -1.         -1.\n",
      "  -1.         -1.         -1.         -1.        ]\n",
      " [-1.         -1.         -1.         -1.         -1.         -1.\n",
      "  -1.         -1.         -1.         -1.         -1.          0.17647064\n",
      "   0.9843137   0.827451   -0.70980394 -1.         -1.         -1.\n",
      "  -1.         -1.         -1.         -1.         -1.         -1.\n",
      "  -1.         -1.         -1.         -1.        ]\n",
      " [-1.         -1.         -1.         -1.         -1.         -1.\n",
      "  -1.         -1.         -1.         -1.         -0.7019608   0.85882354\n",
      "   0.8901961  -0.5372549  -1.         -1.         -1.         -1.\n",
      "  -1.         -1.         -1.         -1.         -1.         -1.\n",
      "  -1.         -1.         -1.         -1.        ]\n",
      " [-1.         -1.         -1.         -1.         -1.         -1.\n",
      "  -1.         -1.         -1.         -0.94509804  0.6         0.9843137\n",
      "   0.18431377 -1.         -1.         -1.         -1.         -1.\n",
      "  -1.         -1.         -1.         -1.         -1.         -1.\n",
      "  -1.         -1.         -1.         -1.        ]\n",
      " [-1.         -1.         -1.         -1.         -1.         -1.\n",
      "  -1.         -1.         -0.94509804  0.17647064  0.9764706   0.9764706\n",
      "  -1.         -1.         -1.         -1.         -1.         -1.\n",
      "  -1.         -1.         -1.         -1.         -1.         -1.\n",
      "  -1.         -1.         -1.         -1.        ]\n",
      " [-1.         -1.         -1.         -1.         -1.         -1.\n",
      "  -1.         -1.         -0.4823529   0.9764706   0.9764706   0.28627455\n",
      "  -1.         -1.         -1.         -1.         -1.         -1.\n",
      "  -1.         -1.         -1.         -1.         -1.         -1.\n",
      "  -1.         -1.         -1.         -1.        ]\n",
      " [-1.         -1.         -1.         -1.         -1.         -1.\n",
      "  -1.         -1.          0.8901961   0.9764706   0.6784314  -0.38823527\n",
      "  -1.         -1.         -1.         -1.         -0.5058824  -0.11372548\n",
      "   0.5686275  -0.01960784 -0.6        -1.         -1.         -1.\n",
      "  -1.         -1.         -1.         -1.        ]\n",
      " [-1.         -1.         -1.         -1.         -1.         -1.\n",
      "  -1.         -0.5058824   1.          0.9843137  -0.16862744 -1.\n",
      "  -1.         -1.         -0.12941176  0.8901961   0.99215686  0.9843137\n",
      "   0.9843137   0.9843137   0.8980392  -0.4823529  -0.94509804 -1.\n",
      "  -1.         -1.         -1.         -1.        ]\n",
      " [-1.         -1.         -1.         -1.         -1.         -1.\n",
      "  -1.          0.082353    0.9843137   0.9764706  -0.56078434 -1.\n",
      "  -0.94509804  0.02745104  0.8352941   0.9764706   0.9843137   0.9764706\n",
      "   0.9764706   0.9764706   0.9843137   0.9764706  -0.56078434 -1.\n",
      "  -1.         -1.         -1.         -1.        ]\n",
      " [-1.         -1.         -1.         -1.         -1.         -1.\n",
      "  -1.          0.7647059   0.9843137   0.33333337 -0.8980392  -1.\n",
      "  -0.77254903  0.9764706   0.9764706   0.9764706   0.9137255   0.3176471\n",
      "  -0.372549    0.12156868  0.9843137   0.9764706   0.12156868 -1.\n",
      "  -1.         -1.         -1.         -1.        ]\n",
      " [-1.         -1.         -1.         -1.         -1.         -1.\n",
      "  -0.40392154  0.9529412   0.8901961  -0.6313726  -1.         -1.\n",
      "  -0.77254903  0.9764706   0.9764706   0.58431375 -0.8039216  -1.\n",
      "  -1.         -0.11372548  0.9843137   0.9764706  -0.46666664 -1.\n",
      "  -1.         -1.         -1.         -1.        ]\n",
      " [-1.         -1.         -1.         -1.         -1.         -1.\n",
      "   0.05882359  0.9843137   0.8980392  -0.6313726  -1.         -1.\n",
      "   0.10588241  0.9843137   0.9137255  -0.41176468 -1.         -1.\n",
      "  -1.         -0.01176471  0.99215686  0.9372549  -0.60784316 -1.\n",
      "  -1.         -1.         -1.         -1.        ]\n",
      " [-1.         -1.         -1.         -1.         -1.         -1.\n",
      "  -0.4823529   0.92941177  0.9843137   0.5372549   0.02745104 -0.1607843\n",
      "   0.69411767  0.9764706   0.75686276 -0.654902   -0.79607844 -0.8980392\n",
      "   0.12941182  0.90588236  0.9372549  -0.19215685 -1.         -1.\n",
      "  -1.         -1.         -1.         -1.        ]\n",
      " [-1.         -1.         -1.         -1.         -1.         -1.\n",
      "  -1.         -0.21568626  0.69411767  0.9764706   0.9764706   0.9764706\n",
      "   0.9843137   0.9764706   0.9764706   0.7882353   0.7490196   0.6392157\n",
      "   0.9764706   0.6784314   0.17647064 -1.         -1.         -1.\n",
      "  -1.         -1.         -1.         -1.        ]\n",
      " [-1.         -1.         -1.         -1.         -1.         -1.\n",
      "  -1.         -1.         -0.8745098  -0.19215685  0.38823533  0.9764706\n",
      "   0.9843137   0.9764706   0.9764706   0.9764706   0.09803927 -0.09803921\n",
      "  -0.78039217 -0.88235295 -1.         -1.         -1.         -1.\n",
      "  -1.         -1.         -1.         -1.        ]\n",
      " [-1.         -1.         -1.         -1.         -1.         -1.\n",
      "  -1.         -1.         -1.         -1.         -1.         -1.\n",
      "  -1.         -1.         -1.         -1.         -1.         -1.\n",
      "  -1.         -1.         -1.         -1.         -1.         -1.\n",
      "  -1.         -1.         -1.         -1.        ]\n",
      " [-1.         -1.         -1.         -1.         -1.         -1.\n",
      "  -1.         -1.         -1.         -1.         -1.         -1.\n",
      "  -1.         -1.         -1.         -1.         -1.         -1.\n",
      "  -1.         -1.         -1.         -1.         -1.         -1.\n",
      "  -1.         -1.         -1.         -1.        ]\n",
      " [-1.         -1.         -1.         -1.         -1.         -1.\n",
      "  -1.         -1.         -1.         -1.         -1.         -1.\n",
      "  -1.         -1.         -1.         -1.         -1.         -1.\n",
      "  -1.         -1.         -1.         -1.         -1.         -1.\n",
      "  -1.         -1.         -1.         -1.        ]\n",
      " [-1.         -1.         -1.         -1.         -1.         -1.\n",
      "  -1.         -1.         -1.         -1.         -1.         -1.\n",
      "  -1.         -1.         -1.         -1.         -1.         -1.\n",
      "  -1.         -1.         -1.         -1.         -1.         -1.\n",
      "  -1.         -1.         -1.         -1.        ]\n",
      " [-1.         -1.         -1.         -1.         -1.         -1.\n",
      "  -1.         -1.         -1.         -1.         -1.         -1.\n",
      "  -1.         -1.         -1.         -1.         -1.         -1.\n",
      "  -1.         -1.         -1.         -1.         -1.         -1.\n",
      "  -1.         -1.         -1.         -1.        ]\n",
      " [-1.         -1.         -1.         -1.         -1.         -1.\n",
      "  -1.         -1.         -1.         -1.         -1.         -1.\n",
      "  -1.         -1.         -1.         -1.         -1.         -1.\n",
      "  -1.         -1.         -1.         -1.         -1.         -1.\n",
      "  -1.         -1.         -1.         -1.        ]\n",
      " [-1.         -1.         -1.         -1.         -1.         -1.\n",
      "  -1.         -1.         -1.         -1.         -1.         -1.\n",
      "  -1.         -1.         -1.         -1.         -1.         -1.\n",
      "  -1.         -1.         -1.         -1.         -1.         -1.\n",
      "  -1.         -1.         -1.         -1.        ]]\n"
     ]
    }
   ],
   "source": [
    "print(images[1].numpy().squeeze())"
   ]
  },
  {
   "cell_type": "markdown",
   "metadata": {},
   "source": [
    "Veamos la imagen de muestra"
   ]
  },
  {
   "cell_type": "code",
   "execution_count": 25,
   "metadata": {},
   "outputs": [
    {
     "data": {
      "text/plain": [
       "<matplotlib.image.AxesImage at 0x7f5dc37343a0>"
      ]
     },
     "execution_count": 25,
     "metadata": {},
     "output_type": "execute_result"
    },
    {
     "data": {
      "image/png": "[encoded data removed]",
      "text/plain": [
       "<Figure size 432x288 with 1 Axes>"
      ]
     },
     "metadata": {
      "image/png": {
       "height": 248,
       "width": 251
      },
      "needs_background": "light"
     },
     "output_type": "display_data"
    }
   ],
   "source": [
    "plt.imshow(images[1].numpy().squeeze(), cmap='gray')"
   ]
  },
  {
   "cell_type": "markdown",
   "metadata": {},
   "source": [
    "**Definición de la topología de la RNA**\n",
    "\n",
    "Hay muchas formas de construir una red neuronal en Pytorch, pero ¿qué es una red neuronal artificial? *ver presentación*\n",
    "\n",
    "Definimos como se compone la capa de entrada, las intermedias (u ocultas) y una de salida.\n",
    "\n",
    "El número de capas ocultas, así como el número de neuronas en ellas, depende de la complejidad y el tipo de problema.\n",
    "\n",
    "Usaremos 2 capas ocultas con 128 y 64 neuronas, respectivamente.\n",
    "\n",
    "Importamos nn.Module "
   ]
  },
  {
   "cell_type": "code",
   "execution_count": 26,
   "metadata": {},
   "outputs": [
    {
     "data": {
      "text/plain": [
       "Network(\n",
       "  (fully_connected_1): Linear(in_features=784, out_features=128, bias=True)\n",
       "  (fully_connected_2): Linear(in_features=128, out_features=64, bias=True)\n",
       "  (fully_connected_3): Linear(in_features=64, out_features=10, bias=True)\n",
       ")"
      ]
     },
     "execution_count": 26,
     "metadata": {},
     "output_type": "execute_result"
    }
   ],
   "source": [
    "class Network(nn.Module):        #Heredamos de la clase nn.Module los atributos para nuestra Network\n",
    "    def __init__(self):          #Esto define al constructor de la clase\n",
    "        super().__init__()\n",
    "        self.fully_connected_1 = nn.Linear(784, 128)\n",
    "        self.fully_connected_2 = nn.Linear(128, 64)\n",
    "        self.fully_connected_3 = nn.Linear(64, 10)\n",
    "        \n",
    "    def forward(self, x):        #define el orden y las funciones de activación\n",
    "        x = self.fully_connected_1(x)\n",
    "        x = F.relu(x)\n",
    "        x = self.fully_connected_2(x)\n",
    "        x = F.relu(x)\n",
    "        x = self.fully_connected_3(x)\n",
    "        x = F.softmax(x, dim=1)\n",
    "        \n",
    "        return x\n",
    "    \n",
    "model = Network()\n",
    "model"
   ]
  },
  {
   "cell_type": "markdown",
   "metadata": {},
   "source": [
    "**La capa de entrada** \n",
    "\n",
    "Tiene tantas neuronas como datos contiene nuestra muestra. Es decir, las entradas son 28x28 píxeles mostrados los números manuscritos. Por lo tanto, nuestra capa de entrada consta de 28x28 neuronas.\n",
    "\n",
    "**La capa de salida**\n",
    "\n",
    "Tiene tantas posibles salidas como clases hay en nuestros datos, 10 en este caso los dígitos del 0 al 9.\n",
    "\n",
    "**La función de activación**\n",
    "\n",
    "Es la función de define la salida de un nodo en función de una entrada o conjunto de entradas. \n",
    "Usaremos [ReLU](https://en.wikipedia.org/wiki/Rectifier_(neural_networks)) (Rectified Linear Unit) y\n",
    "[Softmax](https://en.wikipedia.org/wiki/Softmax_function)\n"
   ]
  },
  {
   "cell_type": "code",
   "execution_count": 27,
   "metadata": {},
   "outputs": [
    {
     "data": {
      "image/png": "[encoded data removed]",
      "text/plain": [
       "<Figure size 432x288 with 1 Axes>"
      ]
     },
     "metadata": {
      "image/png": {
       "height": 277,
       "width": 388
      },
      "needs_background": "light"
     },
     "output_type": "display_data"
    }
   ],
   "source": [
    "import numpy as np\n",
    "import matplotlib.pyplot as plt\n",
    "\n",
    "z = np.arange(-2, 2, .1)\n",
    "zero = np.zeros(len(z))\n",
    "y = np.max([zero, z], axis=0)\n",
    "fig = plt.figure()\n",
    "ax = fig.add_subplot(111)\n",
    "ax.plot(z, y,label=\"ReLU\")\n",
    "ax.plot(z,np.log(1+np.exp(z)),label=\"Softmax\")\n",
    "ax.set_ylim([-2.0, 2.0])\n",
    "ax.set_xlim([-2.0, 2.0])\n",
    "ax.grid(True)\n",
    "ax.legend()\n",
    "ax.set_xlabel('z')\n",
    "ax.set_title('Rectified linear unit vs softmax')\n",
    "\n",
    "plt.show()"
   ]
  },
  {
   "cell_type": "markdown",
   "metadata": {},
   "source": [
    "**Función de propagación \"Forward\"**\n",
    "\n",
    "Define el orden en que se realizan los cálculos desde el input, a través de las hidden layers hasta el output, utilizando la función de activación.\n",
    "\n",
    "\n",
    "En nuestro ejemplo, iniciamos con un tensor bidimensional 28x28 a uno unidimensional de 784 valores, que se le pasan a la capa de entrada, con la función *view*.\n",
    "\n",
    "**Inicializando los pesos y *biases***\n",
    "\n",
    "Ambos son iniciados automáticamente, pero podemos sobreescribirlos si queremos.\n",
    "\n",
    "Éstos son tensores almacenados como miembros de cada capa."
   ]
  },
  {
   "cell_type": "code",
   "execution_count": 28,
   "metadata": {},
   "outputs": [
    {
     "name": "stdout",
     "output_type": "stream",
     "text": [
      "Parameter containing:\n",
      "tensor([[ 0.0300, -0.0149, -0.0027,  ...,  0.0259, -0.0206, -0.0059],\n",
      "        [-0.0242, -0.0066, -0.0046,  ..., -0.0105,  0.0241,  0.0211],\n",
      "        [ 0.0222, -0.0303, -0.0277,  ..., -0.0100,  0.0314,  0.0116],\n",
      "        ...,\n",
      "        [-0.0272,  0.0265, -0.0206,  ..., -0.0316,  0.0096, -0.0104],\n",
      "        [-0.0214,  0.0150, -0.0298,  ..., -0.0193,  0.0011,  0.0125],\n",
      "        [-0.0343,  0.0247,  0.0005,  ...,  0.0242, -0.0116, -0.0217]],\n",
      "       requires_grad=True)\n",
      "Parameter containing:\n",
      "tensor([-0.0062,  0.0086,  0.0300,  0.0283, -0.0121, -0.0244, -0.0321, -0.0066,\n",
      "        -0.0142,  0.0179, -0.0089,  0.0054,  0.0028, -0.0233,  0.0066,  0.0106,\n",
      "        -0.0100,  0.0184,  0.0104,  0.0213,  0.0182,  0.0257, -0.0034,  0.0302,\n",
      "         0.0039,  0.0293,  0.0150,  0.0105, -0.0315, -0.0068, -0.0007, -0.0271,\n",
      "         0.0235,  0.0203, -0.0268, -0.0237, -0.0238, -0.0344,  0.0265, -0.0255,\n",
      "        -0.0126,  0.0228, -0.0199, -0.0185, -0.0170, -0.0270, -0.0318,  0.0112,\n",
      "         0.0328,  0.0249, -0.0019,  0.0008, -0.0226,  0.0229, -0.0152, -0.0017,\n",
      "         0.0334, -0.0320, -0.0222,  0.0091, -0.0135,  0.0146, -0.0243, -0.0347,\n",
      "         0.0117,  0.0218, -0.0237,  0.0348,  0.0256, -0.0284,  0.0303,  0.0184,\n",
      "        -0.0077, -0.0214,  0.0014, -0.0021,  0.0197,  0.0194, -0.0312, -0.0020,\n",
      "         0.0027, -0.0095,  0.0104,  0.0275,  0.0130,  0.0143, -0.0262,  0.0164,\n",
      "        -0.0282, -0.0321,  0.0151,  0.0288, -0.0032, -0.0084,  0.0037,  0.0306,\n",
      "         0.0042, -0.0307, -0.0329, -0.0054, -0.0293,  0.0234,  0.0049, -0.0127,\n",
      "         0.0034, -0.0339,  0.0190,  0.0266,  0.0254,  0.0291, -0.0108,  0.0202,\n",
      "         0.0013,  0.0159, -0.0131, -0.0156, -0.0226,  0.0045, -0.0109, -0.0140,\n",
      "        -0.0266, -0.0032,  0.0320, -0.0002, -0.0231, -0.0243, -0.0339, -0.0165],\n",
      "       requires_grad=True)\n"
     ]
    }
   ],
   "source": [
    "print(model.fully_connected_1.weight)\n",
    "print(model.fully_connected_1.bias)"
   ]
  },
  {
   "cell_type": "markdown",
   "metadata": {},
   "source": [
    "Para modificar estos tensores podemos usar operaciones in situ."
   ]
  },
  {
   "cell_type": "code",
   "execution_count": 29,
   "metadata": {},
   "outputs": [
    {
     "data": {
      "text/plain": [
       "tensor([0., 0., 0., 0., 0., 0., 0., 0., 0., 0., 0., 0., 0., 0., 0., 0., 0., 0., 0., 0., 0., 0., 0., 0.,\n",
       "        0., 0., 0., 0., 0., 0., 0., 0., 0., 0., 0., 0., 0., 0., 0., 0., 0., 0., 0., 0., 0., 0., 0., 0.,\n",
       "        0., 0., 0., 0., 0., 0., 0., 0., 0., 0., 0., 0., 0., 0., 0., 0., 0., 0., 0., 0., 0., 0., 0., 0.,\n",
       "        0., 0., 0., 0., 0., 0., 0., 0., 0., 0., 0., 0., 0., 0., 0., 0., 0., 0., 0., 0., 0., 0., 0., 0.,\n",
       "        0., 0., 0., 0., 0., 0., 0., 0., 0., 0., 0., 0., 0., 0., 0., 0., 0., 0., 0., 0., 0., 0., 0., 0.,\n",
       "        0., 0., 0., 0., 0., 0., 0., 0.])"
      ]
     },
     "execution_count": 29,
     "metadata": {},
     "output_type": "execute_result"
    }
   ],
   "source": [
    "# Set biases to all 0s\n",
    "model.fully_connected_1.bias.data.fill_(0)"
   ]
  },
  {
   "cell_type": "code",
   "execution_count": 30,
   "metadata": {},
   "outputs": [
    {
     "data": {
      "text/plain": [
       "tensor([[-9.4966e-03,  1.6806e-02,  1.0970e-02,  ...,  1.0466e-03,\n",
       "          2.4447e-03, -1.4205e-02],\n",
       "        [-2.5345e-02, -5.0670e-03, -7.8064e-04,  ..., -5.2120e-03,\n",
       "          1.0436e-02,  1.6731e-02],\n",
       "        [-4.8494e-03,  8.2005e-03,  7.6993e-03,  ...,  2.3302e-03,\n",
       "          2.6469e-04,  1.6690e-02],\n",
       "        ...,\n",
       "        [ 2.3217e-02,  1.0753e-02, -2.8620e-03,  ...,  3.2552e-03,\n",
       "         -6.9135e-04,  7.7501e-03],\n",
       "        [-5.5487e-03, -6.9565e-03,  2.8558e-02,  ...,  4.9546e-03,\n",
       "         -5.1342e-03, -5.8133e-05],\n",
       "        [ 2.7805e-03, -4.9246e-04, -1.1407e-02,  ...,  7.8534e-03,\n",
       "          1.2269e-02, -5.1309e-03]])"
      ]
     },
     "execution_count": 30,
     "metadata": {},
     "output_type": "execute_result"
    }
   ],
   "source": [
    "# Sample from random normal\n",
    "model.fully_connected_1.weight.data.normal_(std=0.01)"
   ]
  },
  {
   "cell_type": "markdown",
   "metadata": {},
   "source": [
    "**Seguimiento**\n",
    "\n",
    "Pasemosle una imagen a la red, para eso debemos convertirla en tensor para luego aplicarle el método *Foward*"
   ]
  },
  {
   "cell_type": "code",
   "execution_count": 31,
   "metadata": {},
   "outputs": [
    {
     "data": {
      "image/png": "[encoded data removed]",
      "text/plain": [
       "<Figure size 432x648 with 2 Axes>"
      ]
     },
     "metadata": {
      "image/png": {
       "height": 520,
       "width": 300
      },
      "needs_background": "light"
     },
     "output_type": "display_data"
    }
   ],
   "source": [
    "data_iter = iter(train_loader)\n",
    "images, labels = data_iter.next()\n",
    "\n",
    "images.resize_(64, 1, 784)\n",
    "\n",
    "image_index = 0\n",
    "ps = model.forward(images[image_index, :])\n",
    "\n",
    "image = images[image_index]\n",
    "utils.view_classify(image.view(1, 28, 28), ps)"
   ]
  },
  {
   "cell_type": "markdown",
   "metadata": {},
   "source": [
    "La red es bastante tonta, pero es normal falta entrenarla.\n",
    "\n",
    "**Otra manera de construir redes**\n",
    "\n",
    "También podemos definir una redes con un paradigma funcional. Básicamente, estamos definido la red\n",
    "como una lista de capas u operaciones por las cuales el tensor de entrada deberá pasar en secuencia"
   ]
  },
  {
   "cell_type": "code",
   "execution_count": 32,
   "metadata": {},
   "outputs": [
    {
     "name": "stdout",
     "output_type": "stream",
     "text": [
      "Sequential(\n",
      "  (0): Linear(in_features=784, out_features=128, bias=True)\n",
      "  (1): ReLU()\n",
      "  (2): Linear(in_features=128, out_features=64, bias=True)\n",
      "  (3): ReLU()\n",
      "  (4): Linear(in_features=64, out_features=10, bias=True)\n",
      "  (5): Softmax(dim=1)\n",
      ")\n"
     ]
    },
    {
     "data": {
      "image/png": "[encoded data removed]",
      "text/plain": [
       "<Figure size 432x648 with 2 Axes>"
      ]
     },
     "metadata": {
      "image/png": {
       "height": 520,
       "width": 301
      },
      "needs_background": "light"
     },
     "output_type": "display_data"
    }
   ],
   "source": [
    "input_size = 784\n",
    "hidden_sizes = [128, 64]\n",
    "output_size = 10\n",
    "\n",
    "model = nn.Sequential(nn.Linear(input_size, hidden_sizes[0]),\n",
    "                      nn.ReLU(),\n",
    "                      nn.Linear(hidden_sizes[0], hidden_sizes[1]),\n",
    "                      nn.ReLU(),\n",
    "                      nn.Linear(hidden_sizes[1], output_size),\n",
    "                      nn.Softmax(dim=1))\n",
    "print(model)\n",
    "\n",
    "images, labels = next(iter(train_loader))\n",
    "images.resize_(images.shape[0], 1, 784)\n",
    "ps = model.forward(images[0, :])\n",
    "utils.view_classify(images[0].view(1, 28, 28), ps)"
   ]
  },
  {
   "cell_type": "markdown",
   "metadata": {},
   "source": [
    "El problema de esta manera de crear una red neuronal es que terminamos con índices en vez de nombres asociados a cada operación. Podemos solucionar esto pasándole un `OrderedDict` será un par de la forma (_nombre de la operación_, _operación_)"
   ]
  },
  {
   "cell_type": "code",
   "execution_count": 33,
   "metadata": {},
   "outputs": [
    {
     "data": {
      "text/plain": [
       "Sequential(\n",
       "  (fully_connected_1): Linear(in_features=784, out_features=128, bias=True)\n",
       "  (relu_1): ReLU()\n",
       "  (fully_connected_2): Linear(in_features=128, out_features=64, bias=True)\n",
       "  (relu_2): ReLU()\n",
       "  (output): Linear(in_features=64, out_features=10, bias=True)\n",
       "  (softmax): Softmax(dim=1)\n",
       ")"
      ]
     },
     "execution_count": 33,
     "metadata": {},
     "output_type": "execute_result"
    }
   ],
   "source": [
    "from collections import OrderedDict\n",
    "\n",
    "model = nn.Sequential(OrderedDict(\n",
    "            [('fully_connected_1', nn.Linear(input_size, hidden_sizes[0])),\n",
    "             ('relu_1', nn.ReLU()),\n",
    "             ('fully_connected_2', nn.Linear(hidden_sizes[0], hidden_sizes[1])),\n",
    "             ('relu_2', nn.ReLU()),\n",
    "             ('output', nn.Linear(hidden_sizes[1], output_size)),\n",
    "             ('softmax', nn.Softmax(dim=1))]))\n",
    "\n",
    "model"
   ]
  },
  {
   "cell_type": "markdown",
   "metadata": {},
   "source": [
    "Por diversión, creemos una red más compleja."
   ]
  },
  {
   "cell_type": "code",
   "execution_count": 34,
   "metadata": {},
   "outputs": [
    {
     "data": {
      "text/plain": [
       "Sequential(\n",
       "  (fully_connected_1): Linear(in_features=784, out_features=400, bias=True)\n",
       "  (relu_1): ReLU()\n",
       "  (fully_connected_2): Linear(in_features=400, out_features=200, bias=True)\n",
       "  (relu_2): ReLU()\n",
       "  (fully_connected_3): Linear(in_features=200, out_features=100, bias=True)\n",
       "  (relu_3): ReLU()\n",
       "  (output): Linear(in_features=100, out_features=10, bias=True)\n",
       "  (softmax): Softmax(dim=1)\n",
       ")"
      ]
     },
     "execution_count": 34,
     "metadata": {},
     "output_type": "execute_result"
    }
   ],
   "source": [
    "input_size = 784\n",
    "layer_sizes = [400, 200, 100]\n",
    "output_size = 10\n",
    "\n",
    "model = model = nn.Sequential(OrderedDict(\n",
    "            [('fully_connected_1', nn.Linear(input_size, layer_sizes[0])),\n",
    "             ('relu_1', nn.ReLU()),\n",
    "             ('fully_connected_2', nn.Linear(layer_sizes[0], layer_sizes[1])),\n",
    "             ('relu_2', nn.ReLU()),\n",
    "             ('fully_connected_3', nn.Linear(layer_sizes[1], layer_sizes[2])),\n",
    "             ('relu_3', nn.ReLU()),\n",
    "             ('output', nn.Linear(layer_sizes[2], output_size)),\n",
    "             ('softmax', nn.Softmax(dim=1))]))\n",
    "\n",
    "model"
   ]
  },
  {
   "cell_type": "code",
   "execution_count": 35,
   "metadata": {},
   "outputs": [
    {
     "data": {
      "image/png": "[encoded data removed]",
      "text/plain": [
       "<Figure size 432x648 with 2 Axes>"
      ]
     },
     "metadata": {
      "image/png": {
       "height": 520,
       "width": 300
      },
      "needs_background": "light"
     },
     "output_type": "display_data"
    }
   ],
   "source": [
    "images, labels = next(iter(train_loader))\n",
    "images.resize_(images.shape[0], 1, 784)\n",
    "ps = model.forward(images[0, :])\n",
    "utils.view_classify(images[0].view(1, 28, 28), ps)"
   ]
  },
  {
   "cell_type": "markdown",
   "metadata": {},
   "source": [
    "## 3.- Entrenando a la red\n",
    "\n",
    "Una parte importante del proceso del Deep Learning es el entrenamiento de las redes, ya que de ello depende\n",
    "el rendimiento en las tareas que le encomendemos.\n",
    "\n",
    "[Gradient descent](https://en.wikipedia.org/wiki/Gradient_descent) es un algoritmo para disminuir la función \n",
    "de pérdida o error a medida que nos adentramos en el entrenamiento. Durante el entrenamiento de cualquier\n",
    "modelos de ML buscamos optimizar el error entre las predicciones y los datos reales.\n",
    "\n",
    "Cuando la red tiene una sola capa, implementar *gradient descent* no es tan complicado, pero cuando añadimos más y más capas, demos recurrir a un método más sofisticado conocido como [Backprogation](https://en.wikipedia.org/wiki/Backpropagation).\n",
    "\n",
    "**Autograd** \n",
    "\n",
    "[Autograd](https://pytorch.org/tutorials/beginner/blitz/autograd_tutorial.html) es un módulo de Pytorch para calcular el gradiente de los tensores. Permite un registro de las operaciones ejecutadas sobre ellos, le podemos indicar a Pytorch que lleve el control de los gradientes de varias maneras:\n",
    "- Al momento de crear un tensor: `mi_tensor = torch.ones(10, requieres_grad=True)`\n",
    "- In situ: `mi_tensor.requieres_grad_(True)`\n",
    "\n",
    "### Preludio\n",
    "\n",
    "Importaremos todo lo necesario"
   ]
  },
  {
   "cell_type": "code",
   "execution_count": 36,
   "metadata": {},
   "outputs": [],
   "source": [
    "%matplotlib inline\n",
    "%config InlineBackend.figure_format = 'retina'\n",
    "\n",
    "from collections import OrderedDict #dict subclass that remembers the order entries were added\n",
    "\n",
    "import numpy as np\n",
    "import time\n",
    "\n",
    "import torch\n",
    "from torch import nn\n",
    "from torch import optim\n",
    "import torch.nn.functional as F\n",
    "\n",
    "import utils"
   ]
  },
  {
   "cell_type": "code",
   "execution_count": 37,
   "metadata": {},
   "outputs": [
    {
     "name": "stdout",
     "output_type": "stream",
     "text": [
      "tensor([[ 0.0688,  0.4368],\n",
      "        [-1.1881, -0.2148]], requires_grad=True)\n"
     ]
    }
   ],
   "source": [
    "x = torch.randn(2, 2, requires_grad=True)\n",
    "print(x)"
   ]
  },
  {
   "cell_type": "code",
   "execution_count": 38,
   "metadata": {},
   "outputs": [
    {
     "name": "stdout",
     "output_type": "stream",
     "text": [
      "tensor([[0.0047, 0.1908],\n",
      "        [1.4116, 0.0461]], grad_fn=<PowBackward0>)\n"
     ]
    }
   ],
   "source": [
    "y = x ** 2\n",
    "print(y)"
   ]
  },
  {
   "cell_type": "markdown",
   "metadata": {},
   "source": [
    "En la celda de abajo podemos ver la función de derivación (gradiente) que Autograd creó para la operación de potenciación al cuadrado que especificamos anteriormente."
   ]
  },
  {
   "cell_type": "code",
   "execution_count": 39,
   "metadata": {},
   "outputs": [
    {
     "name": "stdout",
     "output_type": "stream",
     "text": [
      "<PowBackward0 object at 0x7f5dc36e57f0>\n"
     ]
    }
   ],
   "source": [
    "# Shows the function generated by this variable\n",
    "print(y.grad_fn)"
   ]
  },
  {
   "cell_type": "markdown",
   "metadata": {},
   "source": [
    "Calculemos la media de este tensor y, seguidamente, computemos su gradiente con el método `backward()`."
   ]
  },
  {
   "cell_type": "code",
   "execution_count": 40,
   "metadata": {},
   "outputs": [
    {
     "name": "stdout",
     "output_type": "stream",
     "text": [
      "tensor(0.4133, grad_fn=<MeanBackward0>)\n"
     ]
    }
   ],
   "source": [
    "z = y.mean()\n",
    "print(z)"
   ]
  },
  {
   "cell_type": "code",
   "execution_count": 41,
   "metadata": {},
   "outputs": [
    {
     "name": "stdout",
     "output_type": "stream",
     "text": [
      "tensor([[ 0.0344,  0.2184],\n",
      "        [-0.5941, -0.1074]])\n",
      "tensor([[ 0.0344,  0.2184],\n",
      "        [-0.5941, -0.1074]], grad_fn=<DivBackward0>)\n"
     ]
    },
    {
     "name": "stderr",
     "output_type": "stream",
     "text": [
      "/usr/local/lib/python3.8/dist-packages/torch/autograd/__init__.py:130: UserWarning: CUDA initialization: Found no NVIDIA driver on your system. Please check that you have an NVIDIA GPU and installed a driver from http://www.nvidia.com/Download/index.aspx (Triggered internally at  /pytorch/c10/cuda/CUDAFunctions.cpp:100.)\n",
      "  Variable._execution_engine.run_backward(\n"
     ]
    }
   ],
   "source": [
    "z.backward()\n",
    "print(x.grad)\n",
    "print(x/2)"
   ]
  },
  {
   "cell_type": "markdown",
   "metadata": {},
   "source": [
    "Estos cálculos de gradiente son la clave para que las redes neuronales aprendan, dado que *backpropagation* requiere que el error se progague de las últimas hacia las primeras capas del modelo.\n",
    "\n",
    "### Obteniendo los datos\n",
    "\n",
    "Obtenemos el conjunto de los datos MNIST, los convertimos a tensores y normalizamos."
   ]
  },
  {
   "cell_type": "code",
   "execution_count": 46,
   "metadata": {},
   "outputs": [],
   "source": [
    "from torchvision import datasets, transforms\n",
    "\n",
    "\n",
    "transform = transforms.Compose([transforms.ToTensor(),\n",
    "                                transforms.Normalize((0.5),(0.5)),])\n",
    "train_set = datasets.MNIST('MNIST_data/', download=True, train=True, transform=transform)\n",
    "train_loader = torch.utils.data.DataLoader(train_set, batch_size=64, shuffle=True)"
   ]
  },
  {
   "cell_type": "markdown",
   "metadata": {},
   "source": [
    "### Arquitectura \n",
    "\n",
    "Definimos la red neuronal, no activaremos las salidas de esta red. En cambio, produciremos *logits* puros\n",
    "porque directamente los resultados de una función *softmax*, la cual genera una distribución de probabilidad\n",
    "sobre las etiquetas, conduce a problemas de inestabilidad numérica ya que los valores están demasiado \n",
    "cerca de 1 o 0."
   ]
  },
  {
   "cell_type": "code",
   "execution_count": 47,
   "metadata": {},
   "outputs": [],
   "source": [
    "input_size = 784\n",
    "hidden_sizes = [128, 64]\n",
    "output_size = 10\n",
    "\n",
    "model = nn.Sequential(OrderedDict([\n",
    "            ('fully_connected_1', nn.Linear(input_size, hidden_sizes[0])),\n",
    "            ('relu_1', nn.ReLU()),\n",
    "            ('fully_connected_2', nn.Linear(hidden_sizes[0], hidden_sizes[1])),\n",
    "            ('relu_2', nn.ReLU()),\n",
    "            ('logits', nn.Linear(hidden_sizes[1], output_size))\n",
    "        ]))"
   ]
  },
  {
   "cell_type": "markdown",
   "metadata": {},
   "source": [
    "### Entrenando la red\n",
    "\n",
    "Para entrenar la red necesitamos la función de pérdida (comúnmente referida como el *criterio* o, en inglés, *criterion*).\n",
    "\n",
    "**Función de perdida**\n",
    "\n",
    "Usamos una función para optimizar los parámetros durante el entrenamiento. Hay muchas funciones\n",
    "de pérdida disponibles en PyTorch, usaremos [CrossEntropy](https://en.wikipedia.org/wiki/Cross_entropy) recomendada en situaciones de *clasificación multiclase* y porque estamos implementando una salida *softmax*.\n",
    "\n",
    "**Optimizador**\n",
    "\n",
    "Es el objeto que recibe los parámetros del modelo y la tasa de aprendizaje, y se encarga de ajustar los parámetros en función del gradiente de la función de pérdida de forma iteractiva durante el entrenamiento de\n",
    "la red. Utilizamos un algoritmo [SGD](https://pytorch.org/cppdocs/api/classtorch_1_1optim_1_1_s_g_d.html#exhale-class-classtorch-1-1optim-1-1-s-g-d)."
   ]
  },
  {
   "cell_type": "code",
   "execution_count": 48,
   "metadata": {},
   "outputs": [],
   "source": [
    "criterion = nn.CrossEntropyLoss()\n",
    "optimizer = optim.SGD(model.parameters(),lr=0.01)"
   ]
  },
  {
   "cell_type": "markdown",
   "metadata": {},
   "source": [
    "Hacemos un entrenamiento en un solo paso, primero hacemos un paso con el `forward()` sobre el modelo.\n",
    "Después, se calcula el error usando `criterion`. Para ello, le pasamos las etiquetas reales y las salidas de la red. Luego retroalimentamos con el error con `backward()`. Finalmente, actualizamos los parámetros llamando al método `step()` sobre el optimizador."
   ]
  },
  {
   "cell_type": "code",
   "execution_count": 49,
   "metadata": {},
   "outputs": [
    {
     "name": "stdout",
     "output_type": "stream",
     "text": [
      "Initial weights - Parameter containing:\n",
      "tensor([[-0.0058, -0.0051,  0.0229,  ...,  0.0093,  0.0203, -0.0047],\n",
      "        [ 0.0128,  0.0347, -0.0356,  ...,  0.0043,  0.0109,  0.0051],\n",
      "        [-0.0275, -0.0180, -0.0262,  ..., -0.0301,  0.0023, -0.0020],\n",
      "        ...,\n",
      "        [ 0.0129, -0.0192,  0.0110,  ...,  0.0269, -0.0177,  0.0075],\n",
      "        [-0.0270,  0.0160, -0.0059,  ...,  0.0145, -0.0080, -0.0332],\n",
      "        [-0.0204,  0.0097, -0.0262,  ...,  0.0194,  0.0320,  0.0037]],\n",
      "       requires_grad=True)\n",
      "Gradient - tensor([[ 0.0036,  0.0036,  0.0036,  ...,  0.0036,  0.0036,  0.0036],\n",
      "        [ 0.0000,  0.0000,  0.0000,  ...,  0.0000,  0.0000,  0.0000],\n",
      "        [ 0.0000,  0.0000,  0.0000,  ...,  0.0000,  0.0000,  0.0000],\n",
      "        ...,\n",
      "        [-0.0034, -0.0034, -0.0034,  ..., -0.0034, -0.0034, -0.0034],\n",
      "        [-0.0027, -0.0027, -0.0027,  ..., -0.0027, -0.0027, -0.0027],\n",
      "        [ 0.0047,  0.0047,  0.0047,  ...,  0.0047,  0.0047,  0.0047]])\n"
     ]
    }
   ],
   "source": [
    "print(f'Initial weights - {model.fully_connected_1.weight}')\n",
    "\n",
    "images, labels = next(iter(train_loader))\n",
    "images.resize_(64, 784)\n",
    "\n",
    "optimizer.zero_grad() # Reiniciamos los gradientes\n",
    "\n",
    "\n",
    "output = model.forward(images) # Forward pass, then backward, then update\n",
    "loss = criterion(output, labels)\n",
    "loss.backward()\n",
    "print(f'Gradient - {model.fully_connected_1.weight.grad}')\n",
    "optimizer.step()"
   ]
  },
  {
   "cell_type": "code",
   "execution_count": 50,
   "metadata": {},
   "outputs": [
    {
     "name": "stdout",
     "output_type": "stream",
     "text": [
      "Updated weights - Parameter containing:\n",
      "tensor([[-0.0058, -0.0051,  0.0229,  ...,  0.0092,  0.0203, -0.0048],\n",
      "        [ 0.0128,  0.0347, -0.0356,  ...,  0.0043,  0.0109,  0.0051],\n",
      "        [-0.0275, -0.0180, -0.0262,  ..., -0.0301,  0.0023, -0.0020],\n",
      "        ...,\n",
      "        [ 0.0130, -0.0192,  0.0111,  ...,  0.0269, -0.0176,  0.0075],\n",
      "        [-0.0270,  0.0161, -0.0059,  ...,  0.0145, -0.0079, -0.0331],\n",
      "        [-0.0204,  0.0096, -0.0262,  ...,  0.0193,  0.0319,  0.0036]],\n",
      "       requires_grad=True)\n"
     ]
    }
   ],
   "source": [
    "print(f'Updated weights - {model.fully_connected_1.weight}')"
   ]
  },
  {
   "cell_type": "markdown",
   "metadata": {},
   "source": [
    "Para entrenar en serio, sólo debemos repetir el paso anterior para cada lote de datos, durante cada epoch"
   ]
  },
  {
   "cell_type": "code",
   "execution_count": null,
   "metadata": {},
   "outputs": [],
   "source": [
    "optimizer = optim.SGD(model.parameters(), lr=0.003)"
   ]
  },
  {
   "cell_type": "code",
   "execution_count": 51,
   "metadata": {},
   "outputs": [
    {
     "name": "stdout",
     "output_type": "stream",
     "text": [
      "Epoch: 1/3...\n",
      "Loss: 2.2834443271160128\n",
      "Epoch: 1/3...\n",
      "Loss: 2.225394457578659\n",
      "Epoch: 1/3...\n",
      "Loss: 2.150667780637741\n",
      "Epoch: 1/3...\n",
      "Loss: 2.0390497356653214\n",
      "Epoch: 1/3...\n",
      "Loss: 1.9129345685243606\n",
      "Epoch: 1/3...\n",
      "Loss: 1.7164293825626373\n",
      "Epoch: 1/3...\n",
      "Loss: 1.5164260625839234\n",
      "Epoch: 1/3...\n",
      "Loss: 1.3043747007846833\n",
      "Epoch: 1/3...\n",
      "Loss: 1.1511045470833778\n",
      "Epoch: 1/3...\n",
      "Loss: 1.0209702372550964\n",
      "Epoch: 1/3...\n",
      "Loss: 0.8884256690740585\n",
      "Epoch: 1/3...\n",
      "Loss: 0.782382944226265\n",
      "Epoch: 1/3...\n",
      "Loss: 0.7243492290377617\n",
      "Epoch: 1/3...\n",
      "Loss: 0.6607664085924625\n",
      "Epoch: 1/3...\n",
      "Loss: 0.6245679259300232\n",
      "Epoch: 1/3...\n",
      "Loss: 0.6010268323123455\n",
      "Epoch: 1/3...\n",
      "Loss: 0.5787739753723145\n",
      "Epoch: 1/3...\n",
      "Loss: 0.5708183087408543\n",
      "Epoch: 1/3...\n",
      "Loss: 0.5236851625144482\n",
      "Epoch: 1/3...\n",
      "Loss: 0.5417415596544742\n",
      "Epoch: 1/3...\n",
      "Loss: 0.49265484809875487\n",
      "Epoch: 1/3...\n",
      "Loss: 0.4812755659222603\n",
      "Epoch: 1/3...\n",
      "Loss: 0.4554586801677942\n",
      "Epoch: 2/3...\n",
      "Loss: 0.2711263902485371\n",
      "Epoch: 2/3...\n",
      "Loss: 0.42558762319386007\n",
      "Epoch: 2/3...\n",
      "Loss: 0.4510154813528061\n",
      "Epoch: 2/3...\n",
      "Loss: 0.42179371789097786\n",
      "Epoch: 2/3...\n",
      "Loss: 0.43056860789656637\n",
      "Epoch: 2/3...\n",
      "Loss: 0.42323353961110116\n",
      "Epoch: 2/3...\n",
      "Loss: 0.4188824735581875\n",
      "Epoch: 2/3...\n",
      "Loss: 0.4083352603018284\n",
      "Epoch: 2/3...\n",
      "Loss: 0.4003417372703552\n",
      "Epoch: 2/3...\n",
      "Loss: 0.37185875698924065\n",
      "Epoch: 2/3...\n",
      "Loss: 0.4082610812038183\n",
      "Epoch: 2/3...\n",
      "Loss: 0.3788203537464142\n",
      "Epoch: 2/3...\n",
      "Loss: 0.3780252277851105\n",
      "Epoch: 2/3...\n",
      "Loss: 0.38303610272705557\n",
      "Epoch: 2/3...\n",
      "Loss: 0.3904671140015125\n",
      "Epoch: 2/3...\n",
      "Loss: 0.36475987881422045\n",
      "Epoch: 2/3...\n",
      "Loss: 0.3980063423514366\n",
      "Epoch: 2/3...\n",
      "Loss: 0.3750871542841196\n",
      "Epoch: 2/3...\n",
      "Loss: 0.35421193949878216\n",
      "Epoch: 2/3...\n",
      "Loss: 0.32893922328948977\n",
      "Epoch: 2/3...\n",
      "Loss: 0.34302936159074304\n",
      "Epoch: 2/3...\n",
      "Loss: 0.374187234044075\n",
      "Epoch: 2/3...\n",
      "Loss: 0.364027451723814\n",
      "Epoch: 3/3...\n",
      "Loss: 0.03560858406126499\n",
      "Epoch: 3/3...\n",
      "Loss: 0.3342467177659273\n",
      "Epoch: 3/3...\n",
      "Loss: 0.35137231945991515\n",
      "Epoch: 3/3...\n",
      "Loss: 0.32223961018025876\n",
      "Epoch: 3/3...\n",
      "Loss: 0.34851079136133195\n",
      "Epoch: 3/3...\n",
      "Loss: 0.33286670558154585\n",
      "Epoch: 3/3...\n",
      "Loss: 0.33710003569722174\n",
      "Epoch: 3/3...\n",
      "Loss: 0.32536649741232393\n",
      "Epoch: 3/3...\n",
      "Loss: 0.33413453698158263\n",
      "Epoch: 3/3...\n",
      "Loss: 0.32743577398359774\n",
      "Epoch: 3/3...\n",
      "Loss: 0.3527704231441021\n",
      "Epoch: 3/3...\n",
      "Loss: 0.32939634285867214\n",
      "Epoch: 3/3...\n",
      "Loss: 0.3180534392595291\n",
      "Epoch: 3/3...\n",
      "Loss: 0.32640485987067225\n",
      "Epoch: 3/3...\n",
      "Loss: 0.30607978738844394\n",
      "Epoch: 3/3...\n",
      "Loss: 0.293309697508812\n",
      "Epoch: 3/3...\n",
      "Loss: 0.3510606851428747\n",
      "Epoch: 3/3...\n",
      "Loss: 0.36398871913552283\n",
      "Epoch: 3/3...\n",
      "Loss: 0.31516067683696747\n",
      "Epoch: 3/3...\n",
      "Loss: 0.3123856488615274\n",
      "Epoch: 3/3...\n",
      "Loss: 0.33528953716158866\n",
      "Epoch: 3/3...\n",
      "Loss: 0.30745016485452653\n",
      "Epoch: 3/3...\n",
      "Loss: 0.2823506236076355\n",
      "Epoch: 3/3...\n",
      "Loss: 0.32500421181321143\n"
     ]
    }
   ],
   "source": [
    "epochs = 3\n",
    "print_every = 40\n",
    "steps = 0\n",
    "\n",
    "for epoch in range(epochs):\n",
    "    running_loss = 0\n",
    "    for images, labels in iter(train_loader):\n",
    "        steps += 1\n",
    "        \n",
    "        images.resize_(images.size()[0], 784)  # Flatten\n",
    "        \n",
    "        optimizer.zero_grad()\n",
    "        \n",
    "        # Forward and backward passes\n",
    "        output = model.forward(images)\n",
    "        loss = criterion(output, labels)\n",
    "        loss.backward()\n",
    "        optimizer.step()\n",
    "        \n",
    "        running_loss += loss.item()\n",
    "        \n",
    "        if steps % print_every == 0:\n",
    "            print(f'Epoch: {epoch + 1}/{epochs}...\\nLoss: {running_loss/print_every}')\n",
    "            \n",
    "            running_loss = 0\n"
   ]
  },
  {
   "cell_type": "markdown",
   "metadata": {},
   "source": [
    "**Resultados**\n",
    "\n",
    "Vemos la dinámica de la función de pérdida y las interacciones."
   ]
  },
  {
   "cell_type": "code",
   "execution_count": 57,
   "metadata": {},
   "outputs": [
    {
     "data": {
      "image/png": "[encoded data removed]",
      "text/plain": [
       "<Figure size 432x648 with 2 Axes>"
      ]
     },
     "metadata": {
      "image/png": {
       "height": 187,
       "width": 353
      },
      "needs_background": "light"
     },
     "output_type": "display_data"
    }
   ],
   "source": [
    "images, labels = next(iter(train_loader))\n",
    "\n",
    "image = images[2].view(1, 784)\n",
    "\n",
    "# Turn off gradients to speed up this part\n",
    "with torch.no_grad():\n",
    "    logits = model.forward(image)\n",
    "    \n",
    "predictions = F.softmax(logits, dim=1)\n",
    "utils.view_classify(image.view(1, 28, 28), predictions)"
   ]
  },
  {
   "cell_type": "markdown",
   "metadata": {},
   "source": [
    "Se puede observar la disminución del error de clasificación a medida que se ha ido entrenando la RNA.\n",
    "\n",
    "## 4.- Un problema más difícil: Fashion-MNIST\n",
    "\n",
    "MNIST ha estado rondando por ahí durante bastante tiempo y ha llegado al punto en el que resolver el problema que presenta se ha vuelvo trivial y, por tanto, no provee un buen punto de referencia para muchos algoritmos modernos de Machine y Deep Learning.\n",
    "\n",
    "Fashion-MNIST, por su parte, pretende reemplazar al MNIST tradicional como el dataset por defecto para medir la efectividad de los modelos de Deep Learning. Es más complejo puesto que sus imágenes representan diversas prendas de ropa, en vez de dígitos escritos a mano.\n",
    "\n",
    "Como sucede con el MNIST original, cada imagen tiene una resolución de 28x28 y se encuentra en escala de grises.\n",
    "\n",
    "### Preludio\n",
    "\n",
    "Igual que para el MNIST tradicional cargamos librerias"
   ]
  },
  {
   "cell_type": "code",
   "execution_count": 58,
   "metadata": {},
   "outputs": [],
   "source": [
    "%matplotlib inline\n",
    "%config InlineBackend.figure_format = 'retina'\n",
    "\n",
    "from collections import OrderedDict\n",
    "\n",
    "import torch\n",
    "from torchvision import datasets, transforms\n",
    "import utils\n",
    "\n",
    "import matplotlib.pyplot as plt\n",
    "import numpy as np\n",
    "import time\n",
    "\n",
    "from torch import nn\n",
    "from torch import optim\n",
    "import torch.nn.functional as F"
   ]
  },
  {
   "cell_type": "markdown",
   "metadata": {},
   "source": [
    "### Datos\n",
    "\n",
    "Esto deberia ser familiar"
   ]
  },
  {
   "cell_type": "code",
   "execution_count": 59,
   "metadata": {},
   "outputs": [
    {
     "name": "stdout",
     "output_type": "stream",
     "text": [
      "Downloading http://fashion-mnist.s3-website.eu-central-1.amazonaws.com/train-images-idx3-ubyte.gz to Fashion_MNIST_data/FashionMNIST/raw/train-images-idx3-ubyte.gz\n"
     ]
    },
    {
     "name": "stderr",
     "output_type": "stream",
     "text": [
      "100.0%"
     ]
    },
    {
     "name": "stdout",
     "output_type": "stream",
     "text": [
      "Extracting Fashion_MNIST_data/FashionMNIST/raw/train-images-idx3-ubyte.gz to Fashion_MNIST_data/FashionMNIST/raw\n",
      "Downloading http://fashion-mnist.s3-website.eu-central-1.amazonaws.com/train-labels-idx1-ubyte.gz to Fashion_MNIST_data/FashionMNIST/raw/train-labels-idx1-ubyte.gz\n"
     ]
    },
    {
     "name": "stderr",
     "output_type": "stream",
     "text": [
      "111.0%"
     ]
    },
    {
     "name": "stdout",
     "output_type": "stream",
     "text": [
      "Extracting Fashion_MNIST_data/FashionMNIST/raw/train-labels-idx1-ubyte.gz to Fashion_MNIST_data/FashionMNIST/raw\n",
      "Downloading http://fashion-mnist.s3-website.eu-central-1.amazonaws.com/t10k-images-idx3-ubyte.gz to Fashion_MNIST_data/FashionMNIST/raw/t10k-images-idx3-ubyte.gz\n"
     ]
    },
    {
     "name": "stderr",
     "output_type": "stream",
     "text": [
      "100.0%"
     ]
    },
    {
     "name": "stdout",
     "output_type": "stream",
     "text": [
      "Extracting Fashion_MNIST_data/FashionMNIST/raw/t10k-images-idx3-ubyte.gz to Fashion_MNIST_data/FashionMNIST/raw\n",
      "Downloading http://fashion-mnist.s3-website.eu-central-1.amazonaws.com/t10k-labels-idx1-ubyte.gz to Fashion_MNIST_data/FashionMNIST/raw/t10k-labels-idx1-ubyte.gz\n"
     ]
    },
    {
     "name": "stderr",
     "output_type": "stream",
     "text": [
      "159.1%"
     ]
    },
    {
     "name": "stdout",
     "output_type": "stream",
     "text": [
      "Extracting Fashion_MNIST_data/FashionMNIST/raw/t10k-labels-idx1-ubyte.gz to Fashion_MNIST_data/FashionMNIST/raw\n",
      "Processing...\n",
      "Done!\n"
     ]
    },
    {
     "name": "stderr",
     "output_type": "stream",
     "text": [
      "/usr/local/lib/python3.8/dist-packages/torchvision/datasets/mnist.py:480: UserWarning: The given NumPy array is not writeable, and PyTorch does not support non-writeable tensors. This means you can write to the underlying (supposedly non-writeable) NumPy array using the tensor. You may want to copy the array to protect its data or make it writeable before converting it to a tensor. This type of warning will be suppressed for the rest of this program. (Triggered internally at  /pytorch/torch/csrc/utils/tensor_numpy.cpp:141.)\n",
      "  return torch.from_numpy(parsed.astype(m[2], copy=False)).view(*s)\n"
     ]
    }
   ],
   "source": [
    "transform = transforms.Compose([transforms.ToTensor(),\n",
    "                                transforms.Normalize((0.5),(0.5)),])\n",
    "\n",
    "train_set = datasets.FashionMNIST('Fashion_MNIST_data/', download=True, train=True, transform=transform)\n",
    "train_loader = torch.utils.data.DataLoader(train_set, batch_size=64, shuffle=True)\n",
    "\n",
    "test_set = datasets.FashionMNIST('Fashion_MNIST_data/', download=True, train=False, transform=transform)\n",
    "test_loader = torch.utils.data.DataLoader(test_set, batch_size=64, shuffle=True)"
   ]
  },
  {
   "cell_type": "markdown",
   "metadata": {},
   "source": [
    "### Un vistazo a los datos\n",
    "\n",
    "Demos un vistazo a una imagen de prueba"
   ]
  },
  {
   "cell_type": "code",
   "execution_count": 63,
   "metadata": {},
   "outputs": [
    {
     "data": {
      "text/plain": [
       "<AxesSubplot:>"
      ]
     },
     "execution_count": 63,
     "metadata": {},
     "output_type": "execute_result"
    },
    {
     "data": {
      "image/png": "[encoded data removed]",
      "text/plain": [
       "<Figure size 432x288 with 1 Axes>"
      ]
     },
     "metadata": {
      "image/png": {
       "height": 231,
       "width": 231
      },
      "needs_background": "light"
     },
     "output_type": "display_data"
    }
   ],
   "source": [
    "image, label = next(iter(train_loader)) #Pulsar varias veces\n",
    "utils.show_image(image[0, :])"
   ]
  },
  {
   "cell_type": "markdown",
   "metadata": {},
   "source": [
    "### La red\n",
    "\n",
    "Definimos una red usando `OrdereDict`, nombramos cada capa/operación"
   ]
  },
  {
   "cell_type": "code",
   "execution_count": 64,
   "metadata": {},
   "outputs": [
    {
     "data": {
      "text/plain": [
       "Sequential(\n",
       "  (fully_connected_1): Linear(in_features=784, out_features=512, bias=True)\n",
       "  (relu_1): ReLU()\n",
       "  (fully_connected_2): Linear(in_features=512, out_features=256, bias=True)\n",
       "  (relu_2): ReLU()\n",
       "  (fully_connected_3): Linear(in_features=256, out_features=128, bias=True)\n",
       "  (relu_3): ReLU()\n",
       "  (logits): Linear(in_features=128, out_features=10, bias=True)\n",
       ")"
      ]
     },
     "execution_count": 64,
     "metadata": {},
     "output_type": "execute_result"
    }
   ],
   "source": [
    "input_size = 784\n",
    "hidden_sizes = [512, 256, 128]\n",
    "output_size = 10\n",
    "\n",
    "model = nn.Sequential(OrderedDict([\n",
    "            ('fully_connected_1', nn.Linear(input_size, hidden_sizes[0])),\n",
    "            ('relu_1', nn.ReLU()),\n",
    "            ('fully_connected_2', nn.Linear(hidden_sizes[0], hidden_sizes[1])),\n",
    "            ('relu_2', nn.ReLU()),\n",
    "            ('fully_connected_3', nn.Linear(hidden_sizes[1], hidden_sizes[2])),\n",
    "            ('relu_3', nn.ReLU()),\n",
    "            ('logits', nn.Linear(hidden_sizes[2], output_size)),\n",
    "        ]))\n",
    "model"
   ]
  },
  {
   "cell_type": "markdown",
   "metadata": {},
   "source": [
    "### ¡Hora de Entrenar!\n",
    "\n",
    "Entrenar es bastante sencillo, como ya has visto:\n",
    "\n",
    " - Paso 1: Define el criterio (función de pérdida).\n",
    " - Paso 2: Define el optimizador (por ejemplo, [Adam](https://machinelearningmastery.com/adam-optimization-algorithm-for-deep-learning/).\n",
    " - Paso 3: Para cada lote en cada epoch:\n",
    "     - Calcula las salidas de la red.\n",
    "     - Calcula la pérdida o error.\n",
    "     - Propaga el error hacia atrás.\n",
    "     - Actualiza los parámetros."
   ]
  },
  {
   "cell_type": "code",
   "execution_count": 65,
   "metadata": {},
   "outputs": [],
   "source": [
    "criterion = nn.CrossEntropyLoss()\n",
    "optimizer = optim.Adam(model.parameters(), lr=0.001)"
   ]
  },
  {
   "cell_type": "code",
   "execution_count": 66,
   "metadata": {},
   "outputs": [
    {
     "name": "stdout",
     "output_type": "stream",
     "text": [
      "Epoch: 1/10...\n",
      "Loss: 1.0777680850028992\n",
      "Epoch: 1/10...\n",
      "Loss: 0.6614168781042099\n",
      "Epoch: 1/10...\n",
      "Loss: 0.5635613352060318\n",
      "Epoch: 1/10...\n",
      "Loss: 0.5310867822170258\n",
      "Epoch: 1/10...\n",
      "Loss: 0.48669349908828735\n",
      "Epoch: 1/10...\n",
      "Loss: 0.5101303610205651\n",
      "Epoch: 1/10...\n",
      "Loss: 0.47610639452934267\n",
      "Epoch: 1/10...\n",
      "Loss: 0.46217997789382936\n",
      "Epoch: 1/10...\n",
      "Loss: 0.4870587205886841\n",
      "Epoch: 1/10...\n",
      "Loss: 0.42454107105731964\n",
      "Epoch: 1/10...\n",
      "Loss: 0.4491165527701378\n",
      "Epoch: 1/10...\n",
      "Loss: 0.4079718515276909\n",
      "Epoch: 1/10...\n",
      "Loss: 0.4197344359755516\n",
      "Epoch: 1/10...\n",
      "Loss: 0.4228763198852539\n",
      "Epoch: 1/10...\n",
      "Loss: 0.4226401975750923\n",
      "Epoch: 1/10...\n",
      "Loss: 0.4228140923380852\n",
      "Epoch: 1/10...\n",
      "Loss: 0.4182841131091118\n",
      "Epoch: 1/10...\n",
      "Loss: 0.4573587027192116\n",
      "Epoch: 2/10...\n",
      "Loss: 0.09166890501976013\n",
      "Epoch: 2/10...\n",
      "Loss: 0.36332558155059813\n",
      "Epoch: 2/10...\n",
      "Loss: 0.3750085240602493\n",
      "Epoch: 2/10...\n",
      "Loss: 0.4183532527089119\n",
      "Epoch: 2/10...\n",
      "Loss: 0.38412598222494126\n",
      "Epoch: 2/10...\n",
      "Loss: 0.38415744811296465\n",
      "Epoch: 2/10...\n",
      "Loss: 0.3693010452389717\n",
      "Epoch: 2/10...\n",
      "Loss: 0.398923522233963\n",
      "Epoch: 2/10...\n",
      "Loss: 0.3751394522190094\n",
      "Epoch: 2/10...\n",
      "Loss: 0.3656633427739143\n",
      "Epoch: 2/10...\n",
      "Loss: 0.3790957844257355\n",
      "Epoch: 2/10...\n",
      "Loss: 0.38590128868818285\n",
      "Epoch: 2/10...\n",
      "Loss: 0.36718379497528075\n",
      "Epoch: 2/10...\n",
      "Loss: 0.3775473463535309\n",
      "Epoch: 2/10...\n",
      "Loss: 0.3895439019799232\n",
      "Epoch: 2/10...\n",
      "Loss: 0.36445837914943696\n",
      "Epoch: 2/10...\n",
      "Loss: 0.3609396719932556\n",
      "Epoch: 2/10...\n",
      "Loss: 0.3788961520791054\n",
      "Epoch: 2/10...\n",
      "Loss: 0.3382237082719803\n",
      "Epoch: 3/10...\n",
      "Loss: 0.15166292905807496\n",
      "Epoch: 3/10...\n",
      "Loss: 0.3379621607065201\n",
      "Epoch: 3/10...\n",
      "Loss: 0.3538751620054245\n",
      "Epoch: 3/10...\n",
      "Loss: 0.32537460803985596\n",
      "Epoch: 3/10...\n",
      "Loss: 0.33799946427345273\n",
      "Epoch: 3/10...\n",
      "Loss: 0.3237950676679611\n",
      "Epoch: 3/10...\n",
      "Loss: 0.3379494133591652\n",
      "Epoch: 3/10...\n",
      "Loss: 0.35552968621253966\n",
      "Epoch: 3/10...\n",
      "Loss: 0.30385636538267136\n",
      "Epoch: 3/10...\n",
      "Loss: 0.3616788190603256\n",
      "Epoch: 3/10...\n",
      "Loss: 0.3464729243516922\n",
      "Epoch: 3/10...\n",
      "Loss: 0.3572603589296341\n",
      "Epoch: 3/10...\n",
      "Loss: 0.3324390262365341\n",
      "Epoch: 3/10...\n",
      "Loss: 0.34255766063928605\n",
      "Epoch: 3/10...\n",
      "Loss: 0.3265432694554329\n",
      "Epoch: 3/10...\n",
      "Loss: 0.33388054952025414\n",
      "Epoch: 3/10...\n",
      "Loss: 0.3050367686152458\n",
      "Epoch: 3/10...\n",
      "Loss: 0.31317398115992545\n",
      "Epoch: 3/10...\n",
      "Loss: 0.3413439878821373\n",
      "Epoch: 4/10...\n",
      "Loss: 0.2138613837957382\n",
      "Epoch: 4/10...\n",
      "Loss: 0.30236816495656965\n",
      "Epoch: 4/10...\n",
      "Loss: 0.31221150666475295\n",
      "Epoch: 4/10...\n",
      "Loss: 0.3145703998208046\n",
      "Epoch: 4/10...\n",
      "Loss: 0.30703424364328386\n",
      "Epoch: 4/10...\n",
      "Loss: 0.3066248995065689\n",
      "Epoch: 4/10...\n",
      "Loss: 0.3110210394859314\n",
      "Epoch: 4/10...\n",
      "Loss: 0.29921338602900505\n",
      "Epoch: 4/10...\n",
      "Loss: 0.3198898506164551\n",
      "Epoch: 4/10...\n",
      "Loss: 0.2909530013799667\n",
      "Epoch: 4/10...\n",
      "Loss: 0.29637264311313627\n",
      "Epoch: 4/10...\n",
      "Loss: 0.3045684304833412\n",
      "Epoch: 4/10...\n",
      "Loss: 0.3157156418263912\n",
      "Epoch: 4/10...\n",
      "Loss: 0.2913790035247803\n",
      "Epoch: 4/10...\n",
      "Loss: 0.3032566085457802\n",
      "Epoch: 4/10...\n",
      "Loss: 0.30370408087968825\n",
      "Epoch: 4/10...\n",
      "Loss: 0.29579352110624313\n",
      "Epoch: 4/10...\n",
      "Loss: 0.3003170624375343\n",
      "Epoch: 4/10...\n",
      "Loss: 0.3365249091386795\n",
      "Epoch: 5/10...\n",
      "Loss: 0.29105507999658586\n",
      "Epoch: 5/10...\n",
      "Loss: 0.2702359822392464\n",
      "Epoch: 5/10...\n",
      "Loss: 0.28538757026195527\n",
      "Epoch: 5/10...\n",
      "Loss: 0.2717836730182171\n",
      "Epoch: 5/10...\n",
      "Loss: 0.28125707179307935\n",
      "Epoch: 5/10...\n",
      "Loss: 0.2970104020833969\n",
      "Epoch: 5/10...\n",
      "Loss: 0.29244411587715147\n",
      "Epoch: 5/10...\n",
      "Loss: 0.2684426572918892\n",
      "Epoch: 5/10...\n",
      "Loss: 0.3063639217615128\n",
      "Epoch: 5/10...\n",
      "Loss: 0.2982395216822624\n",
      "Epoch: 5/10...\n",
      "Loss: 0.2937461745738983\n",
      "Epoch: 5/10...\n",
      "Loss: 0.2985074657201767\n",
      "Epoch: 5/10...\n",
      "Loss: 0.28210499197244643\n",
      "Epoch: 5/10...\n",
      "Loss: 0.28415875747799874\n",
      "Epoch: 5/10...\n",
      "Loss: 0.2680257634818554\n",
      "Epoch: 5/10...\n",
      "Loss: 0.3156947261095047\n",
      "Epoch: 5/10...\n",
      "Loss: 0.2629586917161941\n",
      "Epoch: 5/10...\n",
      "Loss: 0.3116290697455406\n",
      "Epoch: 6/10...\n",
      "Loss: 0.043879859000444416\n",
      "Epoch: 6/10...\n",
      "Loss: 0.24845436826348305\n",
      "Epoch: 6/10...\n",
      "Loss: 0.25828316986560823\n",
      "Epoch: 6/10...\n",
      "Loss: 0.26990528613328935\n",
      "Epoch: 6/10...\n",
      "Loss: 0.2554797670245171\n",
      "Epoch: 6/10...\n",
      "Loss: 0.2992712393403053\n",
      "Epoch: 6/10...\n",
      "Loss: 0.2498948557674885\n",
      "Epoch: 6/10...\n",
      "Loss: 0.27676036685705185\n",
      "Epoch: 6/10...\n",
      "Loss: 0.28110799580812457\n",
      "Epoch: 6/10...\n",
      "Loss: 0.25905935376882555\n",
      "Epoch: 6/10...\n",
      "Loss: 0.28651030018925666\n",
      "Epoch: 6/10...\n",
      "Loss: 0.266135618686676\n",
      "Epoch: 6/10...\n",
      "Loss: 0.299981387257576\n",
      "Epoch: 6/10...\n",
      "Loss: 0.28410483032464984\n",
      "Epoch: 6/10...\n",
      "Loss: 0.26338912546634674\n",
      "Epoch: 6/10...\n",
      "Loss: 0.26926410317420957\n",
      "Epoch: 6/10...\n",
      "Loss: 0.2657314795255661\n",
      "Epoch: 6/10...\n",
      "Loss: 0.272323330193758\n",
      "Epoch: 6/10...\n",
      "Loss: 0.26761223018169406\n",
      "Epoch: 7/10...\n",
      "Loss: 0.10779809042811393\n",
      "Epoch: 7/10...\n",
      "Loss: 0.25314184978604315\n",
      "Epoch: 7/10...\n",
      "Loss: 0.2626789221167564\n",
      "Epoch: 7/10...\n",
      "Loss: 0.26231838822364806\n",
      "Epoch: 7/10...\n",
      "Loss: 0.267944960296154\n",
      "Epoch: 7/10...\n",
      "Loss: 0.27033696830272674\n",
      "Epoch: 7/10...\n",
      "Loss: 0.2720801469683647\n",
      "Epoch: 7/10...\n",
      "Loss: 0.2665778571367264\n",
      "Epoch: 7/10...\n",
      "Loss: 0.26705365866422653\n",
      "Epoch: 7/10...\n",
      "Loss: 0.2366235688328743\n",
      "Epoch: 7/10...\n",
      "Loss: 0.23440767377614974\n",
      "Epoch: 7/10...\n",
      "Loss: 0.27661060452461245\n",
      "Epoch: 7/10...\n",
      "Loss: 0.23543475165963174\n",
      "Epoch: 7/10...\n",
      "Loss: 0.24610375091433526\n",
      "Epoch: 7/10...\n",
      "Loss: 0.2489503003656864\n",
      "Epoch: 7/10...\n",
      "Loss: 0.26385281324386595\n",
      "Epoch: 7/10...\n",
      "Loss: 0.2518946635723114\n",
      "Epoch: 7/10...\n",
      "Loss: 0.25910052068531514\n",
      "Epoch: 7/10...\n",
      "Loss: 0.27229978144168854\n",
      "Epoch: 8/10...\n",
      "Loss: 0.17133289217948913\n",
      "Epoch: 8/10...\n",
      "Loss: 0.21956768110394478\n",
      "Epoch: 8/10...\n",
      "Loss: 0.23435472682118416\n",
      "Epoch: 8/10...\n",
      "Loss: 0.24147237911820413\n",
      "Epoch: 8/10...\n",
      "Loss: 0.24698663905262946\n",
      "Epoch: 8/10...\n",
      "Loss: 0.24279217183589935\n",
      "Epoch: 8/10...\n",
      "Loss: 0.23469821304082872\n",
      "Epoch: 8/10...\n",
      "Loss: 0.24015266507863997\n",
      "Epoch: 8/10...\n",
      "Loss: 0.23011990822851658\n",
      "Epoch: 8/10...\n",
      "Loss: 0.2483416549861431\n",
      "Epoch: 8/10...\n",
      "Loss: 0.25475491404533385\n",
      "Epoch: 8/10...\n",
      "Loss: 0.23953245252370833\n",
      "Epoch: 8/10...\n",
      "Loss: 0.2385702921450138\n",
      "Epoch: 8/10...\n",
      "Loss: 0.24290123999118804\n",
      "Epoch: 8/10...\n",
      "Loss: 0.2781835278868675\n",
      "Epoch: 8/10...\n",
      "Loss: 0.23444370552897453\n",
      "Epoch: 8/10...\n",
      "Loss: 0.26518493294715884\n",
      "Epoch: 8/10...\n",
      "Loss: 0.25635549053549767\n",
      "Epoch: 8/10...\n",
      "Loss: 0.2565142261981964\n",
      "Epoch: 9/10...\n",
      "Loss: 0.2089261369407177\n",
      "Epoch: 9/10...\n",
      "Loss: 0.22174695253372192\n",
      "Epoch: 9/10...\n",
      "Loss: 0.23718390196561814\n",
      "Epoch: 9/10...\n",
      "Loss: 0.22589379385113717\n",
      "Epoch: 9/10...\n",
      "Loss: 0.20915764480829238\n",
      "Epoch: 9/10...\n",
      "Loss: 0.22701586291193962\n",
      "Epoch: 9/10...\n",
      "Loss: 0.23905130118131637\n",
      "Epoch: 9/10...\n",
      "Loss: 0.22201604500412941\n",
      "Epoch: 9/10...\n",
      "Loss: 0.23360804125666618\n",
      "Epoch: 9/10...\n",
      "Loss: 0.21200329646468163\n",
      "Epoch: 9/10...\n",
      "Loss: 0.23790777072310448\n",
      "Epoch: 9/10...\n",
      "Loss: 0.23999063193798065\n",
      "Epoch: 9/10...\n",
      "Loss: 0.21166377544403076\n",
      "Epoch: 9/10...\n",
      "Loss: 0.22683460354804993\n",
      "Epoch: 9/10...\n",
      "Loss: 0.23618971690535545\n",
      "Epoch: 9/10...\n",
      "Loss: 0.22318477660417557\n",
      "Epoch: 9/10...\n",
      "Loss: 0.24463948905467986\n",
      "Epoch: 9/10...\n",
      "Loss: 0.2410852950811386\n",
      "Epoch: 10/10...\n",
      "Loss: 0.03495424926280975\n",
      "Epoch: 10/10...\n",
      "Loss: 0.20149109318852423\n",
      "Epoch: 10/10...\n",
      "Loss: 0.18795592993497848\n",
      "Epoch: 10/10...\n",
      "Loss: 0.205332772731781\n",
      "Epoch: 10/10...\n",
      "Loss: 0.23414486810564994\n",
      "Epoch: 10/10...\n",
      "Loss: 0.22580011501908304\n",
      "Epoch: 10/10...\n",
      "Loss: 0.2234410747140646\n",
      "Epoch: 10/10...\n",
      "Loss: 0.20750396072864533\n",
      "Epoch: 10/10...\n",
      "Loss: 0.2108302167057991\n",
      "Epoch: 10/10...\n",
      "Loss: 0.2350351619720459\n",
      "Epoch: 10/10...\n",
      "Loss: 0.22080918818712233\n",
      "Epoch: 10/10...\n",
      "Loss: 0.2235197453200817\n",
      "Epoch: 10/10...\n",
      "Loss: 0.21578047722578048\n",
      "Epoch: 10/10...\n",
      "Loss: 0.20183912202715873\n",
      "Epoch: 10/10...\n",
      "Loss: 0.22513748615980148\n",
      "Epoch: 10/10...\n",
      "Loss: 0.22251442238688468\n",
      "Epoch: 10/10...\n",
      "Loss: 0.24548128202557565\n",
      "Epoch: 10/10...\n",
      "Loss: 0.22436971977353096\n",
      "Epoch: 10/10...\n",
      "Loss: 0.21179820388555526\n"
     ]
    }
   ],
   "source": [
    "epochs = 10\n",
    "print_every = 50\n",
    "steps = 0\n",
    "\n",
    "for epoch in range(1, epochs + 1):\n",
    "    running_loss = 0\n",
    "    for images, labels in iter(train_loader):\n",
    "        steps += 1\n",
    "        \n",
    "        images.resize_(images.size()[0], 784)\n",
    "        \n",
    "        optimizer.zero_grad()\n",
    "        \n",
    "        output = model.forward(images)\n",
    "        loss = criterion(output, labels)\n",
    "        loss.backward()\n",
    "        optimizer.step()\n",
    "        \n",
    "        running_loss += loss.item()\n",
    "        \n",
    "        if steps % print_every == 0:\n",
    "            print(f'Epoch: {epoch}/{epochs}...\\nLoss: {running_loss/print_every}')\n",
    "            \n",
    "            running_loss = 0"
   ]
  },
  {
   "cell_type": "markdown",
   "metadata": {},
   "source": [
    "### Resultados"
   ]
  },
  {
   "cell_type": "code",
   "execution_count": 70,
   "metadata": {},
   "outputs": [
    {
     "data": {
      "image/png": "[encoded data removed]",
      "text/plain": [
       "<Figure size 432x648 with 2 Axes>"
      ]
     },
     "metadata": {
      "image/png": {
       "height": 195,
       "width": 349
      },
      "needs_background": "light"
     },
     "output_type": "display_data"
    }
   ],
   "source": [
    "data_iter = iter(test_loader)\n",
    "images, labels = data_iter.next()\n",
    "\n",
    "image = images[0]\n",
    "\n",
    "image = image.resize_(1, 784)\n",
    "\n",
    "with torch.no_grad():\n",
    "    logits = model.forward(image)\n",
    "    \n",
    "predictions = F.softmax(logits, dim=1)\n",
    "utils.view_classify(image.view(1, 28, 28), predictions, version='Fashion')"
   ]
  },
  {
   "cell_type": "code",
   "execution_count": null,
   "metadata": {},
   "outputs": [],
   "source": []
  }
 ],
 "metadata": {
  "kernelspec": {
   "display_name": "Python 3",
   "language": "python",
   "name": "python3"
  },
  "language_info": {
   "codemirror_mode": {
    "name": "ipython",
    "version": 3
   },
   "file_extension": ".py",
   "mimetype": "text/x-python",
   "name": "python",
   "nbconvert_exporter": "python",
   "pygments_lexer": "ipython3",
   "version": "3.8.5"
  }
 },
 "nbformat": 4,
 "nbformat_minor": 1
}
