{
 "cells": [
  {
   "cell_type": "markdown",
   "metadata": {},
   "source": [
    "# Autoencoder\n",
    "\n",
    "En general, nos encontraremos con conjuntos de datos que contienen un montón de carácteristicas `features`\n",
    "que hacen muy complicados los cálculos. Sin embargo, podriamos estar interesados en las partes de los\n",
    "datos que más contribuyen al aprendizaje de un modelo, lo qeu conduce a menos cálculos. El proceso de elegir\n",
    "las partes más importantes de los datos se conoce como selección de carácteristicas `feature selection`, que se\n",
    "puede hacer con un **autoencoder**."
   ]
  },
  {
   "cell_type": "markdown",
   "metadata": {},
   "source": [
    "Pero ¿qué hace exactamente un **autoencoder**?. Primero es un `red neuronal`, que en lugar de encontrar la función que mapea las features **x** a values o labels **y**, mapea a **x** en si mismo **x**. Pero, ¿para qué queremos eso?"
   ]
  },
  {
   "cell_type": "markdown",
   "metadata": {},
   "source": [
    "Veamos un gráfico\n",
    "![Creado con NN-SVG](./autoencoder.png \"Creado con NN-SVG\")"
   ]
  },
  {
   "cell_type": "markdown",
   "metadata": {},
   "source": [
    "Vemos que el autoencoder consiste de dos partes: el **encoder**, que aprende la representación de los datos,\n",
    "es decir, las features *importantes* **z** de los datos; y el **decoder** que reconstruye los datos basado en \n",
    "**z** y como fue estructurado.\n",
    "\n",
    "Matemáticamente, se escribe como\n",
    "$$ z = f(h_e(x))$$\n",
    "\n",
    "z es la representación del dato aprendido por el *encoder* del input *x*.\n",
    "\n",
    "$$ \\hat{x} = f(h_d(z))$$\n",
    "\n",
    "$\\hat{x}$ es el dato reconstruido por el *decoder* basado en la representación aprendida *z*."
   ]
  },
  {
   "cell_type": "markdown",
   "metadata": {},
   "source": [
    "Como discutimos arriba, la salida del encoder es la entrada del decoder. ¿Eso es todo? No, no exactamente.\n",
    "El punto se encuentra en que solo hemos hablado de los componentes del un *autoencoder*, pero no de **como aprender** realmente. Hasta aquí, solo conocemos el flujo de los datos. \n",
    "\n",
    "Como otras redes neuronales, un autoencoder aprender a través de **backpropagation**. Pero, en lugar de comparar los values o labels, compara el *dato reconstruido* $\\hat{x}$ y el original $x$. A esta comparación la llamamos **función de error de reconstrucción**, y viene dada por la ecuación\n",
    "$$\n",
    "L = \\frac{1}{n} \\sum^{n-1}_{i=0} \\left(\\hat{x}_i - x_i\\right)^2\n",
    "$$\n",
    "\n",
    "\n",
    "Ahora implementemos un ejemplo."
   ]
  },
  {
   "cell_type": "code",
   "execution_count": 1,
   "metadata": {},
   "outputs": [],
   "source": [
    "# Como siempre importamos lo necesario\n",
    "%matplotlib inline\n",
    "%config InlineBackend.figure_format = 'retina'\n",
    "\n",
    "import matplotlib.pyplot as plt\n",
    "import numpy as np\n",
    "import time\n",
    "\n",
    "import torch\n",
    "from torch import nn\n",
    "from torch import optim\n",
    "import torch.nn.functional as F\n",
    "from torchvision import datasets, transforms\n",
    "\n",
    "import utils\n",
    "\n",
    "\n",
    "class AE(nn.Module):\n",
    "    def __init__(self, **kwargs):\n",
    "        super().__init__()\n",
    "        self.encoder_hidden_layer = nn.Linear(\n",
    "            in_features=kwargs[\"input_shape\"], out_features=128\n",
    "        )\n",
    "        self.encoder_output_layer = nn.Linear(\n",
    "            in_features=128, out_features=128\n",
    "        )\n",
    "        self.decoder_hidden_layer = nn.Linear(\n",
    "            in_features=128, out_features=128\n",
    "        )\n",
    "        self.decoder_output_layer = nn.Linear(\n",
    "            in_features=128, out_features=kwargs[\"input_shape\"]\n",
    "        )\n",
    "\n",
    "    def forward(self, features):\n",
    "        activation = self.encoder_hidden_layer(features)\n",
    "        activation = torch.relu(activation)\n",
    "        code = self.encoder_output_layer(activation)\n",
    "        code = torch.relu(code)\n",
    "        activation = self.decoder_hidden_layer(code)\n",
    "        activation = torch.relu(activation)\n",
    "        activation = self.decoder_output_layer(activation)\n",
    "        reconstructed = torch.relu(activation)\n",
    "        return reconstructed"
   ]
  },
  {
   "cell_type": "markdown",
   "metadata": {},
   "source": [
    "Expliquemos algunas cosas:\n",
    "* `torch.nn.Linear` crea un función lineal ($\\theta x + b$), por defecto, parámetros distribuidos [He/Kaiming uniform](https://arxiv.org/abs/1502.01852). Esto significa que tendremos activacion no lineales en esas capas.\n",
    "* `in_features` da el tamaño del tensor de entrada de una capa en particular, por ejemplo, en `self.encoder_hidden_layer`, acepta un tensor de entrada con tamaño `[N, input_shape]` donde `N` es el número de ejemplos, y `input_shape` es el número de features en un ejemplo.\n",
    "* `out_features` da el tamaño del tensor de salida. Por lo tanto, `self.decoder_output_layer` el tamaño de la feature es `kwargs[\"input_shape\"]`, lo que indica que reconstruye la entrada de datos.\n",
    "* `forward` define la secuencia para un modelo.\n",
    "\n",
    "Instanciemos nuestra clase `AE`"
   ]
  },
  {
   "cell_type": "code",
   "execution_count": 2,
   "metadata": {},
   "outputs": [
    {
     "name": "stderr",
     "output_type": "stream",
     "text": [
      "/usr/local/lib/python3.8/dist-packages/torch/cuda/__init__.py:52: UserWarning: CUDA initialization: Found no NVIDIA driver on your system. Please check that you have an NVIDIA GPU and installed a driver from http://www.nvidia.com/Download/index.aspx (Triggered internally at  /pytorch/c10/cuda/CUDAFunctions.cpp:100.)\n",
      "  return torch._C._cuda_getDeviceCount() > 0\n"
     ]
    }
   ],
   "source": [
    "#  use gpu if available\n",
    "device = torch.device(\"cuda\" if torch.cuda.is_available() else \"cpu\")\n",
    "\n",
    "# create a model from `AE` autoencoder class\n",
    "# load it to the specified device, either gpu or cpu\n",
    "model = AE(input_shape=784).to(device)\n",
    "\n",
    "# create an optimizer object\n",
    "# Adam optimizer with learning rate 1e-3\n",
    "optimizer = optim.Adam(model.parameters(), lr=1e-3)\n",
    "\n",
    "# mean-squared error loss\n",
    "criterion = nn.MSELoss()"
   ]
  },
  {
   "cell_type": "markdown",
   "metadata": {},
   "source": [
    "Probaremos nuestro autoencoder con nuestra base de datos de cabecera, MNIST."
   ]
  },
  {
   "cell_type": "code",
   "execution_count": 3,
   "metadata": {},
   "outputs": [],
   "source": [
    "#clase de torchvision que concatena transformaciones en este caso ToTensor(es obvio) y Normalize(Normaliza un tensor de imagen a una media y desviación )\n",
    "transform = transforms.Compose([transforms.ToTensor(),\n",
    "                                transforms.Normalize((0.5),(0.5))])\n",
    "# descargamos el dataset MNIST, lo marcamos como entrenador y aplicamos las transformaciones\n",
    "train_dataset = datasets.MNIST('MNIST_data/', download=True, train=True, transform=transform)\n",
    "# descargamos el dataset, lo marcamos como no entrenador\n",
    "test_dataset = datasets.MNIST('MNIST_data', train=False, transform=transform, download=True)\n",
    "\n",
    "# Generamos un iterador de Torch que suporta todas las operaciones de la libreria.\n",
    "train_loader = torch.utils.data.DataLoader(train_dataset, batch_size=128, shuffle=True, num_workers=4, pin_memory=True) \n",
    "#batch_size cuantas muestras por lote serán cargadas (default = 1)\n",
    "\n",
    "\n",
    "test_loader = torch.utils.data.DataLoader(test_dataset, batch_size=32, shuffle=False, num_workers=4)"
   ]
  },
  {
   "cell_type": "markdown",
   "metadata": {},
   "source": [
    "Ahora entrenemos al autoencoder."
   ]
  },
  {
   "cell_type": "code",
   "execution_count": 4,
   "metadata": {},
   "outputs": [
    {
     "name": "stdout",
     "output_type": "stream",
     "text": [
      "epoch : 1/20, loss = 0.909253\n",
      "epoch : 2/20, loss = 0.895383\n",
      "epoch : 3/20, loss = 0.892723\n",
      "epoch : 4/20, loss = 0.891572\n",
      "epoch : 5/20, loss = 0.891031\n",
      "epoch : 6/20, loss = 0.890781\n",
      "epoch : 7/20, loss = 0.890642\n",
      "epoch : 8/20, loss = 0.890539\n",
      "epoch : 9/20, loss = 0.890377\n",
      "epoch : 10/20, loss = 0.890239\n",
      "epoch : 11/20, loss = 0.890173\n",
      "epoch : 12/20, loss = 0.890129\n",
      "epoch : 13/20, loss = 0.890074\n",
      "epoch : 14/20, loss = 0.890033\n",
      "epoch : 15/20, loss = 0.889978\n",
      "epoch : 16/20, loss = 0.889950\n",
      "epoch : 17/20, loss = 0.889900\n",
      "epoch : 18/20, loss = 0.889880\n",
      "epoch : 19/20, loss = 0.889833\n",
      "epoch : 20/20, loss = 0.889804\n"
     ]
    }
   ],
   "source": [
    "epochs = 20\n",
    "for epoch in range(epochs):\n",
    "    loss = 0\n",
    "    for batch_features, _ in train_loader:\n",
    "        # reshape mini-batch data to [N, 784] matrix\n",
    "        # load it to the active device\n",
    "        batch_features = batch_features.view(-1, 784).to(device)\n",
    "        \n",
    "        # reset the gradients back to zero\n",
    "        # PyTorch accumulates gradients on subsequent backward passes\n",
    "        optimizer.zero_grad()\n",
    "        \n",
    "        # compute reconstructions\n",
    "        outputs = model(batch_features)\n",
    "        \n",
    "        # compute training reconstruction loss\n",
    "        train_loss = criterion(outputs, batch_features)\n",
    "        \n",
    "        # compute accumulated gradients\n",
    "        train_loss.backward()\n",
    "        \n",
    "        # perform parameter update based on current gradients\n",
    "        optimizer.step()\n",
    "        \n",
    "        # add the mini-batch training loss to epoch loss\n",
    "        loss += train_loss.item()\n",
    "    \n",
    "    # compute the epoch training loss\n",
    "    loss = loss / len(train_loader)\n",
    "    \n",
    "    # display the epoch training loss\n",
    "    print(\"epoch : {}/{}, loss = {:.6f}\".format(epoch + 1, epochs, loss))"
   ]
  },
  {
   "cell_type": "markdown",
   "metadata": {},
   "source": [
    "Vemos los resultados."
   ]
  },
  {
   "cell_type": "code",
   "execution_count": 5,
   "metadata": {},
   "outputs": [],
   "source": [
    "images, labels = next(iter(train_loader))\n",
    "image = images.view(-1,784)\n",
    "# Apagamos lo gradientes porque es una prueba\n",
    "with torch.no_grad():\n",
    "    recon = model(image)"
   ]
  },
  {
   "cell_type": "code",
   "execution_count": 6,
   "metadata": {},
   "outputs": [
    {
     "data": {
      "text/plain": [
       "<matplotlib.image.AxesImage at 0x7fc7f2b00070>"
      ]
     },
     "execution_count": 6,
     "metadata": {},
     "output_type": "execute_result"
    },
    {
     "data": {
      "image/png": "[encoded data removed]",
      "text/plain": [
       "<Figure size 432x288 with 1 Axes>"
      ]
     },
     "metadata": {
      "image/png": {
       "height": 248,
       "width": 251
      },
      "needs_background": "light"
     },
     "output_type": "display_data"
    }
   ],
   "source": [
    "plt.imshow(image[1].view(-1,28).numpy().squeeze(), cmap='gray')"
   ]
  },
  {
   "cell_type": "code",
   "execution_count": 7,
   "metadata": {},
   "outputs": [
    {
     "data": {
      "text/plain": [
       "<matplotlib.image.AxesImage at 0x7fc7f2ad6c40>"
      ]
     },
     "execution_count": 7,
     "metadata": {},
     "output_type": "execute_result"
    },
    {
     "data": {
      "image/png": "[encoded data removed]",
      "text/plain": [
       "<Figure size 432x288 with 1 Axes>"
      ]
     },
     "metadata": {
      "image/png": {
       "height": 248,
       "width": 251
      },
      "needs_background": "light"
     },
     "output_type": "display_data"
    }
   ],
   "source": [
    "plt.imshow(recon[1].view(-1,28).numpy().squeeze(), cmap='gray')"
   ]
  },
  {
   "cell_type": "code",
   "execution_count": null,
   "metadata": {},
   "outputs": [],
   "source": []
  }
 ],
 "metadata": {
  "kernelspec": {
   "display_name": "Python 3",
   "language": "python",
   "name": "python3"
  },
  "language_info": {
   "codemirror_mode": {
    "name": "ipython",
    "version": 3
   },
   "file_extension": ".py",
   "mimetype": "text/x-python",
   "name": "python",
   "nbconvert_exporter": "python",
   "pygments_lexer": "ipython3",
   "version": "3.8.5"
  }
 },
 "nbformat": 4,
 "nbformat_minor": 4
}
